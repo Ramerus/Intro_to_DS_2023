{
 "cells": [
  {
   "cell_type": "markdown",
   "metadata": {},
   "source": [
    "## Skoltech\n",
    "## Intro to data science, fall 2023\n",
    "## Assigment 2\n",
    "\n",
    "### Goals\n",
    "- Make exploratory data analysis\n",
    "- Apply feature engineering and feature selection\n",
    "- Try to solve classification task and use classification performance metrics\n",
    "- Get the taste of gradient boosting approach\n",
    "\n",
    "## Each student has personal set of questions\n",
    "\n",
    "Google sheet with personal questions: https://docs.google.com/spreadsheets/d/1fQukrrzswoaoP633130mDMU0f4sOR4dY8Ai-AssnNDE/edit?usp=sharing\n",
    "\n",
    "Every column corresponds to a single question, every row to a single student.\n",
    "\n",
    "A lot of questions do not have individual tasks, so everybody need to complete them (if they are not in the table with individual tasks).\n",
    "\n",
    "For example, Addisu Zena need to report questions **1.1, 1.2; 2; 3.2, 3.4, 3.5 etc.**\n",
    "\n",
    "# Submiting the answers\n",
    "\n",
    "Google form to submit your answers: https://forms.gle/EFhJ9ovtQUVdQRNY6\n",
    "\n",
    "Use your **skoltech email**. For Name, Surname use **exactly the same spelling** as in canvas system.\n",
    "\n",
    "---\n",
    "\n",
    "If your answer is a ``float number``, then it must be provided with **3 decimals after the floating point**, e.g. 1.234\n",
    "\n",
    "---\n",
    "\n",
    "If your answer is a ``list of float or integer numbers or str``, then they should be reported in descending (alphabetical) order,  divided by a comma, e.g.:\n",
    "\n",
    "10.453,9.112,5.001,5.000\n",
    "\n",
    "---\n",
    "\n",
    "The last part (Q20) as long as open questions (9, 18.3, 19) do not have corresponding fields in the google form. They are **not optional** and will be graded manually from your .ipynb file.\n",
    "\n",
    "---\n",
    "\n",
    "# Grading\n",
    "\n",
    "For each correct answer from the google form you will get 1 point. The points for Q19 and Q20 are written near the questions.\n",
    "\n",
    "**Note: the notebook should be linearly executable (restart and run all should work).**\n",
    "\n",
    "If you have any questions regarding this Home Assignment, ask them in HW2 topic course telegram chat."
   ]
  },
  {
   "cell_type": "markdown",
   "metadata": {},
   "source": [
    "#### Import basic libraries"
   ]
  },
  {
   "cell_type": "code",
   "execution_count": 1,
   "metadata": {},
   "outputs": [],
   "source": [
    "# !pip install ucimlrepo"
   ]
  },
  {
   "cell_type": "code",
   "execution_count": 2,
   "metadata": {
    "id": "IxQ5oO5xbtyW"
   },
   "outputs": [],
   "source": [
    "import pandas as pd\n",
    "import numpy as np\n",
    "from sklearn.model_selection import train_test_split\n",
    "from sklearn.preprocessing import StandardScaler\n",
    "import matplotlib.pyplot as plt\n",
    "%matplotlib inline\n",
    "import seaborn as sns\n",
    "sns.set();\n",
    "\n",
    "from ucimlrepo import fetch_ucirepo "
   ]
  },
  {
   "cell_type": "code",
   "execution_count": 3,
   "metadata": {},
   "outputs": [],
   "source": [
    "class DataScience:\n",
    "\n",
    "\n",
    "    def missing_zero_values_table(self, df):\n",
    "        zero_val = (df == 0.00).astype(int).sum(axis=0)\n",
    "        mis_val = df.isnull().sum()\n",
    "        mis_val_percent = 100 * df.isnull().sum() / len(df)\n",
    "        mz_table = pd.concat([zero_val, mis_val, mis_val_percent], axis=1)\n",
    "        mz_table = mz_table.rename(\n",
    "            columns={0: 'Zero Values', 1: 'Missing Values', 2: '% of Total Values'})\n",
    "        mz_table['Total Zero Missing Values'] = mz_table['Zero Values'] + mz_table['Missing Values']\n",
    "        mz_table['% Total Zero Missing Values'] = 100 * mz_table['Total Zero Missing Values'] / len(df)\n",
    "        mz_table['Data Type'] = df.dtypes\n",
    "        mz_table = mz_table[\n",
    "            mz_table.iloc[:, 1] != 0].sort_values(\n",
    "            '% of Total Values', ascending=False).round(1)\n",
    "        print(\"Your selected dataframe has \" + str(df.shape[1]) + \" columns and \" + str(df.shape[0]) + \" Rows.\\n\"\n",
    "                                                                                                       \"There are \" + str(\n",
    "            mz_table.shape[0]) +\n",
    "              \" columns that have missing values.\")\n",
    "\n",
    "        return mz_table\n",
    "\n",
    "    \n",
    "    def sns_draw(self, data, parametr, bins=30):\n",
    "        fig = plt.figure(figsize=(15, 6), dpi= 80)\n",
    "        grid = plt.GridSpec(4, 4, hspace=0.5, wspace=0.2)\n",
    "        ax_main = fig.add_subplot(grid[:-1, :-1])\n",
    "        ax_right = fig.add_subplot(grid[:-1, -1])  \n",
    "        sns.distplot(data[parametr], ax=ax_main)\n",
    "        sns.boxplot(data[parametr], ax=ax_right)\n",
    "        ax_right.grid(axis='y')\n",
    "        ax_main.set(title='График '+parametr)\n",
    "        ax_main.axvline(np.mean(data[parametr]),color='g', linestyle='--', label='Среднее')\n",
    "        ax_main.axvline(np.median(data[parametr]),color='g', linestyle='-', label='Медиана')\n",
    "        ax_main.legend()\n",
    "        fig.show()\n",
    "    \n",
    "    \n",
    "    def plot_feature_importance(self,importance,names,model_type):\n",
    "\n",
    "        feature_importance = np.array(importance)\n",
    "        feature_names = np.array(names)\n",
    "\n",
    "        #Create a DataFrame using a Dictionary\n",
    "        data={'feature_names':feature_names,'feature_importance':feature_importance}\n",
    "        fi_df = pd.DataFrame(data)\n",
    "\n",
    "        #Sort the DataFrame in order decreasing feature importance\n",
    "        fi_df.sort_values(by=['feature_importance'], ascending=False,inplace=True)\n",
    "\n",
    "        #Define size of bar plot\n",
    "        plt.figure(figsize=(10,8))\n",
    "        #Plot Searborn bar chart\n",
    "        sns.barplot(x=fi_df['feature_importance'], y=fi_df['feature_names'])\n",
    "        #Add chart labels\n",
    "        plt.title(model_type + 'FEATURE IMPORTANCE')\n",
    "        plt.xlabel('FEATURE IMPORTANCE')\n",
    "        plt.ylabel('FEATURE NAMES')\n",
    "        \n",
    "    def fit(self,train_features, train_actuals):\n",
    "        for name in models.keys():\n",
    "            est = models[name]\n",
    "            est_params = params[name]\n",
    "            gscv = GridSearchCV(estimator=est, param_grid=est_params, cv=5)\n",
    "            gscv.fit(train_features, train_actuals)\n",
    "            train_predictions = gscv.predict(features_train)\n",
    "            predictions = gscv.predict(features_test)\n",
    "            result_list.append({\n",
    "            'model': name,\n",
    "            'train_mae_score': mean_absolute_error(target_train, train_predictions),\n",
    "            'test_mae_score': mean_absolute_error(target_test, predictions),\n",
    "            'best_params': gscv.best_params_\n",
    "            })\n",
    "            \n",
    "    \n",
    "    def dataset_info(self,data):\n",
    "        data.info()\n",
    "        display(data.head(10))\n",
    "        display(data.describe())\n",
    "        print('Количество дубликатов:', data.duplicated().sum())\n",
    "    \n",
    "\n",
    "            \n",
    "ds = DataScience()"
   ]
  },
  {
   "cell_type": "code",
   "execution_count": 4,
   "metadata": {},
   "outputs": [],
   "source": [
    "def checktype(obj):\n",
    "        return bool(obj) and all(isinstance(elem, str) for elem in obj)\n",
    "    \n",
    "def list_answer(answers):\n",
    "    '''\n",
    "    answers -- list with any format\n",
    "    \n",
    "    print answers in HW1 format\n",
    "    '''\n",
    "    if checktype(answers):\n",
    "        answers.sort()\n",
    "    else:\n",
    "        answers.sort(reverse=True)\n",
    "    for i in answers:\n",
    "        if i != answers[-1]:\n",
    "            print(i, end=',')\n",
    "        else:\n",
    "            print(i)"
   ]
  },
  {
   "cell_type": "markdown",
   "metadata": {},
   "source": [
    "### Dataset\n",
    "For the task we'll use Bank Marketing dataset. It contains marketing campaigns (phone calls) of a Portuguese banking institution. The classification goal is to predict if the client will subscribe a term deposit (variable y). A detailed description is available here: https://archive.ics.uci.edu/dataset/222/bank+marketing. \n",
    "Let's take a brief look to the dataset."
   ]
  },
  {
   "cell_type": "code",
   "execution_count": 5,
   "metadata": {
    "scrolled": true
   },
   "outputs": [
    {
     "name": "stdout",
     "output_type": "stream",
     "text": [
      "{'uci_id': 222, 'name': 'Bank Marketing', 'repository_url': 'https://archive.ics.uci.edu/dataset/222/bank+marketing', 'data_url': 'https://archive.ics.uci.edu/static/public/222/data.csv', 'abstract': 'The data is related with direct marketing campaigns (phone calls) of a Portuguese banking institution. The classification goal is to predict if the client will subscribe a term deposit (variable y).', 'area': 'Business', 'tasks': ['Classification'], 'characteristics': ['Multivariate'], 'num_instances': 45211, 'num_features': 16, 'feature_types': ['Categorical', 'Integer'], 'demographics': ['Age', 'Occupation', 'Marital Status', 'Education Level'], 'target_col': ['y'], 'index_col': None, 'has_missing_values': 'yes', 'missing_values_symbol': 'NaN', 'year_of_dataset_creation': 2014, 'last_updated': 'Fri Aug 18 2023', 'dataset_doi': '10.24432/C5K306', 'creators': ['S. Moro', 'P. Rita', 'P. Cortez'], 'intro_paper': {'title': 'A data-driven approach to predict the success of bank telemarketing', 'authors': 'Sérgio Moro, P. Cortez, P. Rita', 'published_in': 'Decision Support Systems', 'year': 2014, 'url': 'https://www.semanticscholar.org/paper/cab86052882d126d43f72108c6cb41b295cc8a9e', 'doi': '10.1016/j.dss.2014.03.001'}, 'additional_info': {'summary': \"The data is related with direct marketing campaigns of a Portuguese banking institution. The marketing campaigns were based on phone calls. Often, more than one contact to the same client was required, in order to access if the product (bank term deposit) would be ('yes') or not ('no') subscribed. \\n\\nThere are four datasets: \\n1) bank-additional-full.csv with all examples (41188) and 20 inputs, ordered by date (from May 2008 to November 2010), very close to the data analyzed in [Moro et al., 2014]\\n2) bank-additional.csv with 10% of the examples (4119), randomly selected from 1), and 20 inputs.\\n3) bank-full.csv with all examples and 17 inputs, ordered by date (older version of this dataset with less inputs). \\n4) bank.csv with 10% of the examples and 17 inputs, randomly selected from 3 (older version of this dataset with less inputs). \\nThe smallest datasets are provided to test more computationally demanding machine learning algorithms (e.g., SVM). \\n\\nThe classification goal is to predict if the client will subscribe (yes/no) a term deposit (variable y).\", 'purpose': None, 'funded_by': None, 'instances_represent': None, 'recommended_data_splits': None, 'sensitive_data': None, 'preprocessing_description': None, 'variable_info': 'Input variables:\\n   # bank client data:\\n   1 - age (numeric)\\n   2 - job : type of job (categorical: \"admin.\",\"unknown\",\"unemployed\",\"management\",\"housemaid\",\"entrepreneur\",\"student\",\\n                                       \"blue-collar\",\"self-employed\",\"retired\",\"technician\",\"services\") \\n   3 - marital : marital status (categorical: \"married\",\"divorced\",\"single\"; note: \"divorced\" means divorced or widowed)\\n   4 - education (categorical: \"unknown\",\"secondary\",\"primary\",\"tertiary\")\\n   5 - default: has credit in default? (binary: \"yes\",\"no\")\\n   6 - balance: average yearly balance, in euros (numeric) \\n   7 - housing: has housing loan? (binary: \"yes\",\"no\")\\n   8 - loan: has personal loan? (binary: \"yes\",\"no\")\\n   # related with the last contact of the current campaign:\\n   9 - contact: contact communication type (categorical: \"unknown\",\"telephone\",\"cellular\") \\n  10 - day: last contact day of the month (numeric)\\n  11 - month: last contact month of year (categorical: \"jan\", \"feb\", \"mar\", ..., \"nov\", \"dec\")\\n  12 - duration: last contact duration, in seconds (numeric)\\n   # other attributes:\\n  13 - campaign: number of contacts performed during this campaign and for this client (numeric, includes last contact)\\n  14 - pdays: number of days that passed by after the client was last contacted from a previous campaign (numeric, -1 means client was not previously contacted)\\n  15 - previous: number of contacts performed before this campaign and for this client (numeric)\\n  16 - poutcome: outcome of the previous marketing campaign (categorical: \"unknown\",\"other\",\"failure\",\"success\")\\n\\n  Output variable (desired target):\\n  17 - y - has the client subscribed a term deposit? (binary: \"yes\",\"no\")\\n', 'citation': None}}\n",
      "           name     role         type      demographic  \\\n",
      "0           age  Feature      Integer              Age   \n",
      "1           job  Feature  Categorical       Occupation   \n",
      "2       marital  Feature  Categorical   Marital Status   \n",
      "3     education  Feature  Categorical  Education Level   \n",
      "4       default  Feature       Binary             None   \n",
      "5       balance  Feature      Integer             None   \n",
      "6       housing  Feature       Binary             None   \n",
      "7          loan  Feature       Binary             None   \n",
      "8       contact  Feature  Categorical             None   \n",
      "9   day_of_week  Feature         Date             None   \n",
      "10        month  Feature         Date             None   \n",
      "11     duration  Feature      Integer             None   \n",
      "12     campaign  Feature      Integer             None   \n",
      "13        pdays  Feature      Integer             None   \n",
      "14     previous  Feature      Integer             None   \n",
      "15     poutcome  Feature  Categorical             None   \n",
      "16            y   Target       Binary             None   \n",
      "\n",
      "                                          description  units missing_values  \n",
      "0                                                None   None             no  \n",
      "1   type of job (categorical: 'admin.','blue-colla...   None             no  \n",
      "2   marital status (categorical: 'divorced','marri...   None             no  \n",
      "3   (categorical: 'basic.4y','basic.6y','basic.9y'...   None             no  \n",
      "4                              has credit in default?   None             no  \n",
      "5                              average yearly balance  euros             no  \n",
      "6                                   has housing loan?   None             no  \n",
      "7                                  has personal loan?   None             no  \n",
      "8   contact communication type (categorical: 'cell...   None            yes  \n",
      "9                        last contact day of the week   None             no  \n",
      "10  last contact month of year (categorical: 'jan'...   None             no  \n",
      "11   last contact duration, in seconds (numeric). ...   None             no  \n",
      "12  number of contacts performed during this campa...   None             no  \n",
      "13  number of days that passed by after the client...   None            yes  \n",
      "14  number of contacts performed before this campa...   None             no  \n",
      "15  outcome of the previous marketing campaign (ca...   None            yes  \n",
      "16          has the client subscribed a term deposit?   None             no  \n"
     ]
    }
   ],
   "source": [
    "# fetch dataset \n",
    "bank_marketing = fetch_ucirepo(id=222) \n",
    "  \n",
    "# data (as pandas dataframes) \n",
    "df = bank_marketing.data.features \n",
    "y = bank_marketing.data.targets \n",
    "  \n",
    "# metadata \n",
    "print(bank_marketing.metadata) \n",
    "  \n",
    "# variable information \n",
    "print(bank_marketing.variables) \n"
   ]
  },
  {
   "cell_type": "code",
   "execution_count": 6,
   "metadata": {
    "colab": {
     "base_uri": "https://localhost:8080/",
     "height": 431
    },
    "id": "bA52wUNelGmZ",
    "outputId": "2258994a-956f-47fd-e295-7ecda8077687"
   },
   "outputs": [
    {
     "data": {
      "text/html": [
       "<div>\n",
       "<style scoped>\n",
       "    .dataframe tbody tr th:only-of-type {\n",
       "        vertical-align: middle;\n",
       "    }\n",
       "\n",
       "    .dataframe tbody tr th {\n",
       "        vertical-align: top;\n",
       "    }\n",
       "\n",
       "    .dataframe thead th {\n",
       "        text-align: right;\n",
       "    }\n",
       "</style>\n",
       "<table border=\"1\" class=\"dataframe\">\n",
       "  <thead>\n",
       "    <tr style=\"text-align: right;\">\n",
       "      <th></th>\n",
       "      <th>age</th>\n",
       "      <th>job</th>\n",
       "      <th>marital</th>\n",
       "      <th>education</th>\n",
       "      <th>default</th>\n",
       "      <th>balance</th>\n",
       "      <th>housing</th>\n",
       "      <th>loan</th>\n",
       "      <th>contact</th>\n",
       "      <th>day_of_week</th>\n",
       "      <th>month</th>\n",
       "      <th>duration</th>\n",
       "      <th>campaign</th>\n",
       "      <th>pdays</th>\n",
       "      <th>previous</th>\n",
       "      <th>poutcome</th>\n",
       "    </tr>\n",
       "  </thead>\n",
       "  <tbody>\n",
       "    <tr>\n",
       "      <th>33426</th>\n",
       "      <td>31</td>\n",
       "      <td>management</td>\n",
       "      <td>single</td>\n",
       "      <td>tertiary</td>\n",
       "      <td>no</td>\n",
       "      <td>587</td>\n",
       "      <td>yes</td>\n",
       "      <td>no</td>\n",
       "      <td>cellular</td>\n",
       "      <td>20</td>\n",
       "      <td>apr</td>\n",
       "      <td>16</td>\n",
       "      <td>4</td>\n",
       "      <td>-1</td>\n",
       "      <td>0</td>\n",
       "      <td>NaN</td>\n",
       "    </tr>\n",
       "    <tr>\n",
       "      <th>24656</th>\n",
       "      <td>48</td>\n",
       "      <td>admin.</td>\n",
       "      <td>married</td>\n",
       "      <td>secondary</td>\n",
       "      <td>no</td>\n",
       "      <td>2707</td>\n",
       "      <td>no</td>\n",
       "      <td>no</td>\n",
       "      <td>cellular</td>\n",
       "      <td>17</td>\n",
       "      <td>nov</td>\n",
       "      <td>212</td>\n",
       "      <td>2</td>\n",
       "      <td>-1</td>\n",
       "      <td>0</td>\n",
       "      <td>NaN</td>\n",
       "    </tr>\n",
       "    <tr>\n",
       "      <th>9598</th>\n",
       "      <td>36</td>\n",
       "      <td>self-employed</td>\n",
       "      <td>married</td>\n",
       "      <td>tertiary</td>\n",
       "      <td>no</td>\n",
       "      <td>16430</td>\n",
       "      <td>yes</td>\n",
       "      <td>no</td>\n",
       "      <td>NaN</td>\n",
       "      <td>6</td>\n",
       "      <td>jun</td>\n",
       "      <td>197</td>\n",
       "      <td>3</td>\n",
       "      <td>-1</td>\n",
       "      <td>0</td>\n",
       "      <td>NaN</td>\n",
       "    </tr>\n",
       "    <tr>\n",
       "      <th>19014</th>\n",
       "      <td>59</td>\n",
       "      <td>retired</td>\n",
       "      <td>married</td>\n",
       "      <td>secondary</td>\n",
       "      <td>no</td>\n",
       "      <td>12438</td>\n",
       "      <td>no</td>\n",
       "      <td>no</td>\n",
       "      <td>cellular</td>\n",
       "      <td>5</td>\n",
       "      <td>aug</td>\n",
       "      <td>91</td>\n",
       "      <td>1</td>\n",
       "      <td>-1</td>\n",
       "      <td>0</td>\n",
       "      <td>NaN</td>\n",
       "    </tr>\n",
       "    <tr>\n",
       "      <th>3906</th>\n",
       "      <td>36</td>\n",
       "      <td>management</td>\n",
       "      <td>single</td>\n",
       "      <td>tertiary</td>\n",
       "      <td>no</td>\n",
       "      <td>146</td>\n",
       "      <td>yes</td>\n",
       "      <td>no</td>\n",
       "      <td>NaN</td>\n",
       "      <td>16</td>\n",
       "      <td>may</td>\n",
       "      <td>1161</td>\n",
       "      <td>3</td>\n",
       "      <td>-1</td>\n",
       "      <td>0</td>\n",
       "      <td>NaN</td>\n",
       "    </tr>\n",
       "  </tbody>\n",
       "</table>\n",
       "</div>"
      ],
      "text/plain": [
       "       age            job  marital  education default  balance housing loan  \\\n",
       "33426   31     management   single   tertiary      no      587     yes   no   \n",
       "24656   48         admin.  married  secondary      no     2707      no   no   \n",
       "9598    36  self-employed  married   tertiary      no    16430     yes   no   \n",
       "19014   59        retired  married  secondary      no    12438      no   no   \n",
       "3906    36     management   single   tertiary      no      146     yes   no   \n",
       "\n",
       "        contact  day_of_week month  duration  campaign  pdays  previous  \\\n",
       "33426  cellular           20   apr        16         4     -1         0   \n",
       "24656  cellular           17   nov       212         2     -1         0   \n",
       "9598        NaN            6   jun       197         3     -1         0   \n",
       "19014  cellular            5   aug        91         1     -1         0   \n",
       "3906        NaN           16   may      1161         3     -1         0   \n",
       "\n",
       "      poutcome  \n",
       "33426      NaN  \n",
       "24656      NaN  \n",
       "9598       NaN  \n",
       "19014      NaN  \n",
       "3906       NaN  "
      ]
     },
     "execution_count": 6,
     "metadata": {},
     "output_type": "execute_result"
    }
   ],
   "source": [
    "df.sample(5)"
   ]
  },
  {
   "cell_type": "code",
   "execution_count": 7,
   "metadata": {},
   "outputs": [
    {
     "data": {
      "text/plain": [
       "(45211, 16)"
      ]
     },
     "execution_count": 7,
     "metadata": {},
     "output_type": "execute_result"
    }
   ],
   "source": [
    "df.shape"
   ]
  },
  {
   "cell_type": "markdown",
   "metadata": {},
   "source": [
    "# Section 1. Dataset acquaintance"
   ]
  },
  {
   "cell_type": "markdown",
   "metadata": {},
   "source": [
    "-----\n",
    "## Q1\n",
    "#### 1.1 How many NaN values are there in the dataset?\n",
    "#### 1.2 What is the highest number of NaN values in a single column?\n",
    "#### 1.3 What is the name of the column with the smallest number (>0) of NaN values?"
   ]
  },
  {
   "cell_type": "code",
   "execution_count": 8,
   "metadata": {
    "scrolled": true
   },
   "outputs": [
    {
     "name": "stdout",
     "output_type": "stream",
     "text": [
      "<class 'pandas.core.frame.DataFrame'>\n",
      "RangeIndex: 45211 entries, 0 to 45210\n",
      "Data columns (total 16 columns):\n",
      " #   Column       Non-Null Count  Dtype \n",
      "---  ------       --------------  ----- \n",
      " 0   age          45211 non-null  int64 \n",
      " 1   job          44923 non-null  object\n",
      " 2   marital      45211 non-null  object\n",
      " 3   education    43354 non-null  object\n",
      " 4   default      45211 non-null  object\n",
      " 5   balance      45211 non-null  int64 \n",
      " 6   housing      45211 non-null  object\n",
      " 7   loan         45211 non-null  object\n",
      " 8   contact      32191 non-null  object\n",
      " 9   day_of_week  45211 non-null  int64 \n",
      " 10  month        45211 non-null  object\n",
      " 11  duration     45211 non-null  int64 \n",
      " 12  campaign     45211 non-null  int64 \n",
      " 13  pdays        45211 non-null  int64 \n",
      " 14  previous     45211 non-null  int64 \n",
      " 15  poutcome     8252 non-null   object\n",
      "dtypes: int64(7), object(9)\n",
      "memory usage: 5.5+ MB\n"
     ]
    },
    {
     "data": {
      "text/html": [
       "<div>\n",
       "<style scoped>\n",
       "    .dataframe tbody tr th:only-of-type {\n",
       "        vertical-align: middle;\n",
       "    }\n",
       "\n",
       "    .dataframe tbody tr th {\n",
       "        vertical-align: top;\n",
       "    }\n",
       "\n",
       "    .dataframe thead th {\n",
       "        text-align: right;\n",
       "    }\n",
       "</style>\n",
       "<table border=\"1\" class=\"dataframe\">\n",
       "  <thead>\n",
       "    <tr style=\"text-align: right;\">\n",
       "      <th></th>\n",
       "      <th>age</th>\n",
       "      <th>job</th>\n",
       "      <th>marital</th>\n",
       "      <th>education</th>\n",
       "      <th>default</th>\n",
       "      <th>balance</th>\n",
       "      <th>housing</th>\n",
       "      <th>loan</th>\n",
       "      <th>contact</th>\n",
       "      <th>day_of_week</th>\n",
       "      <th>month</th>\n",
       "      <th>duration</th>\n",
       "      <th>campaign</th>\n",
       "      <th>pdays</th>\n",
       "      <th>previous</th>\n",
       "      <th>poutcome</th>\n",
       "    </tr>\n",
       "  </thead>\n",
       "  <tbody>\n",
       "    <tr>\n",
       "      <th>0</th>\n",
       "      <td>58</td>\n",
       "      <td>management</td>\n",
       "      <td>married</td>\n",
       "      <td>tertiary</td>\n",
       "      <td>no</td>\n",
       "      <td>2143</td>\n",
       "      <td>yes</td>\n",
       "      <td>no</td>\n",
       "      <td>NaN</td>\n",
       "      <td>5</td>\n",
       "      <td>may</td>\n",
       "      <td>261</td>\n",
       "      <td>1</td>\n",
       "      <td>-1</td>\n",
       "      <td>0</td>\n",
       "      <td>NaN</td>\n",
       "    </tr>\n",
       "    <tr>\n",
       "      <th>1</th>\n",
       "      <td>44</td>\n",
       "      <td>technician</td>\n",
       "      <td>single</td>\n",
       "      <td>secondary</td>\n",
       "      <td>no</td>\n",
       "      <td>29</td>\n",
       "      <td>yes</td>\n",
       "      <td>no</td>\n",
       "      <td>NaN</td>\n",
       "      <td>5</td>\n",
       "      <td>may</td>\n",
       "      <td>151</td>\n",
       "      <td>1</td>\n",
       "      <td>-1</td>\n",
       "      <td>0</td>\n",
       "      <td>NaN</td>\n",
       "    </tr>\n",
       "    <tr>\n",
       "      <th>2</th>\n",
       "      <td>33</td>\n",
       "      <td>entrepreneur</td>\n",
       "      <td>married</td>\n",
       "      <td>secondary</td>\n",
       "      <td>no</td>\n",
       "      <td>2</td>\n",
       "      <td>yes</td>\n",
       "      <td>yes</td>\n",
       "      <td>NaN</td>\n",
       "      <td>5</td>\n",
       "      <td>may</td>\n",
       "      <td>76</td>\n",
       "      <td>1</td>\n",
       "      <td>-1</td>\n",
       "      <td>0</td>\n",
       "      <td>NaN</td>\n",
       "    </tr>\n",
       "    <tr>\n",
       "      <th>3</th>\n",
       "      <td>47</td>\n",
       "      <td>blue-collar</td>\n",
       "      <td>married</td>\n",
       "      <td>NaN</td>\n",
       "      <td>no</td>\n",
       "      <td>1506</td>\n",
       "      <td>yes</td>\n",
       "      <td>no</td>\n",
       "      <td>NaN</td>\n",
       "      <td>5</td>\n",
       "      <td>may</td>\n",
       "      <td>92</td>\n",
       "      <td>1</td>\n",
       "      <td>-1</td>\n",
       "      <td>0</td>\n",
       "      <td>NaN</td>\n",
       "    </tr>\n",
       "    <tr>\n",
       "      <th>4</th>\n",
       "      <td>33</td>\n",
       "      <td>NaN</td>\n",
       "      <td>single</td>\n",
       "      <td>NaN</td>\n",
       "      <td>no</td>\n",
       "      <td>1</td>\n",
       "      <td>no</td>\n",
       "      <td>no</td>\n",
       "      <td>NaN</td>\n",
       "      <td>5</td>\n",
       "      <td>may</td>\n",
       "      <td>198</td>\n",
       "      <td>1</td>\n",
       "      <td>-1</td>\n",
       "      <td>0</td>\n",
       "      <td>NaN</td>\n",
       "    </tr>\n",
       "    <tr>\n",
       "      <th>5</th>\n",
       "      <td>35</td>\n",
       "      <td>management</td>\n",
       "      <td>married</td>\n",
       "      <td>tertiary</td>\n",
       "      <td>no</td>\n",
       "      <td>231</td>\n",
       "      <td>yes</td>\n",
       "      <td>no</td>\n",
       "      <td>NaN</td>\n",
       "      <td>5</td>\n",
       "      <td>may</td>\n",
       "      <td>139</td>\n",
       "      <td>1</td>\n",
       "      <td>-1</td>\n",
       "      <td>0</td>\n",
       "      <td>NaN</td>\n",
       "    </tr>\n",
       "    <tr>\n",
       "      <th>6</th>\n",
       "      <td>28</td>\n",
       "      <td>management</td>\n",
       "      <td>single</td>\n",
       "      <td>tertiary</td>\n",
       "      <td>no</td>\n",
       "      <td>447</td>\n",
       "      <td>yes</td>\n",
       "      <td>yes</td>\n",
       "      <td>NaN</td>\n",
       "      <td>5</td>\n",
       "      <td>may</td>\n",
       "      <td>217</td>\n",
       "      <td>1</td>\n",
       "      <td>-1</td>\n",
       "      <td>0</td>\n",
       "      <td>NaN</td>\n",
       "    </tr>\n",
       "    <tr>\n",
       "      <th>7</th>\n",
       "      <td>42</td>\n",
       "      <td>entrepreneur</td>\n",
       "      <td>divorced</td>\n",
       "      <td>tertiary</td>\n",
       "      <td>yes</td>\n",
       "      <td>2</td>\n",
       "      <td>yes</td>\n",
       "      <td>no</td>\n",
       "      <td>NaN</td>\n",
       "      <td>5</td>\n",
       "      <td>may</td>\n",
       "      <td>380</td>\n",
       "      <td>1</td>\n",
       "      <td>-1</td>\n",
       "      <td>0</td>\n",
       "      <td>NaN</td>\n",
       "    </tr>\n",
       "    <tr>\n",
       "      <th>8</th>\n",
       "      <td>58</td>\n",
       "      <td>retired</td>\n",
       "      <td>married</td>\n",
       "      <td>primary</td>\n",
       "      <td>no</td>\n",
       "      <td>121</td>\n",
       "      <td>yes</td>\n",
       "      <td>no</td>\n",
       "      <td>NaN</td>\n",
       "      <td>5</td>\n",
       "      <td>may</td>\n",
       "      <td>50</td>\n",
       "      <td>1</td>\n",
       "      <td>-1</td>\n",
       "      <td>0</td>\n",
       "      <td>NaN</td>\n",
       "    </tr>\n",
       "    <tr>\n",
       "      <th>9</th>\n",
       "      <td>43</td>\n",
       "      <td>technician</td>\n",
       "      <td>single</td>\n",
       "      <td>secondary</td>\n",
       "      <td>no</td>\n",
       "      <td>593</td>\n",
       "      <td>yes</td>\n",
       "      <td>no</td>\n",
       "      <td>NaN</td>\n",
       "      <td>5</td>\n",
       "      <td>may</td>\n",
       "      <td>55</td>\n",
       "      <td>1</td>\n",
       "      <td>-1</td>\n",
       "      <td>0</td>\n",
       "      <td>NaN</td>\n",
       "    </tr>\n",
       "  </tbody>\n",
       "</table>\n",
       "</div>"
      ],
      "text/plain": [
       "   age           job   marital  education default  balance housing loan  \\\n",
       "0   58    management   married   tertiary      no     2143     yes   no   \n",
       "1   44    technician    single  secondary      no       29     yes   no   \n",
       "2   33  entrepreneur   married  secondary      no        2     yes  yes   \n",
       "3   47   blue-collar   married        NaN      no     1506     yes   no   \n",
       "4   33           NaN    single        NaN      no        1      no   no   \n",
       "5   35    management   married   tertiary      no      231     yes   no   \n",
       "6   28    management    single   tertiary      no      447     yes  yes   \n",
       "7   42  entrepreneur  divorced   tertiary     yes        2     yes   no   \n",
       "8   58       retired   married    primary      no      121     yes   no   \n",
       "9   43    technician    single  secondary      no      593     yes   no   \n",
       "\n",
       "  contact  day_of_week month  duration  campaign  pdays  previous poutcome  \n",
       "0     NaN            5   may       261         1     -1         0      NaN  \n",
       "1     NaN            5   may       151         1     -1         0      NaN  \n",
       "2     NaN            5   may        76         1     -1         0      NaN  \n",
       "3     NaN            5   may        92         1     -1         0      NaN  \n",
       "4     NaN            5   may       198         1     -1         0      NaN  \n",
       "5     NaN            5   may       139         1     -1         0      NaN  \n",
       "6     NaN            5   may       217         1     -1         0      NaN  \n",
       "7     NaN            5   may       380         1     -1         0      NaN  \n",
       "8     NaN            5   may        50         1     -1         0      NaN  \n",
       "9     NaN            5   may        55         1     -1         0      NaN  "
      ]
     },
     "metadata": {},
     "output_type": "display_data"
    },
    {
     "data": {
      "text/html": [
       "<div>\n",
       "<style scoped>\n",
       "    .dataframe tbody tr th:only-of-type {\n",
       "        vertical-align: middle;\n",
       "    }\n",
       "\n",
       "    .dataframe tbody tr th {\n",
       "        vertical-align: top;\n",
       "    }\n",
       "\n",
       "    .dataframe thead th {\n",
       "        text-align: right;\n",
       "    }\n",
       "</style>\n",
       "<table border=\"1\" class=\"dataframe\">\n",
       "  <thead>\n",
       "    <tr style=\"text-align: right;\">\n",
       "      <th></th>\n",
       "      <th>age</th>\n",
       "      <th>balance</th>\n",
       "      <th>day_of_week</th>\n",
       "      <th>duration</th>\n",
       "      <th>campaign</th>\n",
       "      <th>pdays</th>\n",
       "      <th>previous</th>\n",
       "    </tr>\n",
       "  </thead>\n",
       "  <tbody>\n",
       "    <tr>\n",
       "      <th>count</th>\n",
       "      <td>45211.000000</td>\n",
       "      <td>45211.000000</td>\n",
       "      <td>45211.000000</td>\n",
       "      <td>45211.000000</td>\n",
       "      <td>45211.000000</td>\n",
       "      <td>45211.000000</td>\n",
       "      <td>45211.000000</td>\n",
       "    </tr>\n",
       "    <tr>\n",
       "      <th>mean</th>\n",
       "      <td>40.936210</td>\n",
       "      <td>1362.272058</td>\n",
       "      <td>15.806419</td>\n",
       "      <td>258.163080</td>\n",
       "      <td>2.763841</td>\n",
       "      <td>40.197828</td>\n",
       "      <td>0.580323</td>\n",
       "    </tr>\n",
       "    <tr>\n",
       "      <th>std</th>\n",
       "      <td>10.618762</td>\n",
       "      <td>3044.765829</td>\n",
       "      <td>8.322476</td>\n",
       "      <td>257.527812</td>\n",
       "      <td>3.098021</td>\n",
       "      <td>100.128746</td>\n",
       "      <td>2.303441</td>\n",
       "    </tr>\n",
       "    <tr>\n",
       "      <th>min</th>\n",
       "      <td>18.000000</td>\n",
       "      <td>-8019.000000</td>\n",
       "      <td>1.000000</td>\n",
       "      <td>0.000000</td>\n",
       "      <td>1.000000</td>\n",
       "      <td>-1.000000</td>\n",
       "      <td>0.000000</td>\n",
       "    </tr>\n",
       "    <tr>\n",
       "      <th>25%</th>\n",
       "      <td>33.000000</td>\n",
       "      <td>72.000000</td>\n",
       "      <td>8.000000</td>\n",
       "      <td>103.000000</td>\n",
       "      <td>1.000000</td>\n",
       "      <td>-1.000000</td>\n",
       "      <td>0.000000</td>\n",
       "    </tr>\n",
       "    <tr>\n",
       "      <th>50%</th>\n",
       "      <td>39.000000</td>\n",
       "      <td>448.000000</td>\n",
       "      <td>16.000000</td>\n",
       "      <td>180.000000</td>\n",
       "      <td>2.000000</td>\n",
       "      <td>-1.000000</td>\n",
       "      <td>0.000000</td>\n",
       "    </tr>\n",
       "    <tr>\n",
       "      <th>75%</th>\n",
       "      <td>48.000000</td>\n",
       "      <td>1428.000000</td>\n",
       "      <td>21.000000</td>\n",
       "      <td>319.000000</td>\n",
       "      <td>3.000000</td>\n",
       "      <td>-1.000000</td>\n",
       "      <td>0.000000</td>\n",
       "    </tr>\n",
       "    <tr>\n",
       "      <th>max</th>\n",
       "      <td>95.000000</td>\n",
       "      <td>102127.000000</td>\n",
       "      <td>31.000000</td>\n",
       "      <td>4918.000000</td>\n",
       "      <td>63.000000</td>\n",
       "      <td>871.000000</td>\n",
       "      <td>275.000000</td>\n",
       "    </tr>\n",
       "  </tbody>\n",
       "</table>\n",
       "</div>"
      ],
      "text/plain": [
       "                age        balance   day_of_week      duration      campaign  \\\n",
       "count  45211.000000   45211.000000  45211.000000  45211.000000  45211.000000   \n",
       "mean      40.936210    1362.272058     15.806419    258.163080      2.763841   \n",
       "std       10.618762    3044.765829      8.322476    257.527812      3.098021   \n",
       "min       18.000000   -8019.000000      1.000000      0.000000      1.000000   \n",
       "25%       33.000000      72.000000      8.000000    103.000000      1.000000   \n",
       "50%       39.000000     448.000000     16.000000    180.000000      2.000000   \n",
       "75%       48.000000    1428.000000     21.000000    319.000000      3.000000   \n",
       "max       95.000000  102127.000000     31.000000   4918.000000     63.000000   \n",
       "\n",
       "              pdays      previous  \n",
       "count  45211.000000  45211.000000  \n",
       "mean      40.197828      0.580323  \n",
       "std      100.128746      2.303441  \n",
       "min       -1.000000      0.000000  \n",
       "25%       -1.000000      0.000000  \n",
       "50%       -1.000000      0.000000  \n",
       "75%       -1.000000      0.000000  \n",
       "max      871.000000    275.000000  "
      ]
     },
     "metadata": {},
     "output_type": "display_data"
    },
    {
     "name": "stdout",
     "output_type": "stream",
     "text": [
      "Количество дубликатов: 0\n"
     ]
    }
   ],
   "source": [
    "ds.dataset_info(df)"
   ]
  },
  {
   "cell_type": "code",
   "execution_count": 9,
   "metadata": {
    "scrolled": false
   },
   "outputs": [
    {
     "name": "stdout",
     "output_type": "stream",
     "text": [
      "Your selected dataframe has 16 columns and 45211 Rows.\n",
      "There are 4 columns that have missing values.\n"
     ]
    },
    {
     "data": {
      "text/html": [
       "<div>\n",
       "<style scoped>\n",
       "    .dataframe tbody tr th:only-of-type {\n",
       "        vertical-align: middle;\n",
       "    }\n",
       "\n",
       "    .dataframe tbody tr th {\n",
       "        vertical-align: top;\n",
       "    }\n",
       "\n",
       "    .dataframe thead th {\n",
       "        text-align: right;\n",
       "    }\n",
       "</style>\n",
       "<table border=\"1\" class=\"dataframe\">\n",
       "  <thead>\n",
       "    <tr style=\"text-align: right;\">\n",
       "      <th></th>\n",
       "      <th>Zero Values</th>\n",
       "      <th>Missing Values</th>\n",
       "      <th>% of Total Values</th>\n",
       "      <th>Total Zero Missing Values</th>\n",
       "      <th>% Total Zero Missing Values</th>\n",
       "      <th>Data Type</th>\n",
       "    </tr>\n",
       "  </thead>\n",
       "  <tbody>\n",
       "    <tr>\n",
       "      <th>poutcome</th>\n",
       "      <td>0</td>\n",
       "      <td>36959</td>\n",
       "      <td>81.7</td>\n",
       "      <td>36959</td>\n",
       "      <td>81.7</td>\n",
       "      <td>object</td>\n",
       "    </tr>\n",
       "    <tr>\n",
       "      <th>contact</th>\n",
       "      <td>0</td>\n",
       "      <td>13020</td>\n",
       "      <td>28.8</td>\n",
       "      <td>13020</td>\n",
       "      <td>28.8</td>\n",
       "      <td>object</td>\n",
       "    </tr>\n",
       "    <tr>\n",
       "      <th>education</th>\n",
       "      <td>0</td>\n",
       "      <td>1857</td>\n",
       "      <td>4.1</td>\n",
       "      <td>1857</td>\n",
       "      <td>4.1</td>\n",
       "      <td>object</td>\n",
       "    </tr>\n",
       "    <tr>\n",
       "      <th>job</th>\n",
       "      <td>0</td>\n",
       "      <td>288</td>\n",
       "      <td>0.6</td>\n",
       "      <td>288</td>\n",
       "      <td>0.6</td>\n",
       "      <td>object</td>\n",
       "    </tr>\n",
       "  </tbody>\n",
       "</table>\n",
       "</div>"
      ],
      "text/plain": [
       "           Zero Values  Missing Values  % of Total Values  \\\n",
       "poutcome             0           36959               81.7   \n",
       "contact              0           13020               28.8   \n",
       "education            0            1857                4.1   \n",
       "job                  0             288                0.6   \n",
       "\n",
       "           Total Zero Missing Values  % Total Zero Missing Values Data Type  \n",
       "poutcome                       36959                         81.7    object  \n",
       "contact                        13020                         28.8    object  \n",
       "education                       1857                          4.1    object  \n",
       "job                              288                          0.6    object  "
      ]
     },
     "execution_count": 9,
     "metadata": {},
     "output_type": "execute_result"
    }
   ],
   "source": [
    "ds.missing_zero_values_table(df)"
   ]
  },
  {
   "cell_type": "markdown",
   "metadata": {},
   "source": [
    "Total missing values"
   ]
  },
  {
   "cell_type": "code",
   "execution_count": 10,
   "metadata": {},
   "outputs": [
    {
     "data": {
      "text/plain": [
       "52124"
      ]
     },
     "execution_count": 10,
     "metadata": {},
     "output_type": "execute_result"
    }
   ],
   "source": [
    "df.isnull().sum().sum()"
   ]
  },
  {
   "cell_type": "markdown",
   "metadata": {},
   "source": [
    " the highest number of NaN values in a single column"
   ]
  },
  {
   "cell_type": "code",
   "execution_count": 11,
   "metadata": {},
   "outputs": [
    {
     "data": {
      "text/plain": [
       "'job'"
      ]
     },
     "execution_count": 11,
     "metadata": {},
     "output_type": "execute_result"
    }
   ],
   "source": [
    "df.isnull().sum()[df.isnull().sum()>0].sort_values().index[0]"
   ]
  },
  {
   "cell_type": "code",
   "execution_count": 12,
   "metadata": {},
   "outputs": [],
   "source": [
    "# TODO fill nans\n",
    "# for categorical columns (if any) fill with 'unknown' value\n",
    "# for numerical columns (if any) fill with column mean value\n"
   ]
  },
  {
   "cell_type": "code",
   "execution_count": 13,
   "metadata": {},
   "outputs": [],
   "source": [
    "df = df.fillna('unknown')"
   ]
  },
  {
   "cell_type": "markdown",
   "metadata": {},
   "source": [
    "-----\n",
    "## Q2 \n",
    "#### What is the fraction of '1' values in the dataset (fraction of accepted deposits, variable y)?"
   ]
  },
  {
   "cell_type": "code",
   "execution_count": null,
   "metadata": {},
   "outputs": [],
   "source": []
  },
  {
   "cell_type": "code",
   "execution_count": 14,
   "metadata": {},
   "outputs": [
    {
     "data": {
      "text/plain": [
       "0.117"
      ]
     },
     "execution_count": 14,
     "metadata": {},
     "output_type": "execute_result"
    }
   ],
   "source": [
    "round(float((y.value_counts()[1]/y.count())), 3)"
   ]
  },
  {
   "cell_type": "markdown",
   "metadata": {},
   "source": [
    "-----\n",
    "## Q3 \n",
    "For convenience, you can add target variale to the DataFrame (but do not forget to remove it from the dataframe after the data exploration).\n",
    "#### In this question the most / least successful categories are measured in terms of average deposit acceptance rate.\n",
    "#### 3.1 What is the most successful `poutcome` category?\n",
    "#### 3.2 What is the most successful `contact` category?\n",
    "#### 3.3 What is the least successful `marital` category?\n",
    "#### 3.4 List top 3 most successful `job` categories in alphabetical order\n",
    "#### 3.5 What is the most successful user profile (combination of marital status and job) - the answer should be in the form `marital,job` (eg. married,entrepreneur)\n",
    "#### 3.6 Find the job with the smallest median balance. The answer is this job's median balance."
   ]
  },
  {
   "cell_type": "code",
   "execution_count": 15,
   "metadata": {},
   "outputs": [],
   "source": [
    "data = df.copy()\n",
    "data['depo'] = y\n"
   ]
  },
  {
   "cell_type": "code",
   "execution_count": 16,
   "metadata": {},
   "outputs": [
    {
     "data": {
      "text/html": [
       "<div>\n",
       "<style scoped>\n",
       "    .dataframe tbody tr th:only-of-type {\n",
       "        vertical-align: middle;\n",
       "    }\n",
       "\n",
       "    .dataframe tbody tr th {\n",
       "        vertical-align: top;\n",
       "    }\n",
       "\n",
       "    .dataframe thead th {\n",
       "        text-align: right;\n",
       "    }\n",
       "</style>\n",
       "<table border=\"1\" class=\"dataframe\">\n",
       "  <thead>\n",
       "    <tr style=\"text-align: right;\">\n",
       "      <th></th>\n",
       "      <th>age</th>\n",
       "      <th>job</th>\n",
       "      <th>marital</th>\n",
       "      <th>education</th>\n",
       "      <th>default</th>\n",
       "      <th>balance</th>\n",
       "      <th>housing</th>\n",
       "      <th>loan</th>\n",
       "      <th>contact</th>\n",
       "      <th>day_of_week</th>\n",
       "      <th>month</th>\n",
       "      <th>duration</th>\n",
       "      <th>campaign</th>\n",
       "      <th>pdays</th>\n",
       "      <th>previous</th>\n",
       "      <th>poutcome</th>\n",
       "      <th>depo</th>\n",
       "    </tr>\n",
       "  </thead>\n",
       "  <tbody>\n",
       "    <tr>\n",
       "      <th>0</th>\n",
       "      <td>58</td>\n",
       "      <td>management</td>\n",
       "      <td>married</td>\n",
       "      <td>tertiary</td>\n",
       "      <td>no</td>\n",
       "      <td>2143</td>\n",
       "      <td>yes</td>\n",
       "      <td>no</td>\n",
       "      <td>unknown</td>\n",
       "      <td>5</td>\n",
       "      <td>may</td>\n",
       "      <td>261</td>\n",
       "      <td>1</td>\n",
       "      <td>-1</td>\n",
       "      <td>0</td>\n",
       "      <td>unknown</td>\n",
       "      <td>no</td>\n",
       "    </tr>\n",
       "    <tr>\n",
       "      <th>1</th>\n",
       "      <td>44</td>\n",
       "      <td>technician</td>\n",
       "      <td>single</td>\n",
       "      <td>secondary</td>\n",
       "      <td>no</td>\n",
       "      <td>29</td>\n",
       "      <td>yes</td>\n",
       "      <td>no</td>\n",
       "      <td>unknown</td>\n",
       "      <td>5</td>\n",
       "      <td>may</td>\n",
       "      <td>151</td>\n",
       "      <td>1</td>\n",
       "      <td>-1</td>\n",
       "      <td>0</td>\n",
       "      <td>unknown</td>\n",
       "      <td>no</td>\n",
       "    </tr>\n",
       "    <tr>\n",
       "      <th>2</th>\n",
       "      <td>33</td>\n",
       "      <td>entrepreneur</td>\n",
       "      <td>married</td>\n",
       "      <td>secondary</td>\n",
       "      <td>no</td>\n",
       "      <td>2</td>\n",
       "      <td>yes</td>\n",
       "      <td>yes</td>\n",
       "      <td>unknown</td>\n",
       "      <td>5</td>\n",
       "      <td>may</td>\n",
       "      <td>76</td>\n",
       "      <td>1</td>\n",
       "      <td>-1</td>\n",
       "      <td>0</td>\n",
       "      <td>unknown</td>\n",
       "      <td>no</td>\n",
       "    </tr>\n",
       "    <tr>\n",
       "      <th>3</th>\n",
       "      <td>47</td>\n",
       "      <td>blue-collar</td>\n",
       "      <td>married</td>\n",
       "      <td>unknown</td>\n",
       "      <td>no</td>\n",
       "      <td>1506</td>\n",
       "      <td>yes</td>\n",
       "      <td>no</td>\n",
       "      <td>unknown</td>\n",
       "      <td>5</td>\n",
       "      <td>may</td>\n",
       "      <td>92</td>\n",
       "      <td>1</td>\n",
       "      <td>-1</td>\n",
       "      <td>0</td>\n",
       "      <td>unknown</td>\n",
       "      <td>no</td>\n",
       "    </tr>\n",
       "    <tr>\n",
       "      <th>4</th>\n",
       "      <td>33</td>\n",
       "      <td>unknown</td>\n",
       "      <td>single</td>\n",
       "      <td>unknown</td>\n",
       "      <td>no</td>\n",
       "      <td>1</td>\n",
       "      <td>no</td>\n",
       "      <td>no</td>\n",
       "      <td>unknown</td>\n",
       "      <td>5</td>\n",
       "      <td>may</td>\n",
       "      <td>198</td>\n",
       "      <td>1</td>\n",
       "      <td>-1</td>\n",
       "      <td>0</td>\n",
       "      <td>unknown</td>\n",
       "      <td>no</td>\n",
       "    </tr>\n",
       "    <tr>\n",
       "      <th>...</th>\n",
       "      <td>...</td>\n",
       "      <td>...</td>\n",
       "      <td>...</td>\n",
       "      <td>...</td>\n",
       "      <td>...</td>\n",
       "      <td>...</td>\n",
       "      <td>...</td>\n",
       "      <td>...</td>\n",
       "      <td>...</td>\n",
       "      <td>...</td>\n",
       "      <td>...</td>\n",
       "      <td>...</td>\n",
       "      <td>...</td>\n",
       "      <td>...</td>\n",
       "      <td>...</td>\n",
       "      <td>...</td>\n",
       "      <td>...</td>\n",
       "    </tr>\n",
       "    <tr>\n",
       "      <th>45206</th>\n",
       "      <td>51</td>\n",
       "      <td>technician</td>\n",
       "      <td>married</td>\n",
       "      <td>tertiary</td>\n",
       "      <td>no</td>\n",
       "      <td>825</td>\n",
       "      <td>no</td>\n",
       "      <td>no</td>\n",
       "      <td>cellular</td>\n",
       "      <td>17</td>\n",
       "      <td>nov</td>\n",
       "      <td>977</td>\n",
       "      <td>3</td>\n",
       "      <td>-1</td>\n",
       "      <td>0</td>\n",
       "      <td>unknown</td>\n",
       "      <td>yes</td>\n",
       "    </tr>\n",
       "    <tr>\n",
       "      <th>45207</th>\n",
       "      <td>71</td>\n",
       "      <td>retired</td>\n",
       "      <td>divorced</td>\n",
       "      <td>primary</td>\n",
       "      <td>no</td>\n",
       "      <td>1729</td>\n",
       "      <td>no</td>\n",
       "      <td>no</td>\n",
       "      <td>cellular</td>\n",
       "      <td>17</td>\n",
       "      <td>nov</td>\n",
       "      <td>456</td>\n",
       "      <td>2</td>\n",
       "      <td>-1</td>\n",
       "      <td>0</td>\n",
       "      <td>unknown</td>\n",
       "      <td>yes</td>\n",
       "    </tr>\n",
       "    <tr>\n",
       "      <th>45208</th>\n",
       "      <td>72</td>\n",
       "      <td>retired</td>\n",
       "      <td>married</td>\n",
       "      <td>secondary</td>\n",
       "      <td>no</td>\n",
       "      <td>5715</td>\n",
       "      <td>no</td>\n",
       "      <td>no</td>\n",
       "      <td>cellular</td>\n",
       "      <td>17</td>\n",
       "      <td>nov</td>\n",
       "      <td>1127</td>\n",
       "      <td>5</td>\n",
       "      <td>184</td>\n",
       "      <td>3</td>\n",
       "      <td>success</td>\n",
       "      <td>yes</td>\n",
       "    </tr>\n",
       "    <tr>\n",
       "      <th>45209</th>\n",
       "      <td>57</td>\n",
       "      <td>blue-collar</td>\n",
       "      <td>married</td>\n",
       "      <td>secondary</td>\n",
       "      <td>no</td>\n",
       "      <td>668</td>\n",
       "      <td>no</td>\n",
       "      <td>no</td>\n",
       "      <td>telephone</td>\n",
       "      <td>17</td>\n",
       "      <td>nov</td>\n",
       "      <td>508</td>\n",
       "      <td>4</td>\n",
       "      <td>-1</td>\n",
       "      <td>0</td>\n",
       "      <td>unknown</td>\n",
       "      <td>no</td>\n",
       "    </tr>\n",
       "    <tr>\n",
       "      <th>45210</th>\n",
       "      <td>37</td>\n",
       "      <td>entrepreneur</td>\n",
       "      <td>married</td>\n",
       "      <td>secondary</td>\n",
       "      <td>no</td>\n",
       "      <td>2971</td>\n",
       "      <td>no</td>\n",
       "      <td>no</td>\n",
       "      <td>cellular</td>\n",
       "      <td>17</td>\n",
       "      <td>nov</td>\n",
       "      <td>361</td>\n",
       "      <td>2</td>\n",
       "      <td>188</td>\n",
       "      <td>11</td>\n",
       "      <td>other</td>\n",
       "      <td>no</td>\n",
       "    </tr>\n",
       "  </tbody>\n",
       "</table>\n",
       "<p>45211 rows × 17 columns</p>\n",
       "</div>"
      ],
      "text/plain": [
       "       age           job   marital  education default  balance housing loan  \\\n",
       "0       58    management   married   tertiary      no     2143     yes   no   \n",
       "1       44    technician    single  secondary      no       29     yes   no   \n",
       "2       33  entrepreneur   married  secondary      no        2     yes  yes   \n",
       "3       47   blue-collar   married    unknown      no     1506     yes   no   \n",
       "4       33       unknown    single    unknown      no        1      no   no   \n",
       "...    ...           ...       ...        ...     ...      ...     ...  ...   \n",
       "45206   51    technician   married   tertiary      no      825      no   no   \n",
       "45207   71       retired  divorced    primary      no     1729      no   no   \n",
       "45208   72       retired   married  secondary      no     5715      no   no   \n",
       "45209   57   blue-collar   married  secondary      no      668      no   no   \n",
       "45210   37  entrepreneur   married  secondary      no     2971      no   no   \n",
       "\n",
       "         contact  day_of_week month  duration  campaign  pdays  previous  \\\n",
       "0        unknown            5   may       261         1     -1         0   \n",
       "1        unknown            5   may       151         1     -1         0   \n",
       "2        unknown            5   may        76         1     -1         0   \n",
       "3        unknown            5   may        92         1     -1         0   \n",
       "4        unknown            5   may       198         1     -1         0   \n",
       "...          ...          ...   ...       ...       ...    ...       ...   \n",
       "45206   cellular           17   nov       977         3     -1         0   \n",
       "45207   cellular           17   nov       456         2     -1         0   \n",
       "45208   cellular           17   nov      1127         5    184         3   \n",
       "45209  telephone           17   nov       508         4     -1         0   \n",
       "45210   cellular           17   nov       361         2    188        11   \n",
       "\n",
       "      poutcome depo  \n",
       "0      unknown   no  \n",
       "1      unknown   no  \n",
       "2      unknown   no  \n",
       "3      unknown   no  \n",
       "4      unknown   no  \n",
       "...        ...  ...  \n",
       "45206  unknown  yes  \n",
       "45207  unknown  yes  \n",
       "45208  success  yes  \n",
       "45209  unknown   no  \n",
       "45210    other   no  \n",
       "\n",
       "[45211 rows x 17 columns]"
      ]
     },
     "execution_count": 16,
     "metadata": {},
     "output_type": "execute_result"
    }
   ],
   "source": [
    "data"
   ]
  },
  {
   "cell_type": "code",
   "execution_count": 17,
   "metadata": {},
   "outputs": [
    {
     "data": {
      "text/html": [
       "<div>\n",
       "<style scoped>\n",
       "    .dataframe tbody tr th:only-of-type {\n",
       "        vertical-align: middle;\n",
       "    }\n",
       "\n",
       "    .dataframe tbody tr th {\n",
       "        vertical-align: top;\n",
       "    }\n",
       "\n",
       "    .dataframe thead th {\n",
       "        text-align: right;\n",
       "    }\n",
       "</style>\n",
       "<table border=\"1\" class=\"dataframe\">\n",
       "  <thead>\n",
       "    <tr style=\"text-align: right;\">\n",
       "      <th></th>\n",
       "      <th>age</th>\n",
       "      <th>job</th>\n",
       "      <th>marital</th>\n",
       "      <th>education</th>\n",
       "      <th>default</th>\n",
       "      <th>balance</th>\n",
       "      <th>housing</th>\n",
       "      <th>loan</th>\n",
       "      <th>contact</th>\n",
       "      <th>day_of_week</th>\n",
       "      <th>month</th>\n",
       "      <th>duration</th>\n",
       "      <th>campaign</th>\n",
       "      <th>pdays</th>\n",
       "      <th>previous</th>\n",
       "      <th>poutcome</th>\n",
       "    </tr>\n",
       "  </thead>\n",
       "  <tbody>\n",
       "    <tr>\n",
       "      <th>0</th>\n",
       "      <td>58</td>\n",
       "      <td>management</td>\n",
       "      <td>married</td>\n",
       "      <td>tertiary</td>\n",
       "      <td>no</td>\n",
       "      <td>2143</td>\n",
       "      <td>yes</td>\n",
       "      <td>no</td>\n",
       "      <td>unknown</td>\n",
       "      <td>5</td>\n",
       "      <td>may</td>\n",
       "      <td>261</td>\n",
       "      <td>1</td>\n",
       "      <td>-1</td>\n",
       "      <td>0</td>\n",
       "      <td>unknown</td>\n",
       "    </tr>\n",
       "    <tr>\n",
       "      <th>1</th>\n",
       "      <td>44</td>\n",
       "      <td>technician</td>\n",
       "      <td>single</td>\n",
       "      <td>secondary</td>\n",
       "      <td>no</td>\n",
       "      <td>29</td>\n",
       "      <td>yes</td>\n",
       "      <td>no</td>\n",
       "      <td>unknown</td>\n",
       "      <td>5</td>\n",
       "      <td>may</td>\n",
       "      <td>151</td>\n",
       "      <td>1</td>\n",
       "      <td>-1</td>\n",
       "      <td>0</td>\n",
       "      <td>unknown</td>\n",
       "    </tr>\n",
       "    <tr>\n",
       "      <th>2</th>\n",
       "      <td>33</td>\n",
       "      <td>entrepreneur</td>\n",
       "      <td>married</td>\n",
       "      <td>secondary</td>\n",
       "      <td>no</td>\n",
       "      <td>2</td>\n",
       "      <td>yes</td>\n",
       "      <td>yes</td>\n",
       "      <td>unknown</td>\n",
       "      <td>5</td>\n",
       "      <td>may</td>\n",
       "      <td>76</td>\n",
       "      <td>1</td>\n",
       "      <td>-1</td>\n",
       "      <td>0</td>\n",
       "      <td>unknown</td>\n",
       "    </tr>\n",
       "    <tr>\n",
       "      <th>3</th>\n",
       "      <td>47</td>\n",
       "      <td>blue-collar</td>\n",
       "      <td>married</td>\n",
       "      <td>unknown</td>\n",
       "      <td>no</td>\n",
       "      <td>1506</td>\n",
       "      <td>yes</td>\n",
       "      <td>no</td>\n",
       "      <td>unknown</td>\n",
       "      <td>5</td>\n",
       "      <td>may</td>\n",
       "      <td>92</td>\n",
       "      <td>1</td>\n",
       "      <td>-1</td>\n",
       "      <td>0</td>\n",
       "      <td>unknown</td>\n",
       "    </tr>\n",
       "    <tr>\n",
       "      <th>4</th>\n",
       "      <td>33</td>\n",
       "      <td>unknown</td>\n",
       "      <td>single</td>\n",
       "      <td>unknown</td>\n",
       "      <td>no</td>\n",
       "      <td>1</td>\n",
       "      <td>no</td>\n",
       "      <td>no</td>\n",
       "      <td>unknown</td>\n",
       "      <td>5</td>\n",
       "      <td>may</td>\n",
       "      <td>198</td>\n",
       "      <td>1</td>\n",
       "      <td>-1</td>\n",
       "      <td>0</td>\n",
       "      <td>unknown</td>\n",
       "    </tr>\n",
       "    <tr>\n",
       "      <th>...</th>\n",
       "      <td>...</td>\n",
       "      <td>...</td>\n",
       "      <td>...</td>\n",
       "      <td>...</td>\n",
       "      <td>...</td>\n",
       "      <td>...</td>\n",
       "      <td>...</td>\n",
       "      <td>...</td>\n",
       "      <td>...</td>\n",
       "      <td>...</td>\n",
       "      <td>...</td>\n",
       "      <td>...</td>\n",
       "      <td>...</td>\n",
       "      <td>...</td>\n",
       "      <td>...</td>\n",
       "      <td>...</td>\n",
       "    </tr>\n",
       "    <tr>\n",
       "      <th>45206</th>\n",
       "      <td>51</td>\n",
       "      <td>technician</td>\n",
       "      <td>married</td>\n",
       "      <td>tertiary</td>\n",
       "      <td>no</td>\n",
       "      <td>825</td>\n",
       "      <td>no</td>\n",
       "      <td>no</td>\n",
       "      <td>cellular</td>\n",
       "      <td>17</td>\n",
       "      <td>nov</td>\n",
       "      <td>977</td>\n",
       "      <td>3</td>\n",
       "      <td>-1</td>\n",
       "      <td>0</td>\n",
       "      <td>unknown</td>\n",
       "    </tr>\n",
       "    <tr>\n",
       "      <th>45207</th>\n",
       "      <td>71</td>\n",
       "      <td>retired</td>\n",
       "      <td>divorced</td>\n",
       "      <td>primary</td>\n",
       "      <td>no</td>\n",
       "      <td>1729</td>\n",
       "      <td>no</td>\n",
       "      <td>no</td>\n",
       "      <td>cellular</td>\n",
       "      <td>17</td>\n",
       "      <td>nov</td>\n",
       "      <td>456</td>\n",
       "      <td>2</td>\n",
       "      <td>-1</td>\n",
       "      <td>0</td>\n",
       "      <td>unknown</td>\n",
       "    </tr>\n",
       "    <tr>\n",
       "      <th>45208</th>\n",
       "      <td>72</td>\n",
       "      <td>retired</td>\n",
       "      <td>married</td>\n",
       "      <td>secondary</td>\n",
       "      <td>no</td>\n",
       "      <td>5715</td>\n",
       "      <td>no</td>\n",
       "      <td>no</td>\n",
       "      <td>cellular</td>\n",
       "      <td>17</td>\n",
       "      <td>nov</td>\n",
       "      <td>1127</td>\n",
       "      <td>5</td>\n",
       "      <td>184</td>\n",
       "      <td>3</td>\n",
       "      <td>success</td>\n",
       "    </tr>\n",
       "    <tr>\n",
       "      <th>45209</th>\n",
       "      <td>57</td>\n",
       "      <td>blue-collar</td>\n",
       "      <td>married</td>\n",
       "      <td>secondary</td>\n",
       "      <td>no</td>\n",
       "      <td>668</td>\n",
       "      <td>no</td>\n",
       "      <td>no</td>\n",
       "      <td>telephone</td>\n",
       "      <td>17</td>\n",
       "      <td>nov</td>\n",
       "      <td>508</td>\n",
       "      <td>4</td>\n",
       "      <td>-1</td>\n",
       "      <td>0</td>\n",
       "      <td>unknown</td>\n",
       "    </tr>\n",
       "    <tr>\n",
       "      <th>45210</th>\n",
       "      <td>37</td>\n",
       "      <td>entrepreneur</td>\n",
       "      <td>married</td>\n",
       "      <td>secondary</td>\n",
       "      <td>no</td>\n",
       "      <td>2971</td>\n",
       "      <td>no</td>\n",
       "      <td>no</td>\n",
       "      <td>cellular</td>\n",
       "      <td>17</td>\n",
       "      <td>nov</td>\n",
       "      <td>361</td>\n",
       "      <td>2</td>\n",
       "      <td>188</td>\n",
       "      <td>11</td>\n",
       "      <td>other</td>\n",
       "    </tr>\n",
       "  </tbody>\n",
       "</table>\n",
       "<p>45211 rows × 16 columns</p>\n",
       "</div>"
      ],
      "text/plain": [
       "       age           job   marital  education default  balance housing loan  \\\n",
       "0       58    management   married   tertiary      no     2143     yes   no   \n",
       "1       44    technician    single  secondary      no       29     yes   no   \n",
       "2       33  entrepreneur   married  secondary      no        2     yes  yes   \n",
       "3       47   blue-collar   married    unknown      no     1506     yes   no   \n",
       "4       33       unknown    single    unknown      no        1      no   no   \n",
       "...    ...           ...       ...        ...     ...      ...     ...  ...   \n",
       "45206   51    technician   married   tertiary      no      825      no   no   \n",
       "45207   71       retired  divorced    primary      no     1729      no   no   \n",
       "45208   72       retired   married  secondary      no     5715      no   no   \n",
       "45209   57   blue-collar   married  secondary      no      668      no   no   \n",
       "45210   37  entrepreneur   married  secondary      no     2971      no   no   \n",
       "\n",
       "         contact  day_of_week month  duration  campaign  pdays  previous  \\\n",
       "0        unknown            5   may       261         1     -1         0   \n",
       "1        unknown            5   may       151         1     -1         0   \n",
       "2        unknown            5   may        76         1     -1         0   \n",
       "3        unknown            5   may        92         1     -1         0   \n",
       "4        unknown            5   may       198         1     -1         0   \n",
       "...          ...          ...   ...       ...       ...    ...       ...   \n",
       "45206   cellular           17   nov       977         3     -1         0   \n",
       "45207   cellular           17   nov       456         2     -1         0   \n",
       "45208   cellular           17   nov      1127         5    184         3   \n",
       "45209  telephone           17   nov       508         4     -1         0   \n",
       "45210   cellular           17   nov       361         2    188        11   \n",
       "\n",
       "      poutcome  \n",
       "0      unknown  \n",
       "1      unknown  \n",
       "2      unknown  \n",
       "3      unknown  \n",
       "4      unknown  \n",
       "...        ...  \n",
       "45206  unknown  \n",
       "45207  unknown  \n",
       "45208  success  \n",
       "45209  unknown  \n",
       "45210    other  \n",
       "\n",
       "[45211 rows x 16 columns]"
      ]
     },
     "execution_count": 17,
     "metadata": {},
     "output_type": "execute_result"
    }
   ],
   "source": [
    "df"
   ]
  },
  {
   "cell_type": "markdown",
   "metadata": {},
   "source": [
    "3.1"
   ]
  },
  {
   "cell_type": "code",
   "execution_count": 18,
   "metadata": {
    "scrolled": true
   },
   "outputs": [
    {
     "data": {
      "text/plain": [
       "'unknown'"
      ]
     },
     "execution_count": 18,
     "metadata": {},
     "output_type": "execute_result"
    }
   ],
   "source": [
    "(data.groupby('poutcome')['depo'].count().sort_values(ascending = False).index[0])"
   ]
  },
  {
   "cell_type": "markdown",
   "metadata": {},
   "source": [
    "3.2"
   ]
  },
  {
   "cell_type": "code",
   "execution_count": 19,
   "metadata": {},
   "outputs": [
    {
     "data": {
      "text/plain": [
       "'cellular'"
      ]
     },
     "execution_count": 19,
     "metadata": {},
     "output_type": "execute_result"
    }
   ],
   "source": [
    "data.groupby('contact')['depo'].count().sort_values(ascending = False).index[0]"
   ]
  },
  {
   "cell_type": "markdown",
   "metadata": {},
   "source": [
    "3.3"
   ]
  },
  {
   "cell_type": "code",
   "execution_count": 20,
   "metadata": {
    "scrolled": true
   },
   "outputs": [
    {
     "data": {
      "text/plain": [
       "'married'"
      ]
     },
     "execution_count": 20,
     "metadata": {},
     "output_type": "execute_result"
    }
   ],
   "source": [
    "data.groupby('marital')['depo'].count().sort_values(ascending = False).index[0]"
   ]
  },
  {
   "cell_type": "markdown",
   "metadata": {},
   "source": [
    "3.4"
   ]
  },
  {
   "cell_type": "code",
   "execution_count": 21,
   "metadata": {},
   "outputs": [
    {
     "name": "stdout",
     "output_type": "stream",
     "text": [
      "blue-collar,management,technician\n"
     ]
    }
   ],
   "source": [
    "q3_4 = list(data.groupby('job')['depo'].count().sort_values(ascending = False).index[0:3])\n",
    "list_answer(q3_4)"
   ]
  },
  {
   "cell_type": "markdown",
   "metadata": {},
   "source": [
    "3.5"
   ]
  },
  {
   "cell_type": "code",
   "execution_count": 22,
   "metadata": {
    "scrolled": true
   },
   "outputs": [
    {
     "name": "stdout",
     "output_type": "stream",
     "text": [
      "blue-collar,married\n"
     ]
    }
   ],
   "source": [
    "q3_5 = list(data.groupby(['job', 'marital'])['depo'].count().sort_values(ascending = False).index[0])\n",
    "list_answer(q3_5)"
   ]
  },
  {
   "cell_type": "markdown",
   "metadata": {},
   "source": [
    "3.6"
   ]
  },
  {
   "cell_type": "code",
   "execution_count": 23,
   "metadata": {},
   "outputs": [
    {
     "data": {
      "text/plain": [
       "339.5"
      ]
     },
     "execution_count": 23,
     "metadata": {},
     "output_type": "execute_result"
    }
   ],
   "source": [
    "round(data.groupby('job')['balance'].median().sort_values()[0], 3)"
   ]
  },
  {
   "cell_type": "markdown",
   "metadata": {},
   "source": [
    "-----\n",
    "## Q4\n",
    "Map binary columns to 0 / 1 values (1 corresponds to yes). Do the same for the target variable y.\n",
    "#### 4.1 Who accepts more deposits (on average): people with housing loans (`housing`) or people with personal loans (`loan`)? The answer is the acceptance rate of the chosen (most successful) category.\n",
    "#### 4.2 What is the min, max, average and std values of age among people who have housing loans (`housing`)? The answer shold be given in descending order"
   ]
  },
  {
   "cell_type": "code",
   "execution_count": 24,
   "metadata": {},
   "outputs": [
    {
     "data": {
      "text/html": [
       "<div>\n",
       "<style scoped>\n",
       "    .dataframe tbody tr th:only-of-type {\n",
       "        vertical-align: middle;\n",
       "    }\n",
       "\n",
       "    .dataframe tbody tr th {\n",
       "        vertical-align: top;\n",
       "    }\n",
       "\n",
       "    .dataframe thead th {\n",
       "        text-align: right;\n",
       "    }\n",
       "</style>\n",
       "<table border=\"1\" class=\"dataframe\">\n",
       "  <thead>\n",
       "    <tr style=\"text-align: right;\">\n",
       "      <th></th>\n",
       "      <th>y</th>\n",
       "    </tr>\n",
       "  </thead>\n",
       "  <tbody>\n",
       "    <tr>\n",
       "      <th>0</th>\n",
       "      <td>no</td>\n",
       "    </tr>\n",
       "    <tr>\n",
       "      <th>1</th>\n",
       "      <td>no</td>\n",
       "    </tr>\n",
       "    <tr>\n",
       "      <th>2</th>\n",
       "      <td>no</td>\n",
       "    </tr>\n",
       "    <tr>\n",
       "      <th>3</th>\n",
       "      <td>no</td>\n",
       "    </tr>\n",
       "    <tr>\n",
       "      <th>4</th>\n",
       "      <td>no</td>\n",
       "    </tr>\n",
       "    <tr>\n",
       "      <th>...</th>\n",
       "      <td>...</td>\n",
       "    </tr>\n",
       "    <tr>\n",
       "      <th>45206</th>\n",
       "      <td>yes</td>\n",
       "    </tr>\n",
       "    <tr>\n",
       "      <th>45207</th>\n",
       "      <td>yes</td>\n",
       "    </tr>\n",
       "    <tr>\n",
       "      <th>45208</th>\n",
       "      <td>yes</td>\n",
       "    </tr>\n",
       "    <tr>\n",
       "      <th>45209</th>\n",
       "      <td>no</td>\n",
       "    </tr>\n",
       "    <tr>\n",
       "      <th>45210</th>\n",
       "      <td>no</td>\n",
       "    </tr>\n",
       "  </tbody>\n",
       "</table>\n",
       "<p>45211 rows × 1 columns</p>\n",
       "</div>"
      ],
      "text/plain": [
       "         y\n",
       "0       no\n",
       "1       no\n",
       "2       no\n",
       "3       no\n",
       "4       no\n",
       "...    ...\n",
       "45206  yes\n",
       "45207  yes\n",
       "45208  yes\n",
       "45209   no\n",
       "45210   no\n",
       "\n",
       "[45211 rows x 1 columns]"
      ]
     },
     "execution_count": 24,
     "metadata": {},
     "output_type": "execute_result"
    }
   ],
   "source": [
    "y"
   ]
  },
  {
   "cell_type": "code",
   "execution_count": 25,
   "metadata": {},
   "outputs": [],
   "source": [
    "# TODO map y (target) values to 0 / 1\n",
    "y = (y != 'no').astype(int)\n"
   ]
  },
  {
   "cell_type": "code",
   "execution_count": 26,
   "metadata": {
    "scrolled": true
   },
   "outputs": [
    {
     "data": {
      "text/html": [
       "<div>\n",
       "<style scoped>\n",
       "    .dataframe tbody tr th:only-of-type {\n",
       "        vertical-align: middle;\n",
       "    }\n",
       "\n",
       "    .dataframe tbody tr th {\n",
       "        vertical-align: top;\n",
       "    }\n",
       "\n",
       "    .dataframe thead th {\n",
       "        text-align: right;\n",
       "    }\n",
       "</style>\n",
       "<table border=\"1\" class=\"dataframe\">\n",
       "  <thead>\n",
       "    <tr style=\"text-align: right;\">\n",
       "      <th></th>\n",
       "      <th>y</th>\n",
       "    </tr>\n",
       "  </thead>\n",
       "  <tbody>\n",
       "    <tr>\n",
       "      <th>0</th>\n",
       "      <td>0</td>\n",
       "    </tr>\n",
       "    <tr>\n",
       "      <th>1</th>\n",
       "      <td>0</td>\n",
       "    </tr>\n",
       "    <tr>\n",
       "      <th>2</th>\n",
       "      <td>0</td>\n",
       "    </tr>\n",
       "    <tr>\n",
       "      <th>3</th>\n",
       "      <td>0</td>\n",
       "    </tr>\n",
       "    <tr>\n",
       "      <th>4</th>\n",
       "      <td>0</td>\n",
       "    </tr>\n",
       "    <tr>\n",
       "      <th>...</th>\n",
       "      <td>...</td>\n",
       "    </tr>\n",
       "    <tr>\n",
       "      <th>45206</th>\n",
       "      <td>1</td>\n",
       "    </tr>\n",
       "    <tr>\n",
       "      <th>45207</th>\n",
       "      <td>1</td>\n",
       "    </tr>\n",
       "    <tr>\n",
       "      <th>45208</th>\n",
       "      <td>1</td>\n",
       "    </tr>\n",
       "    <tr>\n",
       "      <th>45209</th>\n",
       "      <td>0</td>\n",
       "    </tr>\n",
       "    <tr>\n",
       "      <th>45210</th>\n",
       "      <td>0</td>\n",
       "    </tr>\n",
       "  </tbody>\n",
       "</table>\n",
       "<p>45211 rows × 1 columns</p>\n",
       "</div>"
      ],
      "text/plain": [
       "       y\n",
       "0      0\n",
       "1      0\n",
       "2      0\n",
       "3      0\n",
       "4      0\n",
       "...   ..\n",
       "45206  1\n",
       "45207  1\n",
       "45208  1\n",
       "45209  0\n",
       "45210  0\n",
       "\n",
       "[45211 rows x 1 columns]"
      ]
     },
     "execution_count": 26,
     "metadata": {},
     "output_type": "execute_result"
    }
   ],
   "source": [
    "y"
   ]
  },
  {
   "cell_type": "markdown",
   "metadata": {},
   "source": [
    "default, housing, loan "
   ]
  },
  {
   "cell_type": "code",
   "execution_count": 27,
   "metadata": {
    "scrolled": true
   },
   "outputs": [],
   "source": [
    "# TODO map binary columns' values to 0 / 1\n",
    "bin_columns = ['default', 'housing', 'loan']\n",
    "for i in bin_columns:\n",
    "    df[i] = (df[i] != 'no').astype(int)"
   ]
  },
  {
   "cell_type": "code",
   "execution_count": 28,
   "metadata": {
    "scrolled": true
   },
   "outputs": [
    {
     "data": {
      "text/html": [
       "<div>\n",
       "<style scoped>\n",
       "    .dataframe tbody tr th:only-of-type {\n",
       "        vertical-align: middle;\n",
       "    }\n",
       "\n",
       "    .dataframe tbody tr th {\n",
       "        vertical-align: top;\n",
       "    }\n",
       "\n",
       "    .dataframe thead th {\n",
       "        text-align: right;\n",
       "    }\n",
       "</style>\n",
       "<table border=\"1\" class=\"dataframe\">\n",
       "  <thead>\n",
       "    <tr style=\"text-align: right;\">\n",
       "      <th></th>\n",
       "      <th>age</th>\n",
       "      <th>job</th>\n",
       "      <th>marital</th>\n",
       "      <th>education</th>\n",
       "      <th>default</th>\n",
       "      <th>balance</th>\n",
       "      <th>housing</th>\n",
       "      <th>loan</th>\n",
       "      <th>contact</th>\n",
       "      <th>day_of_week</th>\n",
       "      <th>month</th>\n",
       "      <th>duration</th>\n",
       "      <th>campaign</th>\n",
       "      <th>pdays</th>\n",
       "      <th>previous</th>\n",
       "      <th>poutcome</th>\n",
       "    </tr>\n",
       "  </thead>\n",
       "  <tbody>\n",
       "    <tr>\n",
       "      <th>0</th>\n",
       "      <td>58</td>\n",
       "      <td>management</td>\n",
       "      <td>married</td>\n",
       "      <td>tertiary</td>\n",
       "      <td>0</td>\n",
       "      <td>2143</td>\n",
       "      <td>1</td>\n",
       "      <td>0</td>\n",
       "      <td>unknown</td>\n",
       "      <td>5</td>\n",
       "      <td>may</td>\n",
       "      <td>261</td>\n",
       "      <td>1</td>\n",
       "      <td>-1</td>\n",
       "      <td>0</td>\n",
       "      <td>unknown</td>\n",
       "    </tr>\n",
       "    <tr>\n",
       "      <th>1</th>\n",
       "      <td>44</td>\n",
       "      <td>technician</td>\n",
       "      <td>single</td>\n",
       "      <td>secondary</td>\n",
       "      <td>0</td>\n",
       "      <td>29</td>\n",
       "      <td>1</td>\n",
       "      <td>0</td>\n",
       "      <td>unknown</td>\n",
       "      <td>5</td>\n",
       "      <td>may</td>\n",
       "      <td>151</td>\n",
       "      <td>1</td>\n",
       "      <td>-1</td>\n",
       "      <td>0</td>\n",
       "      <td>unknown</td>\n",
       "    </tr>\n",
       "    <tr>\n",
       "      <th>2</th>\n",
       "      <td>33</td>\n",
       "      <td>entrepreneur</td>\n",
       "      <td>married</td>\n",
       "      <td>secondary</td>\n",
       "      <td>0</td>\n",
       "      <td>2</td>\n",
       "      <td>1</td>\n",
       "      <td>1</td>\n",
       "      <td>unknown</td>\n",
       "      <td>5</td>\n",
       "      <td>may</td>\n",
       "      <td>76</td>\n",
       "      <td>1</td>\n",
       "      <td>-1</td>\n",
       "      <td>0</td>\n",
       "      <td>unknown</td>\n",
       "    </tr>\n",
       "    <tr>\n",
       "      <th>3</th>\n",
       "      <td>47</td>\n",
       "      <td>blue-collar</td>\n",
       "      <td>married</td>\n",
       "      <td>unknown</td>\n",
       "      <td>0</td>\n",
       "      <td>1506</td>\n",
       "      <td>1</td>\n",
       "      <td>0</td>\n",
       "      <td>unknown</td>\n",
       "      <td>5</td>\n",
       "      <td>may</td>\n",
       "      <td>92</td>\n",
       "      <td>1</td>\n",
       "      <td>-1</td>\n",
       "      <td>0</td>\n",
       "      <td>unknown</td>\n",
       "    </tr>\n",
       "    <tr>\n",
       "      <th>4</th>\n",
       "      <td>33</td>\n",
       "      <td>unknown</td>\n",
       "      <td>single</td>\n",
       "      <td>unknown</td>\n",
       "      <td>0</td>\n",
       "      <td>1</td>\n",
       "      <td>0</td>\n",
       "      <td>0</td>\n",
       "      <td>unknown</td>\n",
       "      <td>5</td>\n",
       "      <td>may</td>\n",
       "      <td>198</td>\n",
       "      <td>1</td>\n",
       "      <td>-1</td>\n",
       "      <td>0</td>\n",
       "      <td>unknown</td>\n",
       "    </tr>\n",
       "    <tr>\n",
       "      <th>...</th>\n",
       "      <td>...</td>\n",
       "      <td>...</td>\n",
       "      <td>...</td>\n",
       "      <td>...</td>\n",
       "      <td>...</td>\n",
       "      <td>...</td>\n",
       "      <td>...</td>\n",
       "      <td>...</td>\n",
       "      <td>...</td>\n",
       "      <td>...</td>\n",
       "      <td>...</td>\n",
       "      <td>...</td>\n",
       "      <td>...</td>\n",
       "      <td>...</td>\n",
       "      <td>...</td>\n",
       "      <td>...</td>\n",
       "    </tr>\n",
       "    <tr>\n",
       "      <th>45206</th>\n",
       "      <td>51</td>\n",
       "      <td>technician</td>\n",
       "      <td>married</td>\n",
       "      <td>tertiary</td>\n",
       "      <td>0</td>\n",
       "      <td>825</td>\n",
       "      <td>0</td>\n",
       "      <td>0</td>\n",
       "      <td>cellular</td>\n",
       "      <td>17</td>\n",
       "      <td>nov</td>\n",
       "      <td>977</td>\n",
       "      <td>3</td>\n",
       "      <td>-1</td>\n",
       "      <td>0</td>\n",
       "      <td>unknown</td>\n",
       "    </tr>\n",
       "    <tr>\n",
       "      <th>45207</th>\n",
       "      <td>71</td>\n",
       "      <td>retired</td>\n",
       "      <td>divorced</td>\n",
       "      <td>primary</td>\n",
       "      <td>0</td>\n",
       "      <td>1729</td>\n",
       "      <td>0</td>\n",
       "      <td>0</td>\n",
       "      <td>cellular</td>\n",
       "      <td>17</td>\n",
       "      <td>nov</td>\n",
       "      <td>456</td>\n",
       "      <td>2</td>\n",
       "      <td>-1</td>\n",
       "      <td>0</td>\n",
       "      <td>unknown</td>\n",
       "    </tr>\n",
       "    <tr>\n",
       "      <th>45208</th>\n",
       "      <td>72</td>\n",
       "      <td>retired</td>\n",
       "      <td>married</td>\n",
       "      <td>secondary</td>\n",
       "      <td>0</td>\n",
       "      <td>5715</td>\n",
       "      <td>0</td>\n",
       "      <td>0</td>\n",
       "      <td>cellular</td>\n",
       "      <td>17</td>\n",
       "      <td>nov</td>\n",
       "      <td>1127</td>\n",
       "      <td>5</td>\n",
       "      <td>184</td>\n",
       "      <td>3</td>\n",
       "      <td>success</td>\n",
       "    </tr>\n",
       "    <tr>\n",
       "      <th>45209</th>\n",
       "      <td>57</td>\n",
       "      <td>blue-collar</td>\n",
       "      <td>married</td>\n",
       "      <td>secondary</td>\n",
       "      <td>0</td>\n",
       "      <td>668</td>\n",
       "      <td>0</td>\n",
       "      <td>0</td>\n",
       "      <td>telephone</td>\n",
       "      <td>17</td>\n",
       "      <td>nov</td>\n",
       "      <td>508</td>\n",
       "      <td>4</td>\n",
       "      <td>-1</td>\n",
       "      <td>0</td>\n",
       "      <td>unknown</td>\n",
       "    </tr>\n",
       "    <tr>\n",
       "      <th>45210</th>\n",
       "      <td>37</td>\n",
       "      <td>entrepreneur</td>\n",
       "      <td>married</td>\n",
       "      <td>secondary</td>\n",
       "      <td>0</td>\n",
       "      <td>2971</td>\n",
       "      <td>0</td>\n",
       "      <td>0</td>\n",
       "      <td>cellular</td>\n",
       "      <td>17</td>\n",
       "      <td>nov</td>\n",
       "      <td>361</td>\n",
       "      <td>2</td>\n",
       "      <td>188</td>\n",
       "      <td>11</td>\n",
       "      <td>other</td>\n",
       "    </tr>\n",
       "  </tbody>\n",
       "</table>\n",
       "<p>45211 rows × 16 columns</p>\n",
       "</div>"
      ],
      "text/plain": [
       "       age           job   marital  education  default  balance  housing  \\\n",
       "0       58    management   married   tertiary        0     2143        1   \n",
       "1       44    technician    single  secondary        0       29        1   \n",
       "2       33  entrepreneur   married  secondary        0        2        1   \n",
       "3       47   blue-collar   married    unknown        0     1506        1   \n",
       "4       33       unknown    single    unknown        0        1        0   \n",
       "...    ...           ...       ...        ...      ...      ...      ...   \n",
       "45206   51    technician   married   tertiary        0      825        0   \n",
       "45207   71       retired  divorced    primary        0     1729        0   \n",
       "45208   72       retired   married  secondary        0     5715        0   \n",
       "45209   57   blue-collar   married  secondary        0      668        0   \n",
       "45210   37  entrepreneur   married  secondary        0     2971        0   \n",
       "\n",
       "       loan    contact  day_of_week month  duration  campaign  pdays  \\\n",
       "0         0    unknown            5   may       261         1     -1   \n",
       "1         0    unknown            5   may       151         1     -1   \n",
       "2         1    unknown            5   may        76         1     -1   \n",
       "3         0    unknown            5   may        92         1     -1   \n",
       "4         0    unknown            5   may       198         1     -1   \n",
       "...     ...        ...          ...   ...       ...       ...    ...   \n",
       "45206     0   cellular           17   nov       977         3     -1   \n",
       "45207     0   cellular           17   nov       456         2     -1   \n",
       "45208     0   cellular           17   nov      1127         5    184   \n",
       "45209     0  telephone           17   nov       508         4     -1   \n",
       "45210     0   cellular           17   nov       361         2    188   \n",
       "\n",
       "       previous poutcome  \n",
       "0             0  unknown  \n",
       "1             0  unknown  \n",
       "2             0  unknown  \n",
       "3             0  unknown  \n",
       "4             0  unknown  \n",
       "...         ...      ...  \n",
       "45206         0  unknown  \n",
       "45207         0  unknown  \n",
       "45208         3  success  \n",
       "45209         0  unknown  \n",
       "45210        11    other  \n",
       "\n",
       "[45211 rows x 16 columns]"
      ]
     },
     "execution_count": 28,
     "metadata": {},
     "output_type": "execute_result"
    }
   ],
   "source": [
    "df"
   ]
  },
  {
   "cell_type": "code",
   "execution_count": 29,
   "metadata": {},
   "outputs": [
    {
     "name": "stdout",
     "output_type": "stream",
     "text": [
      "   age           job  marital  education  default  balance  housing  loan  \\\n",
      "0   58    management  married   tertiary        0     2143        1     0   \n",
      "1   44    technician   single  secondary        0       29        1     0   \n",
      "2   33  entrepreneur  married  secondary        0        2        1     1   \n",
      "3   47   blue-collar  married    unknown        0     1506        1     0   \n",
      "4   33       unknown   single    unknown        0        1        0     0   \n",
      "\n",
      "   contact  day_of_week month  duration  campaign  pdays  previous poutcome  \n",
      "0  unknown            5   may       261         1     -1         0  unknown  \n",
      "1  unknown            5   may       151         1     -1         0  unknown  \n",
      "2  unknown            5   may        76         1     -1         0  unknown  \n",
      "3  unknown            5   may        92         1     -1         0  unknown  \n",
      "4  unknown            5   may       198         1     -1         0  unknown  \n"
     ]
    }
   ],
   "source": [
    "print(df.head())"
   ]
  },
  {
   "cell_type": "code",
   "execution_count": 30,
   "metadata": {},
   "outputs": [],
   "source": [
    "df2 = df.copy()\n",
    "df2['depo'] = y"
   ]
  },
  {
   "cell_type": "code",
   "execution_count": 31,
   "metadata": {},
   "outputs": [
    {
     "name": "stdout",
     "output_type": "stream",
     "text": [
      "housing\n"
     ]
    }
   ],
   "source": [
    "housing_rate = df2[df2['housing'] == 1]['depo'].mean()\n",
    "loan_rate = df2[df2['loan'] == 1]['depo'].mean()\n",
    "if housing_rate > loan_rate:\n",
    "    print(\"housing\")\n",
    "else:\n",
    "    print(\"loans\")"
   ]
  },
  {
   "cell_type": "code",
   "execution_count": 32,
   "metadata": {},
   "outputs": [
    {
     "name": "stdout",
     "output_type": "stream",
     "text": [
      "78.0,39.175,20.0,8.927\n"
     ]
    }
   ],
   "source": [
    "housing_age_stats = df2[df2['housing'] == 1]['age'].describe()[['min', 'max', 'mean', 'std']]\n",
    "q_4 =[]\n",
    "for i in housing_age_stats.round(3):\n",
    "    q_4.append(i)\n",
    "list_answer(q_4)"
   ]
  },
  {
   "cell_type": "markdown",
   "metadata": {},
   "source": [
    "-----"
   ]
  },
  {
   "cell_type": "markdown",
   "metadata": {},
   "source": [
    "## Q5\n",
    "### Visualize the feature `age` for success and fail cases. What can you say about received distributions? (use bins=10 or 20). Type letter as your answer\n",
    "- A. Distributions intersect significantly, hard to say for sure that the age matters.\n",
    "- B. Distributions intersect significantly, the bigger the age, the bigger the success.\n",
    "- C. Distributions intersect significantly, the less the age, the bigger the success.\n",
    "- D. Distributions have almost no intersection, the less the age, the bigger the success."
   ]
  },
  {
   "cell_type": "markdown",
   "metadata": {},
   "source": [
    "Correct answer is A"
   ]
  },
  {
   "cell_type": "code",
   "execution_count": 33,
   "metadata": {},
   "outputs": [
    {
     "data": {
      "text/plain": [
       "<Axes: xlabel='age', ylabel='Probability'>"
      ]
     },
     "execution_count": 33,
     "metadata": {},
     "output_type": "execute_result"
    },
    {
     "data": {
      "image/png": "[encoded data removed]",
      "text/plain": [
       "<Figure size 800x600 with 1 Axes>"
      ]
     },
     "metadata": {},
     "output_type": "display_data"
    }
   ],
   "source": [
    "plt.figure(figsize=(8, 6))\n",
    "sns.histplot(data=data, x='age', hue='depo', stat=\"probability\", kde=True, bins=20)"
   ]
  },
  {
   "cell_type": "code",
   "execution_count": 34,
   "metadata": {},
   "outputs": [
    {
     "name": "stdout",
     "output_type": "stream",
     "text": [
      "A\n"
     ]
    }
   ],
   "source": [
    "print('A')"
   ]
  },
  {
   "cell_type": "markdown",
   "metadata": {},
   "source": [
    "## Q6\n",
    "### Visualize the feature `duration` for success and fail cases. What can you say about received distributions? (use bins=10 or 20). Type letter as your answer\n",
    "- A. Distributions intersect significantly, hard to say for sure that the duration matters.\n",
    "- B. Distributions intersect significantly, the bigger the duration, the bigger the success.\n",
    "- C. Distributions intersect significantly, the less the duration, the bigger the success.\n",
    "- D. Distributions have almost no intersection, the bigger the duration, the bigger the success."
   ]
  },
  {
   "cell_type": "code",
   "execution_count": 35,
   "metadata": {},
   "outputs": [
    {
     "data": {
      "text/plain": [
       "<Axes: xlabel='duration', ylabel='Probability'>"
      ]
     },
     "execution_count": 35,
     "metadata": {},
     "output_type": "execute_result"
    },
    {
     "data": {
      "image/png": "[encoded data removed]",
      "text/plain": [
       "<Figure size 800x600 with 1 Axes>"
      ]
     },
     "metadata": {},
     "output_type": "display_data"
    }
   ],
   "source": [
    "plt.figure(figsize=(8, 6))\n",
    "sns.histplot(data=data, x='duration', hue='depo', stat=\"probability\", kde=True, bins=20)"
   ]
  },
  {
   "cell_type": "code",
   "execution_count": 36,
   "metadata": {
    "scrolled": true
   },
   "outputs": [
    {
     "name": "stdout",
     "output_type": "stream",
     "text": [
      "A\n"
     ]
    }
   ],
   "source": [
    "print('A')"
   ]
  },
  {
   "cell_type": "markdown",
   "metadata": {},
   "source": [
    "-----"
   ]
  },
  {
   "cell_type": "markdown",
   "metadata": {},
   "source": [
    "## Q7\n",
    "#### We need to define a list of numerical columns (not binary). How many numerical columns are there?"
   ]
  },
  {
   "cell_type": "code",
   "execution_count": 37,
   "metadata": {},
   "outputs": [
    {
     "data": {
      "text/plain": [
       "Index(['age', 'job', 'marital', 'education', 'default', 'balance', 'housing',\n",
       "       'loan', 'contact', 'day_of_week', 'month', 'duration', 'campaign',\n",
       "       'pdays', 'previous', 'poutcome'],\n",
       "      dtype='object')"
      ]
     },
     "execution_count": 37,
     "metadata": {},
     "output_type": "execute_result"
    }
   ],
   "source": [
    "# TODO define numerical columns\n",
    "df.keys()"
   ]
  },
  {
   "cell_type": "code",
   "execution_count": 38,
   "metadata": {},
   "outputs": [
    {
     "data": {
      "text/plain": [
       "age             int64\n",
       "job            object\n",
       "marital        object\n",
       "education      object\n",
       "default         int32\n",
       "balance         int64\n",
       "housing         int32\n",
       "loan            int32\n",
       "contact        object\n",
       "day_of_week     int64\n",
       "month          object\n",
       "duration        int64\n",
       "campaign        int64\n",
       "pdays           int64\n",
       "previous        int64\n",
       "poutcome       object\n",
       "dtype: object"
      ]
     },
     "execution_count": 38,
     "metadata": {},
     "output_type": "execute_result"
    }
   ],
   "source": [
    "df.dtypes"
   ]
  },
  {
   "cell_type": "markdown",
   "metadata": {},
   "source": [
    "As we see - all binary columns have 'int32' type, and numerical ones - 'int64'"
   ]
  },
  {
   "cell_type": "code",
   "execution_count": 39,
   "metadata": {},
   "outputs": [
    {
     "name": "stdout",
     "output_type": "stream",
     "text": [
      "age,balance,campaign,day_of_week,duration,pdays,previous\n"
     ]
    }
   ],
   "source": [
    "q7 = list(df.dtypes[df.dtypes == 'int64'].index)\n",
    "list_answer(q7)"
   ]
  },
  {
   "cell_type": "code",
   "execution_count": 40,
   "metadata": {},
   "outputs": [
    {
     "data": {
      "text/plain": [
       "7"
      ]
     },
     "execution_count": 40,
     "metadata": {},
     "output_type": "execute_result"
    }
   ],
   "source": [
    "len(q7)"
   ]
  },
  {
   "cell_type": "markdown",
   "metadata": {},
   "source": [
    "-----\n",
    "## Q8\n",
    "\n",
    "#### Compute Pearson correlation coefficient between the target variable and:\n",
    "#### 8.1 `balance`\n",
    "#### 8.2 `age`\n",
    "#### 8.3 `duration`\n",
    "#### 8.4 `pdays`\n",
    "#### 8.5 What numerical feature has the highest Pearson correlation with the target variable?"
   ]
  },
  {
   "cell_type": "markdown",
   "metadata": {},
   "source": [
    "#### 8.1 `balance`"
   ]
  },
  {
   "cell_type": "code",
   "execution_count": 41,
   "metadata": {},
   "outputs": [
    {
     "name": "stdout",
     "output_type": "stream",
     "text": [
      "0.053\n"
     ]
    }
   ],
   "source": [
    "p_cor = round(np.corrcoef(np.array(df['balance']), np.array(y.transpose()))[0, 1], 3)\n",
    "\n",
    "print(p_cor)"
   ]
  },
  {
   "cell_type": "markdown",
   "metadata": {},
   "source": [
    "#### 8.2 `age`"
   ]
  },
  {
   "cell_type": "code",
   "execution_count": 42,
   "metadata": {},
   "outputs": [
    {
     "name": "stdout",
     "output_type": "stream",
     "text": [
      "0.025\n"
     ]
    }
   ],
   "source": [
    "p_cor = round(np.corrcoef(np.array(df['age']), np.array(y.transpose()))[0, 1], 3)\n",
    "\n",
    "print(p_cor)"
   ]
  },
  {
   "cell_type": "markdown",
   "metadata": {},
   "source": [
    "#### 8.3 `duration`"
   ]
  },
  {
   "cell_type": "code",
   "execution_count": 43,
   "metadata": {},
   "outputs": [
    {
     "name": "stdout",
     "output_type": "stream",
     "text": [
      "0.395\n"
     ]
    }
   ],
   "source": [
    "p_cor = round(np.corrcoef(np.array(df['duration']), np.array(y.transpose()))[0, 1], 3)\n",
    "\n",
    "print(p_cor)"
   ]
  },
  {
   "cell_type": "markdown",
   "metadata": {},
   "source": [
    "#### 8.4 `pdays`"
   ]
  },
  {
   "cell_type": "code",
   "execution_count": 44,
   "metadata": {},
   "outputs": [
    {
     "name": "stdout",
     "output_type": "stream",
     "text": [
      "0.104\n"
     ]
    }
   ],
   "source": [
    "p_cor = round(np.corrcoef(np.array(df['pdays']), np.array(y.transpose()))[0, 1], 3)\n",
    "\n",
    "print(p_cor)"
   ]
  },
  {
   "cell_type": "markdown",
   "metadata": {},
   "source": [
    "#### 8.5 What numerical feature has the highest Pearson correlation with the target variable?"
   ]
  },
  {
   "cell_type": "code",
   "execution_count": 45,
   "metadata": {},
   "outputs": [
    {
     "name": "stdout",
     "output_type": "stream",
     "text": [
      "duration\n"
     ]
    }
   ],
   "source": [
    "print('duration')"
   ]
  },
  {
   "cell_type": "markdown",
   "metadata": {},
   "source": [
    "-----\n",
    "## Q9\n",
    "#### Visualize dependency of numerical data with success (target variable). Hint: look at seaborn `pairplot`. What do you think about it? Write your answer in the markdown cell in this notebook"
   ]
  },
  {
   "cell_type": "code",
   "execution_count": 46,
   "metadata": {},
   "outputs": [],
   "source": [
    "data['depo'] = (data['depo'] != 'no').astype(int)"
   ]
  },
  {
   "cell_type": "code",
   "execution_count": 47,
   "metadata": {},
   "outputs": [
    {
     "data": {
      "text/html": [
       "<div>\n",
       "<style scoped>\n",
       "    .dataframe tbody tr th:only-of-type {\n",
       "        vertical-align: middle;\n",
       "    }\n",
       "\n",
       "    .dataframe tbody tr th {\n",
       "        vertical-align: top;\n",
       "    }\n",
       "\n",
       "    .dataframe thead th {\n",
       "        text-align: right;\n",
       "    }\n",
       "</style>\n",
       "<table border=\"1\" class=\"dataframe\">\n",
       "  <thead>\n",
       "    <tr style=\"text-align: right;\">\n",
       "      <th></th>\n",
       "      <th>age</th>\n",
       "      <th>job</th>\n",
       "      <th>marital</th>\n",
       "      <th>education</th>\n",
       "      <th>default</th>\n",
       "      <th>balance</th>\n",
       "      <th>housing</th>\n",
       "      <th>loan</th>\n",
       "      <th>contact</th>\n",
       "      <th>day_of_week</th>\n",
       "      <th>month</th>\n",
       "      <th>duration</th>\n",
       "      <th>campaign</th>\n",
       "      <th>pdays</th>\n",
       "      <th>previous</th>\n",
       "      <th>poutcome</th>\n",
       "      <th>depo</th>\n",
       "    </tr>\n",
       "  </thead>\n",
       "  <tbody>\n",
       "    <tr>\n",
       "      <th>0</th>\n",
       "      <td>58</td>\n",
       "      <td>management</td>\n",
       "      <td>married</td>\n",
       "      <td>tertiary</td>\n",
       "      <td>no</td>\n",
       "      <td>2143</td>\n",
       "      <td>yes</td>\n",
       "      <td>no</td>\n",
       "      <td>unknown</td>\n",
       "      <td>5</td>\n",
       "      <td>may</td>\n",
       "      <td>261</td>\n",
       "      <td>1</td>\n",
       "      <td>-1</td>\n",
       "      <td>0</td>\n",
       "      <td>unknown</td>\n",
       "      <td>0</td>\n",
       "    </tr>\n",
       "    <tr>\n",
       "      <th>1</th>\n",
       "      <td>44</td>\n",
       "      <td>technician</td>\n",
       "      <td>single</td>\n",
       "      <td>secondary</td>\n",
       "      <td>no</td>\n",
       "      <td>29</td>\n",
       "      <td>yes</td>\n",
       "      <td>no</td>\n",
       "      <td>unknown</td>\n",
       "      <td>5</td>\n",
       "      <td>may</td>\n",
       "      <td>151</td>\n",
       "      <td>1</td>\n",
       "      <td>-1</td>\n",
       "      <td>0</td>\n",
       "      <td>unknown</td>\n",
       "      <td>0</td>\n",
       "    </tr>\n",
       "    <tr>\n",
       "      <th>2</th>\n",
       "      <td>33</td>\n",
       "      <td>entrepreneur</td>\n",
       "      <td>married</td>\n",
       "      <td>secondary</td>\n",
       "      <td>no</td>\n",
       "      <td>2</td>\n",
       "      <td>yes</td>\n",
       "      <td>yes</td>\n",
       "      <td>unknown</td>\n",
       "      <td>5</td>\n",
       "      <td>may</td>\n",
       "      <td>76</td>\n",
       "      <td>1</td>\n",
       "      <td>-1</td>\n",
       "      <td>0</td>\n",
       "      <td>unknown</td>\n",
       "      <td>0</td>\n",
       "    </tr>\n",
       "    <tr>\n",
       "      <th>3</th>\n",
       "      <td>47</td>\n",
       "      <td>blue-collar</td>\n",
       "      <td>married</td>\n",
       "      <td>unknown</td>\n",
       "      <td>no</td>\n",
       "      <td>1506</td>\n",
       "      <td>yes</td>\n",
       "      <td>no</td>\n",
       "      <td>unknown</td>\n",
       "      <td>5</td>\n",
       "      <td>may</td>\n",
       "      <td>92</td>\n",
       "      <td>1</td>\n",
       "      <td>-1</td>\n",
       "      <td>0</td>\n",
       "      <td>unknown</td>\n",
       "      <td>0</td>\n",
       "    </tr>\n",
       "    <tr>\n",
       "      <th>4</th>\n",
       "      <td>33</td>\n",
       "      <td>unknown</td>\n",
       "      <td>single</td>\n",
       "      <td>unknown</td>\n",
       "      <td>no</td>\n",
       "      <td>1</td>\n",
       "      <td>no</td>\n",
       "      <td>no</td>\n",
       "      <td>unknown</td>\n",
       "      <td>5</td>\n",
       "      <td>may</td>\n",
       "      <td>198</td>\n",
       "      <td>1</td>\n",
       "      <td>-1</td>\n",
       "      <td>0</td>\n",
       "      <td>unknown</td>\n",
       "      <td>0</td>\n",
       "    </tr>\n",
       "  </tbody>\n",
       "</table>\n",
       "</div>"
      ],
      "text/plain": [
       "   age           job  marital  education default  balance housing loan  \\\n",
       "0   58    management  married   tertiary      no     2143     yes   no   \n",
       "1   44    technician   single  secondary      no       29     yes   no   \n",
       "2   33  entrepreneur  married  secondary      no        2     yes  yes   \n",
       "3   47   blue-collar  married    unknown      no     1506     yes   no   \n",
       "4   33       unknown   single    unknown      no        1      no   no   \n",
       "\n",
       "   contact  day_of_week month  duration  campaign  pdays  previous poutcome  \\\n",
       "0  unknown            5   may       261         1     -1         0  unknown   \n",
       "1  unknown            5   may       151         1     -1         0  unknown   \n",
       "2  unknown            5   may        76         1     -1         0  unknown   \n",
       "3  unknown            5   may        92         1     -1         0  unknown   \n",
       "4  unknown            5   may       198         1     -1         0  unknown   \n",
       "\n",
       "   depo  \n",
       "0     0  \n",
       "1     0  \n",
       "2     0  \n",
       "3     0  \n",
       "4     0  "
      ]
     },
     "execution_count": 47,
     "metadata": {},
     "output_type": "execute_result"
    }
   ],
   "source": [
    "data.head()"
   ]
  },
  {
   "cell_type": "code",
   "execution_count": 48,
   "metadata": {
    "scrolled": false
   },
   "outputs": [
    {
     "data": {
      "text/plain": [
       "<seaborn.axisgrid.PairGrid at 0x1ee32c0a250>"
      ]
     },
     "execution_count": 48,
     "metadata": {},
     "output_type": "execute_result"
    },
    {
     "data": {
      "image/png": "[encoded data removed]",
      "text/plain": [
       "<Figure size 500x500 with 5 Axes>"
      ]
     },
     "metadata": {},
     "output_type": "display_data"
    }
   ],
   "source": [
    "sns.pairplot(data, vars=[\"depo\", \"age\"], corner=True)"
   ]
  },
  {
   "cell_type": "markdown",
   "metadata": {},
   "source": [
    "As we see, there is no visible difference between 0 and 1 from age on pairplot."
   ]
  },
  {
   "cell_type": "code",
   "execution_count": 49,
   "metadata": {},
   "outputs": [
    {
     "data": {
      "text/plain": [
       "<seaborn.axisgrid.PairGrid at 0x1ee32b923d0>"
      ]
     },
     "execution_count": 49,
     "metadata": {},
     "output_type": "execute_result"
    },
    {
     "data": {
      "image/png": "[encoded data removed]",
      "text/plain": [
       "<Figure size 500x500 with 5 Axes>"
      ]
     },
     "metadata": {},
     "output_type": "display_data"
    }
   ],
   "source": [
    "sns.pairplot(data, vars=[\"depo\", \"previous\"], corner=True)"
   ]
  },
  {
   "cell_type": "markdown",
   "metadata": {},
   "source": [
    "Looks, like client with most previous has 0 in depo, but clients between 50 and approximately 70 have only 1."
   ]
  },
  {
   "cell_type": "code",
   "execution_count": 50,
   "metadata": {},
   "outputs": [
    {
     "data": {
      "text/plain": [
       "<seaborn.axisgrid.PairGrid at 0x1ee336add50>"
      ]
     },
     "execution_count": 50,
     "metadata": {},
     "output_type": "execute_result"
    },
    {
     "data": {
      "image/png": "[encoded data removed]",
      "text/plain": [
       "<Figure size 500x500 with 5 Axes>"
      ]
     },
     "metadata": {},
     "output_type": "display_data"
    }
   ],
   "source": [
    "sns.pairplot(data, vars=[\"depo\", \"pdays\"], corner=True)"
   ]
  },
  {
   "cell_type": "markdown",
   "metadata": {},
   "source": [
    "There is no significant difference from pdays."
   ]
  },
  {
   "cell_type": "code",
   "execution_count": 51,
   "metadata": {},
   "outputs": [
    {
     "data": {
      "text/plain": [
       "<seaborn.axisgrid.PairGrid at 0x1ee3364eed0>"
      ]
     },
     "execution_count": 51,
     "metadata": {},
     "output_type": "execute_result"
    },
    {
     "data": {
      "image/png": "[encoded data removed]",
      "text/plain": [
       "<Figure size 500x500 with 5 Axes>"
      ]
     },
     "metadata": {},
     "output_type": "display_data"
    }
   ],
   "source": [
    "sns.pairplot(data, vars=[\"depo\", \"duration\"], corner=True)"
   ]
  },
  {
   "cell_type": "markdown",
   "metadata": {},
   "source": [
    "there are some durations that have only 0 - for example ~5000 and some only with 1 ~4000"
   ]
  },
  {
   "cell_type": "code",
   "execution_count": 52,
   "metadata": {},
   "outputs": [
    {
     "data": {
      "text/plain": [
       "<seaborn.axisgrid.PairGrid at 0x1ee34d8ca90>"
      ]
     },
     "execution_count": 52,
     "metadata": {},
     "output_type": "execute_result"
    },
    {
     "data": {
      "image/png": "[encoded data removed]",
      "text/plain": [
       "<Figure size 500x500 with 5 Axes>"
      ]
     },
     "metadata": {},
     "output_type": "display_data"
    }
   ],
   "source": [
    "sns.pairplot(data, vars=[\"depo\", \"day_of_week\"], corner=True)"
   ]
  },
  {
   "cell_type": "markdown",
   "metadata": {},
   "source": [
    "There is no significant difference from the day of week."
   ]
  },
  {
   "cell_type": "code",
   "execution_count": 53,
   "metadata": {},
   "outputs": [
    {
     "data": {
      "text/plain": [
       "<seaborn.axisgrid.PairGrid at 0x1ee32cb6250>"
      ]
     },
     "execution_count": 53,
     "metadata": {},
     "output_type": "execute_result"
    },
    {
     "data": {
      "image/png": "[encoded data removed]",
      "text/plain": [
       "<Figure size 500x500 with 5 Axes>"
      ]
     },
     "metadata": {},
     "output_type": "display_data"
    }
   ],
   "source": [
    "sns.pairplot(data, vars=[\"depo\", \"campaign\"], corner=True)"
   ]
  },
  {
   "cell_type": "code",
   "execution_count": 54,
   "metadata": {},
   "outputs": [
    {
     "data": {
      "text/plain": [
       "<seaborn.axisgrid.PairGrid at 0x1ee33476ed0>"
      ]
     },
     "execution_count": 54,
     "metadata": {},
     "output_type": "execute_result"
    },
    {
     "data": {
      "image/png": "[encoded data removed]",
      "text/plain": [
       "<Figure size 500x500 with 5 Axes>"
      ]
     },
     "metadata": {},
     "output_type": "display_data"
    }
   ],
   "source": [
    "sns.pairplot(data, vars=[\"depo\", \"balance\"], corner=True)"
   ]
  },
  {
   "cell_type": "markdown",
   "metadata": {},
   "source": [
    "I don't like such plot - we can't say something here. Pair correlation plot will be better for me."
   ]
  },
  {
   "cell_type": "code",
   "execution_count": 55,
   "metadata": {},
   "outputs": [
    {
     "name": "stderr",
     "output_type": "stream",
     "text": [
      "C:\\Users\\peter\\AppData\\Local\\Temp\\ipykernel_10052\\689274541.py:2: FutureWarning: The default value of numeric_only in DataFrame.corr is deprecated. In a future version, it will default to False. Select only valid columns or specify the value of numeric_only to silence this warning.\n",
      "  sns.heatmap(data.corr(),fmt = '.3g',square=True, annot = True, vmin=-1, vmax=1, center= 0, cmap= 'coolwarm', linewidths=3, linecolor='black')\n"
     ]
    },
    {
     "data": {
      "text/plain": [
       "<Axes: >"
      ]
     },
     "execution_count": 55,
     "metadata": {},
     "output_type": "execute_result"
    },
    {
     "data": {
      "image/png": "[encoded data removed]",
      "text/plain": [
       "<Figure size 1000x1000 with 2 Axes>"
      ]
     },
     "metadata": {},
     "output_type": "display_data"
    }
   ],
   "source": [
    "fig, ax = plt.subplots(figsize=(10,10))\n",
    "sns.heatmap(data.corr(),fmt = '.3g',square=True, annot = True, vmin=-1, vmax=1, center= 0, cmap= 'coolwarm', linewidths=3, linecolor='black')"
   ]
  },
  {
   "cell_type": "markdown",
   "metadata": {},
   "source": [
    "## Q10 Feature generation\n",
    "Lets' generate some more features that could be useful.\n",
    "\n",
    "#### Create a binary column that would hold the info if the person was contacted before (use column `pdays`). How many people were not contacted earlier?"
   ]
  },
  {
   "cell_type": "code",
   "execution_count": 56,
   "metadata": {},
   "outputs": [],
   "source": [
    "df['contacted'] = (df['pdays'] != -1).astype(int)"
   ]
  },
  {
   "cell_type": "code",
   "execution_count": 57,
   "metadata": {
    "scrolled": true
   },
   "outputs": [
    {
     "data": {
      "text/html": [
       "<div>\n",
       "<style scoped>\n",
       "    .dataframe tbody tr th:only-of-type {\n",
       "        vertical-align: middle;\n",
       "    }\n",
       "\n",
       "    .dataframe tbody tr th {\n",
       "        vertical-align: top;\n",
       "    }\n",
       "\n",
       "    .dataframe thead th {\n",
       "        text-align: right;\n",
       "    }\n",
       "</style>\n",
       "<table border=\"1\" class=\"dataframe\">\n",
       "  <thead>\n",
       "    <tr style=\"text-align: right;\">\n",
       "      <th></th>\n",
       "      <th>age</th>\n",
       "      <th>job</th>\n",
       "      <th>marital</th>\n",
       "      <th>education</th>\n",
       "      <th>default</th>\n",
       "      <th>balance</th>\n",
       "      <th>housing</th>\n",
       "      <th>loan</th>\n",
       "      <th>contact</th>\n",
       "      <th>day_of_week</th>\n",
       "      <th>month</th>\n",
       "      <th>duration</th>\n",
       "      <th>campaign</th>\n",
       "      <th>pdays</th>\n",
       "      <th>previous</th>\n",
       "      <th>poutcome</th>\n",
       "      <th>contacted</th>\n",
       "    </tr>\n",
       "  </thead>\n",
       "  <tbody>\n",
       "    <tr>\n",
       "      <th>0</th>\n",
       "      <td>58</td>\n",
       "      <td>management</td>\n",
       "      <td>married</td>\n",
       "      <td>tertiary</td>\n",
       "      <td>0</td>\n",
       "      <td>2143</td>\n",
       "      <td>1</td>\n",
       "      <td>0</td>\n",
       "      <td>unknown</td>\n",
       "      <td>5</td>\n",
       "      <td>may</td>\n",
       "      <td>261</td>\n",
       "      <td>1</td>\n",
       "      <td>-1</td>\n",
       "      <td>0</td>\n",
       "      <td>unknown</td>\n",
       "      <td>0</td>\n",
       "    </tr>\n",
       "    <tr>\n",
       "      <th>1</th>\n",
       "      <td>44</td>\n",
       "      <td>technician</td>\n",
       "      <td>single</td>\n",
       "      <td>secondary</td>\n",
       "      <td>0</td>\n",
       "      <td>29</td>\n",
       "      <td>1</td>\n",
       "      <td>0</td>\n",
       "      <td>unknown</td>\n",
       "      <td>5</td>\n",
       "      <td>may</td>\n",
       "      <td>151</td>\n",
       "      <td>1</td>\n",
       "      <td>-1</td>\n",
       "      <td>0</td>\n",
       "      <td>unknown</td>\n",
       "      <td>0</td>\n",
       "    </tr>\n",
       "    <tr>\n",
       "      <th>2</th>\n",
       "      <td>33</td>\n",
       "      <td>entrepreneur</td>\n",
       "      <td>married</td>\n",
       "      <td>secondary</td>\n",
       "      <td>0</td>\n",
       "      <td>2</td>\n",
       "      <td>1</td>\n",
       "      <td>1</td>\n",
       "      <td>unknown</td>\n",
       "      <td>5</td>\n",
       "      <td>may</td>\n",
       "      <td>76</td>\n",
       "      <td>1</td>\n",
       "      <td>-1</td>\n",
       "      <td>0</td>\n",
       "      <td>unknown</td>\n",
       "      <td>0</td>\n",
       "    </tr>\n",
       "    <tr>\n",
       "      <th>3</th>\n",
       "      <td>47</td>\n",
       "      <td>blue-collar</td>\n",
       "      <td>married</td>\n",
       "      <td>unknown</td>\n",
       "      <td>0</td>\n",
       "      <td>1506</td>\n",
       "      <td>1</td>\n",
       "      <td>0</td>\n",
       "      <td>unknown</td>\n",
       "      <td>5</td>\n",
       "      <td>may</td>\n",
       "      <td>92</td>\n",
       "      <td>1</td>\n",
       "      <td>-1</td>\n",
       "      <td>0</td>\n",
       "      <td>unknown</td>\n",
       "      <td>0</td>\n",
       "    </tr>\n",
       "    <tr>\n",
       "      <th>4</th>\n",
       "      <td>33</td>\n",
       "      <td>unknown</td>\n",
       "      <td>single</td>\n",
       "      <td>unknown</td>\n",
       "      <td>0</td>\n",
       "      <td>1</td>\n",
       "      <td>0</td>\n",
       "      <td>0</td>\n",
       "      <td>unknown</td>\n",
       "      <td>5</td>\n",
       "      <td>may</td>\n",
       "      <td>198</td>\n",
       "      <td>1</td>\n",
       "      <td>-1</td>\n",
       "      <td>0</td>\n",
       "      <td>unknown</td>\n",
       "      <td>0</td>\n",
       "    </tr>\n",
       "    <tr>\n",
       "      <th>...</th>\n",
       "      <td>...</td>\n",
       "      <td>...</td>\n",
       "      <td>...</td>\n",
       "      <td>...</td>\n",
       "      <td>...</td>\n",
       "      <td>...</td>\n",
       "      <td>...</td>\n",
       "      <td>...</td>\n",
       "      <td>...</td>\n",
       "      <td>...</td>\n",
       "      <td>...</td>\n",
       "      <td>...</td>\n",
       "      <td>...</td>\n",
       "      <td>...</td>\n",
       "      <td>...</td>\n",
       "      <td>...</td>\n",
       "      <td>...</td>\n",
       "    </tr>\n",
       "    <tr>\n",
       "      <th>45206</th>\n",
       "      <td>51</td>\n",
       "      <td>technician</td>\n",
       "      <td>married</td>\n",
       "      <td>tertiary</td>\n",
       "      <td>0</td>\n",
       "      <td>825</td>\n",
       "      <td>0</td>\n",
       "      <td>0</td>\n",
       "      <td>cellular</td>\n",
       "      <td>17</td>\n",
       "      <td>nov</td>\n",
       "      <td>977</td>\n",
       "      <td>3</td>\n",
       "      <td>-1</td>\n",
       "      <td>0</td>\n",
       "      <td>unknown</td>\n",
       "      <td>0</td>\n",
       "    </tr>\n",
       "    <tr>\n",
       "      <th>45207</th>\n",
       "      <td>71</td>\n",
       "      <td>retired</td>\n",
       "      <td>divorced</td>\n",
       "      <td>primary</td>\n",
       "      <td>0</td>\n",
       "      <td>1729</td>\n",
       "      <td>0</td>\n",
       "      <td>0</td>\n",
       "      <td>cellular</td>\n",
       "      <td>17</td>\n",
       "      <td>nov</td>\n",
       "      <td>456</td>\n",
       "      <td>2</td>\n",
       "      <td>-1</td>\n",
       "      <td>0</td>\n",
       "      <td>unknown</td>\n",
       "      <td>0</td>\n",
       "    </tr>\n",
       "    <tr>\n",
       "      <th>45208</th>\n",
       "      <td>72</td>\n",
       "      <td>retired</td>\n",
       "      <td>married</td>\n",
       "      <td>secondary</td>\n",
       "      <td>0</td>\n",
       "      <td>5715</td>\n",
       "      <td>0</td>\n",
       "      <td>0</td>\n",
       "      <td>cellular</td>\n",
       "      <td>17</td>\n",
       "      <td>nov</td>\n",
       "      <td>1127</td>\n",
       "      <td>5</td>\n",
       "      <td>184</td>\n",
       "      <td>3</td>\n",
       "      <td>success</td>\n",
       "      <td>1</td>\n",
       "    </tr>\n",
       "    <tr>\n",
       "      <th>45209</th>\n",
       "      <td>57</td>\n",
       "      <td>blue-collar</td>\n",
       "      <td>married</td>\n",
       "      <td>secondary</td>\n",
       "      <td>0</td>\n",
       "      <td>668</td>\n",
       "      <td>0</td>\n",
       "      <td>0</td>\n",
       "      <td>telephone</td>\n",
       "      <td>17</td>\n",
       "      <td>nov</td>\n",
       "      <td>508</td>\n",
       "      <td>4</td>\n",
       "      <td>-1</td>\n",
       "      <td>0</td>\n",
       "      <td>unknown</td>\n",
       "      <td>0</td>\n",
       "    </tr>\n",
       "    <tr>\n",
       "      <th>45210</th>\n",
       "      <td>37</td>\n",
       "      <td>entrepreneur</td>\n",
       "      <td>married</td>\n",
       "      <td>secondary</td>\n",
       "      <td>0</td>\n",
       "      <td>2971</td>\n",
       "      <td>0</td>\n",
       "      <td>0</td>\n",
       "      <td>cellular</td>\n",
       "      <td>17</td>\n",
       "      <td>nov</td>\n",
       "      <td>361</td>\n",
       "      <td>2</td>\n",
       "      <td>188</td>\n",
       "      <td>11</td>\n",
       "      <td>other</td>\n",
       "      <td>1</td>\n",
       "    </tr>\n",
       "  </tbody>\n",
       "</table>\n",
       "<p>45211 rows × 17 columns</p>\n",
       "</div>"
      ],
      "text/plain": [
       "       age           job   marital  education  default  balance  housing  \\\n",
       "0       58    management   married   tertiary        0     2143        1   \n",
       "1       44    technician    single  secondary        0       29        1   \n",
       "2       33  entrepreneur   married  secondary        0        2        1   \n",
       "3       47   blue-collar   married    unknown        0     1506        1   \n",
       "4       33       unknown    single    unknown        0        1        0   \n",
       "...    ...           ...       ...        ...      ...      ...      ...   \n",
       "45206   51    technician   married   tertiary        0      825        0   \n",
       "45207   71       retired  divorced    primary        0     1729        0   \n",
       "45208   72       retired   married  secondary        0     5715        0   \n",
       "45209   57   blue-collar   married  secondary        0      668        0   \n",
       "45210   37  entrepreneur   married  secondary        0     2971        0   \n",
       "\n",
       "       loan    contact  day_of_week month  duration  campaign  pdays  \\\n",
       "0         0    unknown            5   may       261         1     -1   \n",
       "1         0    unknown            5   may       151         1     -1   \n",
       "2         1    unknown            5   may        76         1     -1   \n",
       "3         0    unknown            5   may        92         1     -1   \n",
       "4         0    unknown            5   may       198         1     -1   \n",
       "...     ...        ...          ...   ...       ...       ...    ...   \n",
       "45206     0   cellular           17   nov       977         3     -1   \n",
       "45207     0   cellular           17   nov       456         2     -1   \n",
       "45208     0   cellular           17   nov      1127         5    184   \n",
       "45209     0  telephone           17   nov       508         4     -1   \n",
       "45210     0   cellular           17   nov       361         2    188   \n",
       "\n",
       "       previous poutcome  contacted  \n",
       "0             0  unknown          0  \n",
       "1             0  unknown          0  \n",
       "2             0  unknown          0  \n",
       "3             0  unknown          0  \n",
       "4             0  unknown          0  \n",
       "...         ...      ...        ...  \n",
       "45206         0  unknown          0  \n",
       "45207         0  unknown          0  \n",
       "45208         3  success          1  \n",
       "45209         0  unknown          0  \n",
       "45210        11    other          1  \n",
       "\n",
       "[45211 rows x 17 columns]"
      ]
     },
     "execution_count": 57,
     "metadata": {},
     "output_type": "execute_result"
    }
   ],
   "source": [
    "df"
   ]
  },
  {
   "cell_type": "code",
   "execution_count": 58,
   "metadata": {},
   "outputs": [
    {
     "data": {
      "text/plain": [
       "36954"
      ]
     },
     "execution_count": 58,
     "metadata": {},
     "output_type": "execute_result"
    }
   ],
   "source": [
    "df[(df[\"contacted\"]==0)].shape[0]"
   ]
  },
  {
   "cell_type": "markdown",
   "metadata": {},
   "source": [
    "------\n",
    "-----\n",
    "# Preprocessing\n",
    "\n",
    "## Q11\n",
    "Drop the leaking column with target variable from your dataframe (if you have added it earlier).\n",
    "\n",
    "#### How many columns do you have now?"
   ]
  },
  {
   "cell_type": "code",
   "execution_count": 59,
   "metadata": {},
   "outputs": [
    {
     "data": {
      "text/plain": [
       "17"
      ]
     },
     "execution_count": 59,
     "metadata": {},
     "output_type": "execute_result"
    }
   ],
   "source": [
    "len(df.keys())"
   ]
  },
  {
   "cell_type": "markdown",
   "metadata": {},
   "source": [
    "-----\n",
    "## Q12\n",
    "Add one-hot labels for categorical columns. For a column with $k$ categories you should keep $k - 1$ one-hot columns.\n",
    "\n",
    "Drop the initial categorical columns from the DataFrame. \n",
    "\n",
    "#### How many resulting columns in a DataFrame do you have after this operation?"
   ]
  },
  {
   "cell_type": "code",
   "execution_count": 60,
   "metadata": {},
   "outputs": [
    {
     "data": {
      "text/html": [
       "<div>\n",
       "<style scoped>\n",
       "    .dataframe tbody tr th:only-of-type {\n",
       "        vertical-align: middle;\n",
       "    }\n",
       "\n",
       "    .dataframe tbody tr th {\n",
       "        vertical-align: top;\n",
       "    }\n",
       "\n",
       "    .dataframe thead th {\n",
       "        text-align: right;\n",
       "    }\n",
       "</style>\n",
       "<table border=\"1\" class=\"dataframe\">\n",
       "  <thead>\n",
       "    <tr style=\"text-align: right;\">\n",
       "      <th></th>\n",
       "      <th>age</th>\n",
       "      <th>job</th>\n",
       "      <th>marital</th>\n",
       "      <th>education</th>\n",
       "      <th>default</th>\n",
       "      <th>balance</th>\n",
       "      <th>housing</th>\n",
       "      <th>loan</th>\n",
       "      <th>contact</th>\n",
       "      <th>day_of_week</th>\n",
       "      <th>month</th>\n",
       "      <th>duration</th>\n",
       "      <th>campaign</th>\n",
       "      <th>pdays</th>\n",
       "      <th>previous</th>\n",
       "      <th>poutcome</th>\n",
       "      <th>contacted</th>\n",
       "    </tr>\n",
       "  </thead>\n",
       "  <tbody>\n",
       "    <tr>\n",
       "      <th>0</th>\n",
       "      <td>58</td>\n",
       "      <td>management</td>\n",
       "      <td>married</td>\n",
       "      <td>tertiary</td>\n",
       "      <td>0</td>\n",
       "      <td>2143</td>\n",
       "      <td>1</td>\n",
       "      <td>0</td>\n",
       "      <td>unknown</td>\n",
       "      <td>5</td>\n",
       "      <td>may</td>\n",
       "      <td>261</td>\n",
       "      <td>1</td>\n",
       "      <td>-1</td>\n",
       "      <td>0</td>\n",
       "      <td>unknown</td>\n",
       "      <td>0</td>\n",
       "    </tr>\n",
       "    <tr>\n",
       "      <th>1</th>\n",
       "      <td>44</td>\n",
       "      <td>technician</td>\n",
       "      <td>single</td>\n",
       "      <td>secondary</td>\n",
       "      <td>0</td>\n",
       "      <td>29</td>\n",
       "      <td>1</td>\n",
       "      <td>0</td>\n",
       "      <td>unknown</td>\n",
       "      <td>5</td>\n",
       "      <td>may</td>\n",
       "      <td>151</td>\n",
       "      <td>1</td>\n",
       "      <td>-1</td>\n",
       "      <td>0</td>\n",
       "      <td>unknown</td>\n",
       "      <td>0</td>\n",
       "    </tr>\n",
       "    <tr>\n",
       "      <th>2</th>\n",
       "      <td>33</td>\n",
       "      <td>entrepreneur</td>\n",
       "      <td>married</td>\n",
       "      <td>secondary</td>\n",
       "      <td>0</td>\n",
       "      <td>2</td>\n",
       "      <td>1</td>\n",
       "      <td>1</td>\n",
       "      <td>unknown</td>\n",
       "      <td>5</td>\n",
       "      <td>may</td>\n",
       "      <td>76</td>\n",
       "      <td>1</td>\n",
       "      <td>-1</td>\n",
       "      <td>0</td>\n",
       "      <td>unknown</td>\n",
       "      <td>0</td>\n",
       "    </tr>\n",
       "    <tr>\n",
       "      <th>3</th>\n",
       "      <td>47</td>\n",
       "      <td>blue-collar</td>\n",
       "      <td>married</td>\n",
       "      <td>unknown</td>\n",
       "      <td>0</td>\n",
       "      <td>1506</td>\n",
       "      <td>1</td>\n",
       "      <td>0</td>\n",
       "      <td>unknown</td>\n",
       "      <td>5</td>\n",
       "      <td>may</td>\n",
       "      <td>92</td>\n",
       "      <td>1</td>\n",
       "      <td>-1</td>\n",
       "      <td>0</td>\n",
       "      <td>unknown</td>\n",
       "      <td>0</td>\n",
       "    </tr>\n",
       "    <tr>\n",
       "      <th>4</th>\n",
       "      <td>33</td>\n",
       "      <td>unknown</td>\n",
       "      <td>single</td>\n",
       "      <td>unknown</td>\n",
       "      <td>0</td>\n",
       "      <td>1</td>\n",
       "      <td>0</td>\n",
       "      <td>0</td>\n",
       "      <td>unknown</td>\n",
       "      <td>5</td>\n",
       "      <td>may</td>\n",
       "      <td>198</td>\n",
       "      <td>1</td>\n",
       "      <td>-1</td>\n",
       "      <td>0</td>\n",
       "      <td>unknown</td>\n",
       "      <td>0</td>\n",
       "    </tr>\n",
       "    <tr>\n",
       "      <th>5</th>\n",
       "      <td>35</td>\n",
       "      <td>management</td>\n",
       "      <td>married</td>\n",
       "      <td>tertiary</td>\n",
       "      <td>0</td>\n",
       "      <td>231</td>\n",
       "      <td>1</td>\n",
       "      <td>0</td>\n",
       "      <td>unknown</td>\n",
       "      <td>5</td>\n",
       "      <td>may</td>\n",
       "      <td>139</td>\n",
       "      <td>1</td>\n",
       "      <td>-1</td>\n",
       "      <td>0</td>\n",
       "      <td>unknown</td>\n",
       "      <td>0</td>\n",
       "    </tr>\n",
       "    <tr>\n",
       "      <th>6</th>\n",
       "      <td>28</td>\n",
       "      <td>management</td>\n",
       "      <td>single</td>\n",
       "      <td>tertiary</td>\n",
       "      <td>0</td>\n",
       "      <td>447</td>\n",
       "      <td>1</td>\n",
       "      <td>1</td>\n",
       "      <td>unknown</td>\n",
       "      <td>5</td>\n",
       "      <td>may</td>\n",
       "      <td>217</td>\n",
       "      <td>1</td>\n",
       "      <td>-1</td>\n",
       "      <td>0</td>\n",
       "      <td>unknown</td>\n",
       "      <td>0</td>\n",
       "    </tr>\n",
       "    <tr>\n",
       "      <th>7</th>\n",
       "      <td>42</td>\n",
       "      <td>entrepreneur</td>\n",
       "      <td>divorced</td>\n",
       "      <td>tertiary</td>\n",
       "      <td>1</td>\n",
       "      <td>2</td>\n",
       "      <td>1</td>\n",
       "      <td>0</td>\n",
       "      <td>unknown</td>\n",
       "      <td>5</td>\n",
       "      <td>may</td>\n",
       "      <td>380</td>\n",
       "      <td>1</td>\n",
       "      <td>-1</td>\n",
       "      <td>0</td>\n",
       "      <td>unknown</td>\n",
       "      <td>0</td>\n",
       "    </tr>\n",
       "    <tr>\n",
       "      <th>8</th>\n",
       "      <td>58</td>\n",
       "      <td>retired</td>\n",
       "      <td>married</td>\n",
       "      <td>primary</td>\n",
       "      <td>0</td>\n",
       "      <td>121</td>\n",
       "      <td>1</td>\n",
       "      <td>0</td>\n",
       "      <td>unknown</td>\n",
       "      <td>5</td>\n",
       "      <td>may</td>\n",
       "      <td>50</td>\n",
       "      <td>1</td>\n",
       "      <td>-1</td>\n",
       "      <td>0</td>\n",
       "      <td>unknown</td>\n",
       "      <td>0</td>\n",
       "    </tr>\n",
       "    <tr>\n",
       "      <th>9</th>\n",
       "      <td>43</td>\n",
       "      <td>technician</td>\n",
       "      <td>single</td>\n",
       "      <td>secondary</td>\n",
       "      <td>0</td>\n",
       "      <td>593</td>\n",
       "      <td>1</td>\n",
       "      <td>0</td>\n",
       "      <td>unknown</td>\n",
       "      <td>5</td>\n",
       "      <td>may</td>\n",
       "      <td>55</td>\n",
       "      <td>1</td>\n",
       "      <td>-1</td>\n",
       "      <td>0</td>\n",
       "      <td>unknown</td>\n",
       "      <td>0</td>\n",
       "    </tr>\n",
       "  </tbody>\n",
       "</table>\n",
       "</div>"
      ],
      "text/plain": [
       "   age           job   marital  education  default  balance  housing  loan  \\\n",
       "0   58    management   married   tertiary        0     2143        1     0   \n",
       "1   44    technician    single  secondary        0       29        1     0   \n",
       "2   33  entrepreneur   married  secondary        0        2        1     1   \n",
       "3   47   blue-collar   married    unknown        0     1506        1     0   \n",
       "4   33       unknown    single    unknown        0        1        0     0   \n",
       "5   35    management   married   tertiary        0      231        1     0   \n",
       "6   28    management    single   tertiary        0      447        1     1   \n",
       "7   42  entrepreneur  divorced   tertiary        1        2        1     0   \n",
       "8   58       retired   married    primary        0      121        1     0   \n",
       "9   43    technician    single  secondary        0      593        1     0   \n",
       "\n",
       "   contact  day_of_week month  duration  campaign  pdays  previous poutcome  \\\n",
       "0  unknown            5   may       261         1     -1         0  unknown   \n",
       "1  unknown            5   may       151         1     -1         0  unknown   \n",
       "2  unknown            5   may        76         1     -1         0  unknown   \n",
       "3  unknown            5   may        92         1     -1         0  unknown   \n",
       "4  unknown            5   may       198         1     -1         0  unknown   \n",
       "5  unknown            5   may       139         1     -1         0  unknown   \n",
       "6  unknown            5   may       217         1     -1         0  unknown   \n",
       "7  unknown            5   may       380         1     -1         0  unknown   \n",
       "8  unknown            5   may        50         1     -1         0  unknown   \n",
       "9  unknown            5   may        55         1     -1         0  unknown   \n",
       "\n",
       "   contacted  \n",
       "0          0  \n",
       "1          0  \n",
       "2          0  \n",
       "3          0  \n",
       "4          0  \n",
       "5          0  \n",
       "6          0  \n",
       "7          0  \n",
       "8          0  \n",
       "9          0  "
      ]
     },
     "execution_count": 60,
     "metadata": {},
     "output_type": "execute_result"
    }
   ],
   "source": [
    "df.head(10)"
   ]
  },
  {
   "cell_type": "code",
   "execution_count": 61,
   "metadata": {},
   "outputs": [],
   "source": [
    "df = pd.get_dummies(df, drop_first=True)"
   ]
  },
  {
   "cell_type": "code",
   "execution_count": 62,
   "metadata": {},
   "outputs": [
    {
     "data": {
      "text/html": [
       "<div>\n",
       "<style scoped>\n",
       "    .dataframe tbody tr th:only-of-type {\n",
       "        vertical-align: middle;\n",
       "    }\n",
       "\n",
       "    .dataframe tbody tr th {\n",
       "        vertical-align: top;\n",
       "    }\n",
       "\n",
       "    .dataframe thead th {\n",
       "        text-align: right;\n",
       "    }\n",
       "</style>\n",
       "<table border=\"1\" class=\"dataframe\">\n",
       "  <thead>\n",
       "    <tr style=\"text-align: right;\">\n",
       "      <th></th>\n",
       "      <th>age</th>\n",
       "      <th>default</th>\n",
       "      <th>balance</th>\n",
       "      <th>housing</th>\n",
       "      <th>loan</th>\n",
       "      <th>day_of_week</th>\n",
       "      <th>duration</th>\n",
       "      <th>campaign</th>\n",
       "      <th>pdays</th>\n",
       "      <th>previous</th>\n",
       "      <th>...</th>\n",
       "      <th>month_jul</th>\n",
       "      <th>month_jun</th>\n",
       "      <th>month_mar</th>\n",
       "      <th>month_may</th>\n",
       "      <th>month_nov</th>\n",
       "      <th>month_oct</th>\n",
       "      <th>month_sep</th>\n",
       "      <th>poutcome_other</th>\n",
       "      <th>poutcome_success</th>\n",
       "      <th>poutcome_unknown</th>\n",
       "    </tr>\n",
       "  </thead>\n",
       "  <tbody>\n",
       "    <tr>\n",
       "      <th>0</th>\n",
       "      <td>58</td>\n",
       "      <td>0</td>\n",
       "      <td>2143</td>\n",
       "      <td>1</td>\n",
       "      <td>0</td>\n",
       "      <td>5</td>\n",
       "      <td>261</td>\n",
       "      <td>1</td>\n",
       "      <td>-1</td>\n",
       "      <td>0</td>\n",
       "      <td>...</td>\n",
       "      <td>0</td>\n",
       "      <td>0</td>\n",
       "      <td>0</td>\n",
       "      <td>1</td>\n",
       "      <td>0</td>\n",
       "      <td>0</td>\n",
       "      <td>0</td>\n",
       "      <td>0</td>\n",
       "      <td>0</td>\n",
       "      <td>1</td>\n",
       "    </tr>\n",
       "    <tr>\n",
       "      <th>1</th>\n",
       "      <td>44</td>\n",
       "      <td>0</td>\n",
       "      <td>29</td>\n",
       "      <td>1</td>\n",
       "      <td>0</td>\n",
       "      <td>5</td>\n",
       "      <td>151</td>\n",
       "      <td>1</td>\n",
       "      <td>-1</td>\n",
       "      <td>0</td>\n",
       "      <td>...</td>\n",
       "      <td>0</td>\n",
       "      <td>0</td>\n",
       "      <td>0</td>\n",
       "      <td>1</td>\n",
       "      <td>0</td>\n",
       "      <td>0</td>\n",
       "      <td>0</td>\n",
       "      <td>0</td>\n",
       "      <td>0</td>\n",
       "      <td>1</td>\n",
       "    </tr>\n",
       "    <tr>\n",
       "      <th>2</th>\n",
       "      <td>33</td>\n",
       "      <td>0</td>\n",
       "      <td>2</td>\n",
       "      <td>1</td>\n",
       "      <td>1</td>\n",
       "      <td>5</td>\n",
       "      <td>76</td>\n",
       "      <td>1</td>\n",
       "      <td>-1</td>\n",
       "      <td>0</td>\n",
       "      <td>...</td>\n",
       "      <td>0</td>\n",
       "      <td>0</td>\n",
       "      <td>0</td>\n",
       "      <td>1</td>\n",
       "      <td>0</td>\n",
       "      <td>0</td>\n",
       "      <td>0</td>\n",
       "      <td>0</td>\n",
       "      <td>0</td>\n",
       "      <td>1</td>\n",
       "    </tr>\n",
       "    <tr>\n",
       "      <th>3</th>\n",
       "      <td>47</td>\n",
       "      <td>0</td>\n",
       "      <td>1506</td>\n",
       "      <td>1</td>\n",
       "      <td>0</td>\n",
       "      <td>5</td>\n",
       "      <td>92</td>\n",
       "      <td>1</td>\n",
       "      <td>-1</td>\n",
       "      <td>0</td>\n",
       "      <td>...</td>\n",
       "      <td>0</td>\n",
       "      <td>0</td>\n",
       "      <td>0</td>\n",
       "      <td>1</td>\n",
       "      <td>0</td>\n",
       "      <td>0</td>\n",
       "      <td>0</td>\n",
       "      <td>0</td>\n",
       "      <td>0</td>\n",
       "      <td>1</td>\n",
       "    </tr>\n",
       "    <tr>\n",
       "      <th>4</th>\n",
       "      <td>33</td>\n",
       "      <td>0</td>\n",
       "      <td>1</td>\n",
       "      <td>0</td>\n",
       "      <td>0</td>\n",
       "      <td>5</td>\n",
       "      <td>198</td>\n",
       "      <td>1</td>\n",
       "      <td>-1</td>\n",
       "      <td>0</td>\n",
       "      <td>...</td>\n",
       "      <td>0</td>\n",
       "      <td>0</td>\n",
       "      <td>0</td>\n",
       "      <td>1</td>\n",
       "      <td>0</td>\n",
       "      <td>0</td>\n",
       "      <td>0</td>\n",
       "      <td>0</td>\n",
       "      <td>0</td>\n",
       "      <td>1</td>\n",
       "    </tr>\n",
       "  </tbody>\n",
       "</table>\n",
       "<p>5 rows × 43 columns</p>\n",
       "</div>"
      ],
      "text/plain": [
       "   age  default  balance  housing  loan  day_of_week  duration  campaign  \\\n",
       "0   58        0     2143        1     0            5       261         1   \n",
       "1   44        0       29        1     0            5       151         1   \n",
       "2   33        0        2        1     1            5        76         1   \n",
       "3   47        0     1506        1     0            5        92         1   \n",
       "4   33        0        1        0     0            5       198         1   \n",
       "\n",
       "   pdays  previous  ...  month_jul  month_jun  month_mar  month_may  \\\n",
       "0     -1         0  ...          0          0          0          1   \n",
       "1     -1         0  ...          0          0          0          1   \n",
       "2     -1         0  ...          0          0          0          1   \n",
       "3     -1         0  ...          0          0          0          1   \n",
       "4     -1         0  ...          0          0          0          1   \n",
       "\n",
       "   month_nov  month_oct  month_sep  poutcome_other  poutcome_success  \\\n",
       "0          0          0          0               0                 0   \n",
       "1          0          0          0               0                 0   \n",
       "2          0          0          0               0                 0   \n",
       "3          0          0          0               0                 0   \n",
       "4          0          0          0               0                 0   \n",
       "\n",
       "   poutcome_unknown  \n",
       "0                 1  \n",
       "1                 1  \n",
       "2                 1  \n",
       "3                 1  \n",
       "4                 1  \n",
       "\n",
       "[5 rows x 43 columns]"
      ]
     },
     "execution_count": 62,
     "metadata": {},
     "output_type": "execute_result"
    }
   ],
   "source": [
    "df.head()"
   ]
  },
  {
   "cell_type": "code",
   "execution_count": 63,
   "metadata": {},
   "outputs": [
    {
     "data": {
      "text/plain": [
       "43"
      ]
     },
     "execution_count": 63,
     "metadata": {},
     "output_type": "execute_result"
    }
   ],
   "source": [
    "len(df.keys())"
   ]
  },
  {
   "cell_type": "markdown",
   "metadata": {},
   "source": [
    "## Q13\n",
    "Split the dataset without stratification and with random state 42 and test size 0.2.\n",
    "#### How many of successful deposit subsciptions are in train set?"
   ]
  },
  {
   "cell_type": "code",
   "execution_count": 64,
   "metadata": {},
   "outputs": [],
   "source": [
    "X_train, X_test, y_train, y_test = train_test_split(df, y, test_size=0.2, random_state=42)"
   ]
  },
  {
   "cell_type": "code",
   "execution_count": 65,
   "metadata": {
    "scrolled": true
   },
   "outputs": [
    {
     "data": {
      "text/plain": [
       "36168"
      ]
     },
     "execution_count": 65,
     "metadata": {},
     "output_type": "execute_result"
    }
   ],
   "source": [
    "len(y_train)"
   ]
  },
  {
   "cell_type": "markdown",
   "metadata": {},
   "source": [
    "How many of successful deposit subsciptions are in train set?"
   ]
  },
  {
   "cell_type": "code",
   "execution_count": 66,
   "metadata": {},
   "outputs": [
    {
     "data": {
      "text/plain": [
       "y    4198\n",
       "dtype: int64"
      ]
     },
     "execution_count": 66,
     "metadata": {},
     "output_type": "execute_result"
    }
   ],
   "source": [
    "y_train.sum()"
   ]
  },
  {
   "cell_type": "markdown",
   "metadata": {},
   "source": [
    "It is better to check fraction:"
   ]
  },
  {
   "cell_type": "code",
   "execution_count": 67,
   "metadata": {},
   "outputs": [
    {
     "data": {
      "text/plain": [
       "y    0.116069\n",
       "dtype: float64"
      ]
     },
     "execution_count": 67,
     "metadata": {},
     "output_type": "execute_result"
    }
   ],
   "source": [
    "y_train.sum()/len(y_train)"
   ]
  },
  {
   "cell_type": "markdown",
   "metadata": {},
   "source": [
    "For test:"
   ]
  },
  {
   "cell_type": "code",
   "execution_count": 68,
   "metadata": {
    "scrolled": true
   },
   "outputs": [
    {
     "data": {
      "text/plain": [
       "y    0.120646\n",
       "dtype: float64"
      ]
     },
     "execution_count": 68,
     "metadata": {},
     "output_type": "execute_result"
    }
   ],
   "source": [
    "y_test.sum()/len(y_test)"
   ]
  },
  {
   "cell_type": "markdown",
   "metadata": {},
   "source": [
    "difference ~ 1%"
   ]
  },
  {
   "cell_type": "markdown",
   "metadata": {},
   "source": [
    "## Q14 Feature selection\n",
    "Scale the numeric columns with standard scaler\n",
    "#### What is median value in `duration` field after scaling?"
   ]
  },
  {
   "cell_type": "code",
   "execution_count": 69,
   "metadata": {},
   "outputs": [
    {
     "data": {
      "text/html": [
       "<div>\n",
       "<style scoped>\n",
       "    .dataframe tbody tr th:only-of-type {\n",
       "        vertical-align: middle;\n",
       "    }\n",
       "\n",
       "    .dataframe tbody tr th {\n",
       "        vertical-align: top;\n",
       "    }\n",
       "\n",
       "    .dataframe thead th {\n",
       "        text-align: right;\n",
       "    }\n",
       "</style>\n",
       "<table border=\"1\" class=\"dataframe\">\n",
       "  <thead>\n",
       "    <tr style=\"text-align: right;\">\n",
       "      <th></th>\n",
       "      <th>age</th>\n",
       "      <th>default</th>\n",
       "      <th>balance</th>\n",
       "      <th>housing</th>\n",
       "      <th>loan</th>\n",
       "      <th>day_of_week</th>\n",
       "      <th>duration</th>\n",
       "      <th>campaign</th>\n",
       "      <th>pdays</th>\n",
       "      <th>previous</th>\n",
       "      <th>...</th>\n",
       "      <th>month_jul</th>\n",
       "      <th>month_jun</th>\n",
       "      <th>month_mar</th>\n",
       "      <th>month_may</th>\n",
       "      <th>month_nov</th>\n",
       "      <th>month_oct</th>\n",
       "      <th>month_sep</th>\n",
       "      <th>poutcome_other</th>\n",
       "      <th>poutcome_success</th>\n",
       "      <th>poutcome_unknown</th>\n",
       "    </tr>\n",
       "  </thead>\n",
       "  <tbody>\n",
       "    <tr>\n",
       "      <th>3344</th>\n",
       "      <td>0.006515</td>\n",
       "      <td>-0.138113</td>\n",
       "      <td>-0.169381</td>\n",
       "      <td>0.892343</td>\n",
       "      <td>-0.438594</td>\n",
       "      <td>-0.098218</td>\n",
       "      <td>-0.719756</td>\n",
       "      <td>-0.565886</td>\n",
       "      <td>-0.411364</td>\n",
       "      <td>-0.244772</td>\n",
       "      <td>...</td>\n",
       "      <td>-0.425164</td>\n",
       "      <td>-0.368202</td>\n",
       "      <td>-0.102219</td>\n",
       "      <td>1.516277</td>\n",
       "      <td>-0.310107</td>\n",
       "      <td>-0.129771</td>\n",
       "      <td>-0.113999</td>\n",
       "      <td>-0.207791</td>\n",
       "      <td>-0.186046</td>\n",
       "      <td>0.472806</td>\n",
       "    </tr>\n",
       "    <tr>\n",
       "      <th>17965</th>\n",
       "      <td>0.759937</td>\n",
       "      <td>-0.138113</td>\n",
       "      <td>0.017848</td>\n",
       "      <td>0.892343</td>\n",
       "      <td>-0.438594</td>\n",
       "      <td>1.703422</td>\n",
       "      <td>0.047138</td>\n",
       "      <td>-0.245389</td>\n",
       "      <td>-0.411364</td>\n",
       "      <td>-0.244772</td>\n",
       "      <td>...</td>\n",
       "      <td>2.352033</td>\n",
       "      <td>-0.368202</td>\n",
       "      <td>-0.102219</td>\n",
       "      <td>-0.659510</td>\n",
       "      <td>-0.310107</td>\n",
       "      <td>-0.129771</td>\n",
       "      <td>-0.113999</td>\n",
       "      <td>-0.207791</td>\n",
       "      <td>-0.186046</td>\n",
       "      <td>0.472806</td>\n",
       "    </tr>\n",
       "    <tr>\n",
       "      <th>18299</th>\n",
       "      <td>0.100693</td>\n",
       "      <td>-0.138113</td>\n",
       "      <td>0.820681</td>\n",
       "      <td>-1.120646</td>\n",
       "      <td>-0.438594</td>\n",
       "      <td>1.823532</td>\n",
       "      <td>-0.493970</td>\n",
       "      <td>0.395606</td>\n",
       "      <td>-0.411364</td>\n",
       "      <td>-0.244772</td>\n",
       "      <td>...</td>\n",
       "      <td>2.352033</td>\n",
       "      <td>-0.368202</td>\n",
       "      <td>-0.102219</td>\n",
       "      <td>-0.659510</td>\n",
       "      <td>-0.310107</td>\n",
       "      <td>-0.129771</td>\n",
       "      <td>-0.113999</td>\n",
       "      <td>-0.207791</td>\n",
       "      <td>-0.186046</td>\n",
       "      <td>0.472806</td>\n",
       "    </tr>\n",
       "    <tr>\n",
       "      <th>10221</th>\n",
       "      <td>-0.370196</td>\n",
       "      <td>-0.138113</td>\n",
       "      <td>-0.489588</td>\n",
       "      <td>0.892343</td>\n",
       "      <td>-0.438594</td>\n",
       "      <td>-0.578656</td>\n",
       "      <td>0.459781</td>\n",
       "      <td>2.639088</td>\n",
       "      <td>-0.411364</td>\n",
       "      <td>-0.244772</td>\n",
       "      <td>...</td>\n",
       "      <td>-0.425164</td>\n",
       "      <td>2.715898</td>\n",
       "      <td>-0.102219</td>\n",
       "      <td>-0.659510</td>\n",
       "      <td>-0.310107</td>\n",
       "      <td>-0.129771</td>\n",
       "      <td>-0.113999</td>\n",
       "      <td>-0.207791</td>\n",
       "      <td>-0.186046</td>\n",
       "      <td>0.472806</td>\n",
       "    </tr>\n",
       "    <tr>\n",
       "      <th>32192</th>\n",
       "      <td>1.419181</td>\n",
       "      <td>-0.138113</td>\n",
       "      <td>0.706889</td>\n",
       "      <td>-1.120646</td>\n",
       "      <td>-0.438594</td>\n",
       "      <td>-0.098218</td>\n",
       "      <td>0.027674</td>\n",
       "      <td>-0.245389</td>\n",
       "      <td>-0.411364</td>\n",
       "      <td>-0.244772</td>\n",
       "      <td>...</td>\n",
       "      <td>-0.425164</td>\n",
       "      <td>-0.368202</td>\n",
       "      <td>-0.102219</td>\n",
       "      <td>-0.659510</td>\n",
       "      <td>-0.310107</td>\n",
       "      <td>-0.129771</td>\n",
       "      <td>-0.113999</td>\n",
       "      <td>-0.207791</td>\n",
       "      <td>-0.186046</td>\n",
       "      <td>0.472806</td>\n",
       "    </tr>\n",
       "    <tr>\n",
       "      <th>23098</th>\n",
       "      <td>-0.181840</td>\n",
       "      <td>-0.138113</td>\n",
       "      <td>0.828951</td>\n",
       "      <td>-1.120646</td>\n",
       "      <td>-0.438594</td>\n",
       "      <td>1.222985</td>\n",
       "      <td>0.000424</td>\n",
       "      <td>2.959585</td>\n",
       "      <td>-0.411364</td>\n",
       "      <td>-0.244772</td>\n",
       "      <td>...</td>\n",
       "      <td>-0.425164</td>\n",
       "      <td>-0.368202</td>\n",
       "      <td>-0.102219</td>\n",
       "      <td>-0.659510</td>\n",
       "      <td>-0.310107</td>\n",
       "      <td>-0.129771</td>\n",
       "      <td>-0.113999</td>\n",
       "      <td>-0.207791</td>\n",
       "      <td>-0.186046</td>\n",
       "      <td>0.472806</td>\n",
       "    </tr>\n",
       "    <tr>\n",
       "      <th>6633</th>\n",
       "      <td>-1.029440</td>\n",
       "      <td>-0.138113</td>\n",
       "      <td>-0.169381</td>\n",
       "      <td>0.892343</td>\n",
       "      <td>-0.438594</td>\n",
       "      <td>1.463204</td>\n",
       "      <td>0.015995</td>\n",
       "      <td>1.036601</td>\n",
       "      <td>-0.411364</td>\n",
       "      <td>-0.244772</td>\n",
       "      <td>...</td>\n",
       "      <td>-0.425164</td>\n",
       "      <td>-0.368202</td>\n",
       "      <td>-0.102219</td>\n",
       "      <td>1.516277</td>\n",
       "      <td>-0.310107</td>\n",
       "      <td>-0.129771</td>\n",
       "      <td>-0.113999</td>\n",
       "      <td>-0.207791</td>\n",
       "      <td>-0.186046</td>\n",
       "      <td>0.472806</td>\n",
       "    </tr>\n",
       "    <tr>\n",
       "      <th>313</th>\n",
       "      <td>-0.370196</td>\n",
       "      <td>-0.138113</td>\n",
       "      <td>-0.318569</td>\n",
       "      <td>0.892343</td>\n",
       "      <td>2.280013</td>\n",
       "      <td>-1.299312</td>\n",
       "      <td>-0.166969</td>\n",
       "      <td>-0.245389</td>\n",
       "      <td>-0.411364</td>\n",
       "      <td>-0.244772</td>\n",
       "      <td>...</td>\n",
       "      <td>-0.425164</td>\n",
       "      <td>-0.368202</td>\n",
       "      <td>-0.102219</td>\n",
       "      <td>1.516277</td>\n",
       "      <td>-0.310107</td>\n",
       "      <td>-0.129771</td>\n",
       "      <td>-0.113999</td>\n",
       "      <td>-0.207791</td>\n",
       "      <td>-0.186046</td>\n",
       "      <td>0.472806</td>\n",
       "    </tr>\n",
       "    <tr>\n",
       "      <th>12525</th>\n",
       "      <td>-1.406151</td>\n",
       "      <td>-0.138113</td>\n",
       "      <td>-0.268619</td>\n",
       "      <td>-1.120646</td>\n",
       "      <td>-0.438594</td>\n",
       "      <td>-1.539531</td>\n",
       "      <td>-0.420005</td>\n",
       "      <td>-0.565886</td>\n",
       "      <td>-0.411364</td>\n",
       "      <td>-0.244772</td>\n",
       "      <td>...</td>\n",
       "      <td>2.352033</td>\n",
       "      <td>-0.368202</td>\n",
       "      <td>-0.102219</td>\n",
       "      <td>-0.659510</td>\n",
       "      <td>-0.310107</td>\n",
       "      <td>-0.129771</td>\n",
       "      <td>-0.113999</td>\n",
       "      <td>-0.207791</td>\n",
       "      <td>-0.186046</td>\n",
       "      <td>0.472806</td>\n",
       "    </tr>\n",
       "    <tr>\n",
       "      <th>44313</th>\n",
       "      <td>1.325003</td>\n",
       "      <td>-0.138113</td>\n",
       "      <td>-0.013578</td>\n",
       "      <td>-1.120646</td>\n",
       "      <td>-0.438594</td>\n",
       "      <td>1.463204</td>\n",
       "      <td>0.323531</td>\n",
       "      <td>-0.565886</td>\n",
       "      <td>0.507660</td>\n",
       "      <td>0.598884</td>\n",
       "      <td>...</td>\n",
       "      <td>2.352033</td>\n",
       "      <td>-0.368202</td>\n",
       "      <td>-0.102219</td>\n",
       "      <td>-0.659510</td>\n",
       "      <td>-0.310107</td>\n",
       "      <td>-0.129771</td>\n",
       "      <td>-0.113999</td>\n",
       "      <td>-0.207791</td>\n",
       "      <td>5.375026</td>\n",
       "      <td>-2.115033</td>\n",
       "    </tr>\n",
       "  </tbody>\n",
       "</table>\n",
       "<p>10 rows × 43 columns</p>\n",
       "</div>"
      ],
      "text/plain": [
       "            age   default   balance   housing      loan  day_of_week  \\\n",
       "3344   0.006515 -0.138113 -0.169381  0.892343 -0.438594    -0.098218   \n",
       "17965  0.759937 -0.138113  0.017848  0.892343 -0.438594     1.703422   \n",
       "18299  0.100693 -0.138113  0.820681 -1.120646 -0.438594     1.823532   \n",
       "10221 -0.370196 -0.138113 -0.489588  0.892343 -0.438594    -0.578656   \n",
       "32192  1.419181 -0.138113  0.706889 -1.120646 -0.438594    -0.098218   \n",
       "23098 -0.181840 -0.138113  0.828951 -1.120646 -0.438594     1.222985   \n",
       "6633  -1.029440 -0.138113 -0.169381  0.892343 -0.438594     1.463204   \n",
       "313   -0.370196 -0.138113 -0.318569  0.892343  2.280013    -1.299312   \n",
       "12525 -1.406151 -0.138113 -0.268619 -1.120646 -0.438594    -1.539531   \n",
       "44313  1.325003 -0.138113 -0.013578 -1.120646 -0.438594     1.463204   \n",
       "\n",
       "       duration  campaign     pdays  previous  ...  month_jul  month_jun  \\\n",
       "3344  -0.719756 -0.565886 -0.411364 -0.244772  ...  -0.425164  -0.368202   \n",
       "17965  0.047138 -0.245389 -0.411364 -0.244772  ...   2.352033  -0.368202   \n",
       "18299 -0.493970  0.395606 -0.411364 -0.244772  ...   2.352033  -0.368202   \n",
       "10221  0.459781  2.639088 -0.411364 -0.244772  ...  -0.425164   2.715898   \n",
       "32192  0.027674 -0.245389 -0.411364 -0.244772  ...  -0.425164  -0.368202   \n",
       "23098  0.000424  2.959585 -0.411364 -0.244772  ...  -0.425164  -0.368202   \n",
       "6633   0.015995  1.036601 -0.411364 -0.244772  ...  -0.425164  -0.368202   \n",
       "313   -0.166969 -0.245389 -0.411364 -0.244772  ...  -0.425164  -0.368202   \n",
       "12525 -0.420005 -0.565886 -0.411364 -0.244772  ...   2.352033  -0.368202   \n",
       "44313  0.323531 -0.565886  0.507660  0.598884  ...   2.352033  -0.368202   \n",
       "\n",
       "       month_mar  month_may  month_nov  month_oct  month_sep  poutcome_other  \\\n",
       "3344   -0.102219   1.516277  -0.310107  -0.129771  -0.113999       -0.207791   \n",
       "17965  -0.102219  -0.659510  -0.310107  -0.129771  -0.113999       -0.207791   \n",
       "18299  -0.102219  -0.659510  -0.310107  -0.129771  -0.113999       -0.207791   \n",
       "10221  -0.102219  -0.659510  -0.310107  -0.129771  -0.113999       -0.207791   \n",
       "32192  -0.102219  -0.659510  -0.310107  -0.129771  -0.113999       -0.207791   \n",
       "23098  -0.102219  -0.659510  -0.310107  -0.129771  -0.113999       -0.207791   \n",
       "6633   -0.102219   1.516277  -0.310107  -0.129771  -0.113999       -0.207791   \n",
       "313    -0.102219   1.516277  -0.310107  -0.129771  -0.113999       -0.207791   \n",
       "12525  -0.102219  -0.659510  -0.310107  -0.129771  -0.113999       -0.207791   \n",
       "44313  -0.102219  -0.659510  -0.310107  -0.129771  -0.113999       -0.207791   \n",
       "\n",
       "       poutcome_success  poutcome_unknown  \n",
       "3344          -0.186046          0.472806  \n",
       "17965         -0.186046          0.472806  \n",
       "18299         -0.186046          0.472806  \n",
       "10221         -0.186046          0.472806  \n",
       "32192         -0.186046          0.472806  \n",
       "23098         -0.186046          0.472806  \n",
       "6633          -0.186046          0.472806  \n",
       "313           -0.186046          0.472806  \n",
       "12525         -0.186046          0.472806  \n",
       "44313          5.375026         -2.115033  \n",
       "\n",
       "[10 rows x 43 columns]"
      ]
     },
     "execution_count": 69,
     "metadata": {},
     "output_type": "execute_result"
    }
   ],
   "source": [
    "scaler = StandardScaler()\n",
    "features =list(X_train.columns)\n",
    "X_train[features] = scaler.fit_transform(X_train[list(features)])\n",
    "X_test[features] = scaler.transform(X_test[list(features)])\n",
    "X_train.head(10)"
   ]
  },
  {
   "cell_type": "code",
   "execution_count": 70,
   "metadata": {},
   "outputs": [
    {
     "name": "stdout",
     "output_type": "stream",
     "text": [
      "Median for duration: -0.299\n"
     ]
    }
   ],
   "source": [
    "print('Median for duration: {}'.format(round(X_train['duration'].median(), 3)))"
   ]
  },
  {
   "cell_type": "markdown",
   "metadata": {},
   "source": [
    "## Q15 Estimate feature importance by Anova\n",
    "#### What are the three most important features by anova with f classifier?"
   ]
  },
  {
   "cell_type": "code",
   "execution_count": 71,
   "metadata": {
    "scrolled": true
   },
   "outputs": [
    {
     "name": "stdout",
     "output_type": "stream",
     "text": [
      "contacted,duration,poutcome_success\n"
     ]
    },
    {
     "name": "stderr",
     "output_type": "stream",
     "text": [
      "C:\\Users\\peter\\AppData\\Local\\Programs\\Python\\Python311\\Lib\\site-packages\\sklearn\\utils\\validation.py:1183: DataConversionWarning: A column-vector y was passed when a 1d array was expected. Please change the shape of y to (n_samples, ), for example using ravel().\n",
      "  y = column_or_1d(y, warn=True)\n"
     ]
    }
   ],
   "source": [
    "from sklearn.feature_selection import SelectKBest, f_classif \n",
    "bestfeatures = SelectKBest(score_func = f_classif, k = 3)\n",
    "bestfeatures.fit_transform(X_train,y_train)\n",
    "mask = bestfeatures.get_support()\n",
    "features =X_train.columns\n",
    "q_15 = list(features[mask])\n",
    "list_answer(q_15)"
   ]
  },
  {
   "cell_type": "markdown",
   "metadata": {},
   "source": [
    "------"
   ]
  },
  {
   "cell_type": "markdown",
   "metadata": {},
   "source": [
    "## Q16 Logistic regression\n",
    "Build a model with logistic regression.\n",
    "Use l2 penalty and search for optimal C in `np.logspace(-2, 4, 7)`, set `max_iter = 400`.\n",
    "\n",
    "#### Q16.1 What is an optimal C for l2 regularization?\n",
    "#### Q16.2 What is the accuracy for this params?\n",
    "#### Q16.3 What is the three most important features by logistic regression estimation?\n",
    "#### Q16.4 Build roc curve and calculate roc-auc score. What is the roc-auc score?"
   ]
  },
  {
   "cell_type": "code",
   "execution_count": null,
   "metadata": {},
   "outputs": [],
   "source": []
  },
  {
   "cell_type": "code",
   "execution_count": 72,
   "metadata": {
    "scrolled": true
   },
   "outputs": [
    {
     "name": "stdout",
     "output_type": "stream",
     "text": [
      "LogisticRegression(C=0.01, max_iter=400)\n",
      "best parametrs:  {'C': 0.01}\n",
      "Accuracy is: 0.899\n",
      "F1_Score is: 0.443\n"
     ]
    },
    {
     "name": "stderr",
     "output_type": "stream",
     "text": [
      "C:\\Users\\peter\\AppData\\Local\\Programs\\Python\\Python311\\Lib\\site-packages\\sklearn\\utils\\validation.py:1183: DataConversionWarning: A column-vector y was passed when a 1d array was expected. Please change the shape of y to (n_samples, ), for example using ravel().\n",
      "  y = column_or_1d(y, warn=True)\n"
     ]
    }
   ],
   "source": [
    "from sklearn.linear_model import LogisticRegression\n",
    "from sklearn.model_selection import GridSearchCV\n",
    "from sklearn.metrics import accuracy_score, confusion_matrix, f1_score, roc_curve, roc_auc_score\n",
    "parameters = {'C' :np.logspace(-2, 4, 7)}\n",
    "model = LogisticRegression(penalty='l2', max_iter = 400)\n",
    "log_reg= GridSearchCV(model, parameters, scoring='r2' ,cv=5, n_jobs = -1, verbose=False)\n",
    "\n",
    "#fit the grid search\n",
    "log_reg.fit(X_train, y_train)\n",
    "print(log_reg.best_estimator_)\n",
    "print('best parametrs: ', log_reg.best_params_)\n",
    "#model = LogisticRegression(random_state=12345, solver='liblinear')\n",
    "#model.fit(X_train, y_train)\n",
    "predicted_test = log_reg.best_estimator_.predict(X_test)\n",
    "accuracy_test = accuracy_score(predicted_test, y_test)\n",
    "print('Accuracy is:', round(accuracy_test,3) )\n",
    "print('F1_Score is:', round(f1_score(y_test, predicted_test),3))\n",
    "model = log_reg.best_estimator_"
   ]
  },
  {
   "cell_type": "code",
   "execution_count": 73,
   "metadata": {
    "scrolled": true
   },
   "outputs": [
    {
     "data": {
      "text/plain": [
       "<Figure size 640x480 with 0 Axes>"
      ]
     },
     "metadata": {},
     "output_type": "display_data"
    },
    {
     "data": {
      "image/png": "[encoded data removed]",
      "text/plain": [
       "<Figure size 640x480 with 1 Axes>"
      ]
     },
     "metadata": {},
     "output_type": "display_data"
    }
   ],
   "source": [
    "probabilities_valid = model.predict_proba(X_test)\n",
    "probabilities_one_valid = probabilities_valid[:, 1]\n",
    "\n",
    "\n",
    "plt.figure()\n",
    "\n",
    "# < постройте график >\n",
    "fpr, tpr, thresholds = roc_curve(y_test, probabilities_one_valid)\n",
    "plt.figure()\n",
    "plt.plot(fpr, tpr)\n",
    "plt.plot([0, 1], [0, 1], linestyle='--') # вот эта строка была 27-ой\n",
    "plt.xlim([0.0, 1.0])\n",
    "plt.ylim([0.0, 1.0])\n",
    "plt.xlabel('False Positive Rate')\n",
    "plt.ylabel('True Positive Rate')\n",
    "plt.title('ROC-кривая')\n",
    "plt.show()\n",
    "\n",
    "plt.show()"
   ]
  },
  {
   "cell_type": "code",
   "execution_count": 74,
   "metadata": {},
   "outputs": [
    {
     "data": {
      "text/plain": [
       "0.906"
      ]
     },
     "execution_count": 74,
     "metadata": {},
     "output_type": "execute_result"
    }
   ],
   "source": [
    "round(roc_auc_score(y_test, probabilities_one_valid),3)"
   ]
  },
  {
   "cell_type": "markdown",
   "metadata": {},
   "source": [
    "let's add class_weight='balanced'"
   ]
  },
  {
   "cell_type": "code",
   "execution_count": 75,
   "metadata": {},
   "outputs": [
    {
     "name": "stdout",
     "output_type": "stream",
     "text": [
      "LogisticRegression(C=0.01, class_weight='balanced', max_iter=400)\n",
      "best parametrs:  {'C': 0.01}\n",
      "Accuracy is: 0.844\n",
      "F1_Score is: 0.562\n"
     ]
    },
    {
     "name": "stderr",
     "output_type": "stream",
     "text": [
      "C:\\Users\\peter\\AppData\\Local\\Programs\\Python\\Python311\\Lib\\site-packages\\sklearn\\utils\\validation.py:1183: DataConversionWarning: A column-vector y was passed when a 1d array was expected. Please change the shape of y to (n_samples, ), for example using ravel().\n",
      "  y = column_or_1d(y, warn=True)\n"
     ]
    }
   ],
   "source": [
    "parameters = {'C' :np.logspace(-2, 4, 7)}\n",
    "model = LogisticRegression(penalty='l2', max_iter = 400, class_weight='balanced')\n",
    "log_reg= GridSearchCV(model, parameters, scoring='r2' ,cv=5, n_jobs = -1, verbose=False)\n",
    "\n",
    "#fit the grid search\n",
    "log_reg.fit(X_train, y_train)\n",
    "print(log_reg.best_estimator_)\n",
    "print('best parametrs: ', log_reg.best_params_)\n",
    "#model = LogisticRegression(random_state=12345, solver='liblinear')\n",
    "#model.fit(X_train, y_train)\n",
    "predicted_test = log_reg.best_estimator_.predict(X_test)\n",
    "accuracy_test = accuracy_score(predicted_test, y_test)\n",
    "print('Accuracy is:', round(accuracy_test,3) )\n",
    "print('F1_Score is:', round(f1_score(y_test, predicted_test),3))\n",
    "model = log_reg.best_estimator_\n"
   ]
  },
  {
   "cell_type": "code",
   "execution_count": 76,
   "metadata": {},
   "outputs": [
    {
     "data": {
      "text/plain": [
       "<Figure size 640x480 with 0 Axes>"
      ]
     },
     "metadata": {},
     "output_type": "display_data"
    },
    {
     "data": {
      "image/png": "[encoded data removed]",
      "text/plain": [
       "<Figure size 640x480 with 1 Axes>"
      ]
     },
     "metadata": {},
     "output_type": "display_data"
    }
   ],
   "source": [
    "probabilities_valid = model.predict_proba(X_test)\n",
    "probabilities_one_valid = probabilities_valid[:, 1]\n",
    "\n",
    "\n",
    "plt.figure()\n",
    "\n",
    "# < постройте график >\n",
    "fpr, tpr, thresholds = roc_curve(y_test, probabilities_one_valid)\n",
    "plt.figure()\n",
    "plt.plot(fpr, tpr)\n",
    "plt.plot([0, 1], [0, 1], linestyle='--') # вот эта строка была 27-ой\n",
    "plt.xlim([0.0, 1.0])\n",
    "plt.ylim([0.0, 1.0])\n",
    "plt.xlabel('False Positive Rate')\n",
    "plt.ylabel('True Positive Rate')\n",
    "plt.title('ROC-кривая')\n",
    "plt.show()\n",
    "plt.show()"
   ]
  },
  {
   "cell_type": "code",
   "execution_count": 77,
   "metadata": {},
   "outputs": [
    {
     "data": {
      "text/plain": [
       "0.908"
      ]
     },
     "execution_count": 77,
     "metadata": {},
     "output_type": "execute_result"
    }
   ],
   "source": [
    "round(roc_auc_score(y_test, probabilities_one_valid),3)"
   ]
  },
  {
   "cell_type": "code",
   "execution_count": 78,
   "metadata": {
    "scrolled": true
   },
   "outputs": [
    {
     "name": "stdout",
     "output_type": "stream",
     "text": [
      "contact_unknown,duration,poutcome_success\n"
     ]
    },
    {
     "name": "stderr",
     "output_type": "stream",
     "text": [
      "C:\\Users\\peter\\AppData\\Local\\Programs\\Python\\Python311\\Lib\\site-packages\\sklearn\\utils\\validation.py:1183: DataConversionWarning: A column-vector y was passed when a 1d array was expected. Please change the shape of y to (n_samples, ), for example using ravel().\n",
      "  y = column_or_1d(y, warn=True)\n"
     ]
    }
   ],
   "source": [
    "reg = model\n",
    "reg.fit(X_train, y_train)\n",
    "d = {'weight': reg.coef_.ravel(), 'name': list(X_train.keys())}\n",
    "dw = pd.DataFrame(data=d)\n",
    "dw['weight'] = abs(dw['weight'])\n",
    "q_16 = list(dw.sort_values(by=['weight'], ascending = False).head(3)['name'])\n",
    "list_answer(q_16)"
   ]
  },
  {
   "cell_type": "markdown",
   "metadata": {},
   "source": [
    "------"
   ]
  },
  {
   "cell_type": "markdown",
   "metadata": {},
   "source": [
    "## Q17 Random forest\n",
    "Build a random forest model.\n",
    "Use random state 42, maximum depth from 2 to 15, and number of estimators in `[10, 20, 50, 100, 200]`\n",
    "#### Q17.1 What is an optimal depth and number of trees?\n",
    "#### Q17.2 What is the roc-auc for this params?\n",
    "#### Q17.3 Build precision-recall curve. What is the highest precision for recall >0.5?\n",
    "#### Q17.4 Build precision-recall curve. What is the highest recall for precision >0.5?\n",
    "#### Q17.5 Build precision-recall curve. What is the precision for binarization threshold=0.3?\n",
    "#### Q17.6 Build precision-recall curve. What is the recall for binarization threshold=0.3?\n",
    "#### Q17.7 What is the three most important features by random forest?"
   ]
  },
  {
   "cell_type": "code",
   "execution_count": 79,
   "metadata": {},
   "outputs": [],
   "source": [
    "from sklearn.ensemble import RandomForestClassifier\n",
    "SEED = 42"
   ]
  },
  {
   "cell_type": "code",
   "execution_count": 80,
   "metadata": {},
   "outputs": [],
   "source": [
    "parameters = {'C' :np.logspace(-2, 4, 7)}\n",
    "params = [\n",
    "    {\n",
    "        'n_estimators': [10, 20, 50, 100, 200],\n",
    "        'max_depth': np.arange(2, 16, 1),\n",
    "    }\n",
    "]\n",
    "model = RandomForestClassifier(random_state=SEED)"
   ]
  },
  {
   "cell_type": "code",
   "execution_count": 81,
   "metadata": {},
   "outputs": [
    {
     "name": "stderr",
     "output_type": "stream",
     "text": [
      "C:\\Users\\peter\\AppData\\Local\\Programs\\Python\\Python311\\Lib\\site-packages\\sklearn\\base.py:1152: DataConversionWarning: A column-vector y was passed when a 1d array was expected. Please change the shape of y to (n_samples,), for example using ravel().\n",
      "  return fit_method(estimator, *args, **kwargs)\n"
     ]
    },
    {
     "name": "stdout",
     "output_type": "stream",
     "text": [
      "RandomForestClassifier(max_depth=14, n_estimators=200, random_state=42)\n",
      "best parametrs:  {'max_depth': 14, 'n_estimators': 200}\n",
      "Accuracy is: 0.902\n",
      "F1_Score is: 0.433\n"
     ]
    }
   ],
   "source": [
    "\n",
    "#grid = GridSearchCV(param_grid=params, scoring='r2', cv=5, verbose=True)\n",
    "log_reg = GridSearchCV(model, params, scoring='r2' ,cv=5, n_jobs = -1, verbose=False)\n",
    "log_reg.fit(X_train, y_train)\n",
    "print(log_reg.best_estimator_)\n",
    "print('best parametrs: ', log_reg.best_params_)\n",
    "#model = LogisticRegression(random_state=12345, solver='liblinear')\n",
    "#model.fit(X_train, y_train)\n",
    "predicted_test = log_reg.best_estimator_.predict(X_test)\n",
    "accuracy_test = accuracy_score(predicted_test, y_test)\n",
    "print('Accuracy is:', round(accuracy_test,3) )\n",
    "print('F1_Score is:', round(f1_score(y_test, predicted_test),3))\n",
    "model = log_reg.best_estimator_"
   ]
  },
  {
   "cell_type": "code",
   "execution_count": 82,
   "metadata": {},
   "outputs": [
    {
     "data": {
      "text/plain": [
       "0.926"
      ]
     },
     "execution_count": 82,
     "metadata": {},
     "output_type": "execute_result"
    }
   ],
   "source": [
    "probabilities_valid = model.predict_proba(X_test)\n",
    "probabilities_one_valid = probabilities_valid[:, 1]\n",
    "round(roc_auc_score(y_test, probabilities_one_valid),3)"
   ]
  },
  {
   "cell_type": "code",
   "execution_count": 83,
   "metadata": {},
   "outputs": [],
   "source": [
    "y_prob = model.predict_proba(X_test)\n",
    "y_prob = y_prob[:, 1]\n",
    "y_pred = predicted_test"
   ]
  },
  {
   "cell_type": "code",
   "execution_count": 84,
   "metadata": {
    "scrolled": true
   },
   "outputs": [
    {
     "data": {
      "text/plain": [
       "Text(0.5, 1.0, '2-class Precision-Recall curve: AP=0.30')"
      ]
     },
     "execution_count": 84,
     "metadata": {},
     "output_type": "execute_result"
    },
    {
     "data": {
      "image/png": "[encoded data removed]",
      "text/plain": [
       "<Figure size 640x480 with 1 Axes>"
      ]
     },
     "metadata": {},
     "output_type": "display_data"
    }
   ],
   "source": [
    "from sklearn.metrics import precision_score, recall_score\n",
    "from sklearn.metrics import precision_recall_curve, average_precision_score\n",
    "precision, recall, _ = precision_recall_curve(y_test, y_prob)\n",
    "plt.step(recall, precision, color='b', alpha=0.2, where='post')\n",
    "\n",
    "plt.plot(recall_score(y_test, y_pred), \n",
    "         precision_score(y_test, y_pred), \n",
    "         '*r', ms=10\n",
    "         )\n",
    "plt.fill_between(recall, precision, alpha=0.2, color='b')\n",
    "\n",
    "plt.xlabel('Recall')\n",
    "plt.ylabel('Precision')\n",
    "plt.ylim([0.0, 1.05])\n",
    "plt.xlim([0.0, 1.0])\n",
    "plt.title('2-class Precision-Recall curve: AP={0:0.2f}'.format(\n",
    "          average_precision_score(y_test, y_pred)))"
   ]
  },
  {
   "cell_type": "code",
   "execution_count": 85,
   "metadata": {},
   "outputs": [
    {
     "data": {
      "text/plain": [
       "0.621"
      ]
     },
     "execution_count": 85,
     "metadata": {},
     "output_type": "execute_result"
    }
   ],
   "source": [
    "round(precision[np.array(recall.tolist())>0.5].max(), 3)"
   ]
  },
  {
   "cell_type": "code",
   "execution_count": 86,
   "metadata": {},
   "outputs": [],
   "source": [
    "threshold = 0.3\n",
    "\n",
    "predicted_proba = model.predict_proba(X_test)\n",
    "predicted = (predicted_proba [:,1] >= threshold).astype('int')\n",
    "\n",
    "precision = precision_score(y_test, predicted)"
   ]
  },
  {
   "cell_type": "code",
   "execution_count": 89,
   "metadata": {},
   "outputs": [
    {
     "data": {
      "text/plain": [
       "0.568"
      ]
     },
     "execution_count": 89,
     "metadata": {},
     "output_type": "execute_result"
    }
   ],
   "source": [
    "round(precision, 3)"
   ]
  },
  {
   "cell_type": "code",
   "execution_count": 90,
   "metadata": {},
   "outputs": [
    {
     "name": "stderr",
     "output_type": "stream",
     "text": [
      "C:\\Users\\peter\\AppData\\Local\\Programs\\Python\\Python311\\Lib\\site-packages\\sklearn\\base.py:1152: DataConversionWarning: A column-vector y was passed when a 1d array was expected. Please change the shape of y to (n_samples,), for example using ravel().\n",
      "  return fit_method(estimator, *args, **kwargs)\n"
     ]
    },
    {
     "name": "stdout",
     "output_type": "stream",
     "text": [
      "age,duration,poutcome_success\n"
     ]
    }
   ],
   "source": [
    "reg = model\n",
    "reg.fit(X_train, y_train)\n",
    "d = {'weight': reg.feature_importances_, 'name': list(X_train.keys())}\n",
    "dw = pd.DataFrame(data=d)\n",
    "dw['weight'] = abs(dw['weight'])\n",
    "q_16 = list(dw.sort_values(by=['weight'], ascending = False).head(3)['name'])\n",
    "list_answer(q_16)"
   ]
  },
  {
   "cell_type": "markdown",
   "metadata": {},
   "source": [
    "-----\n",
    "\n",
    "## Q18 Feature selection\n",
    "Select **top-30** features (by random forest model). Train random forest again with the same parameters of grid search. \n",
    "#### 18.1 What is the roc-auc score for this model?\n",
    "#### 18.2 What is the f1 score for this model?\n",
    "#### 18.3 Does the classification quality improve after feature selection? What do you think? Please, answer here"
   ]
  },
  {
   "cell_type": "code",
   "execution_count": 93,
   "metadata": {},
   "outputs": [],
   "source": [
    "new_df = pd.DataFrame()"
   ]
  },
  {
   "cell_type": "code",
   "execution_count": 94,
   "metadata": {},
   "outputs": [
    {
     "data": {
      "text/html": [
       "<div>\n",
       "<style scoped>\n",
       "    .dataframe tbody tr th:only-of-type {\n",
       "        vertical-align: middle;\n",
       "    }\n",
       "\n",
       "    .dataframe tbody tr th {\n",
       "        vertical-align: top;\n",
       "    }\n",
       "\n",
       "    .dataframe thead th {\n",
       "        text-align: right;\n",
       "    }\n",
       "</style>\n",
       "<table border=\"1\" class=\"dataframe\">\n",
       "  <thead>\n",
       "    <tr style=\"text-align: right;\">\n",
       "      <th></th>\n",
       "      <th>duration</th>\n",
       "      <th>poutcome_success</th>\n",
       "      <th>age</th>\n",
       "      <th>balance</th>\n",
       "      <th>day_of_week</th>\n",
       "      <th>pdays</th>\n",
       "      <th>housing</th>\n",
       "      <th>campaign</th>\n",
       "      <th>previous</th>\n",
       "      <th>contact_unknown</th>\n",
       "      <th>...</th>\n",
       "      <th>education_secondary</th>\n",
       "      <th>loan</th>\n",
       "      <th>month_jul</th>\n",
       "      <th>marital_single</th>\n",
       "      <th>job_technician</th>\n",
       "      <th>job_management</th>\n",
       "      <th>month_nov</th>\n",
       "      <th>job_blue-collar</th>\n",
       "      <th>job_student</th>\n",
       "      <th>contact_telephone</th>\n",
       "    </tr>\n",
       "  </thead>\n",
       "  <tbody>\n",
       "    <tr>\n",
       "      <th>0</th>\n",
       "      <td>261</td>\n",
       "      <td>0</td>\n",
       "      <td>58</td>\n",
       "      <td>2143</td>\n",
       "      <td>5</td>\n",
       "      <td>-1</td>\n",
       "      <td>1</td>\n",
       "      <td>1</td>\n",
       "      <td>0</td>\n",
       "      <td>1</td>\n",
       "      <td>...</td>\n",
       "      <td>0</td>\n",
       "      <td>0</td>\n",
       "      <td>0</td>\n",
       "      <td>0</td>\n",
       "      <td>0</td>\n",
       "      <td>1</td>\n",
       "      <td>0</td>\n",
       "      <td>0</td>\n",
       "      <td>0</td>\n",
       "      <td>0</td>\n",
       "    </tr>\n",
       "    <tr>\n",
       "      <th>1</th>\n",
       "      <td>151</td>\n",
       "      <td>0</td>\n",
       "      <td>44</td>\n",
       "      <td>29</td>\n",
       "      <td>5</td>\n",
       "      <td>-1</td>\n",
       "      <td>1</td>\n",
       "      <td>1</td>\n",
       "      <td>0</td>\n",
       "      <td>1</td>\n",
       "      <td>...</td>\n",
       "      <td>1</td>\n",
       "      <td>0</td>\n",
       "      <td>0</td>\n",
       "      <td>1</td>\n",
       "      <td>1</td>\n",
       "      <td>0</td>\n",
       "      <td>0</td>\n",
       "      <td>0</td>\n",
       "      <td>0</td>\n",
       "      <td>0</td>\n",
       "    </tr>\n",
       "    <tr>\n",
       "      <th>2</th>\n",
       "      <td>76</td>\n",
       "      <td>0</td>\n",
       "      <td>33</td>\n",
       "      <td>2</td>\n",
       "      <td>5</td>\n",
       "      <td>-1</td>\n",
       "      <td>1</td>\n",
       "      <td>1</td>\n",
       "      <td>0</td>\n",
       "      <td>1</td>\n",
       "      <td>...</td>\n",
       "      <td>1</td>\n",
       "      <td>1</td>\n",
       "      <td>0</td>\n",
       "      <td>0</td>\n",
       "      <td>0</td>\n",
       "      <td>0</td>\n",
       "      <td>0</td>\n",
       "      <td>0</td>\n",
       "      <td>0</td>\n",
       "      <td>0</td>\n",
       "    </tr>\n",
       "    <tr>\n",
       "      <th>3</th>\n",
       "      <td>92</td>\n",
       "      <td>0</td>\n",
       "      <td>47</td>\n",
       "      <td>1506</td>\n",
       "      <td>5</td>\n",
       "      <td>-1</td>\n",
       "      <td>1</td>\n",
       "      <td>1</td>\n",
       "      <td>0</td>\n",
       "      <td>1</td>\n",
       "      <td>...</td>\n",
       "      <td>0</td>\n",
       "      <td>0</td>\n",
       "      <td>0</td>\n",
       "      <td>0</td>\n",
       "      <td>0</td>\n",
       "      <td>0</td>\n",
       "      <td>0</td>\n",
       "      <td>1</td>\n",
       "      <td>0</td>\n",
       "      <td>0</td>\n",
       "    </tr>\n",
       "    <tr>\n",
       "      <th>4</th>\n",
       "      <td>198</td>\n",
       "      <td>0</td>\n",
       "      <td>33</td>\n",
       "      <td>1</td>\n",
       "      <td>5</td>\n",
       "      <td>-1</td>\n",
       "      <td>0</td>\n",
       "      <td>1</td>\n",
       "      <td>0</td>\n",
       "      <td>1</td>\n",
       "      <td>...</td>\n",
       "      <td>0</td>\n",
       "      <td>0</td>\n",
       "      <td>0</td>\n",
       "      <td>1</td>\n",
       "      <td>0</td>\n",
       "      <td>0</td>\n",
       "      <td>0</td>\n",
       "      <td>0</td>\n",
       "      <td>0</td>\n",
       "      <td>0</td>\n",
       "    </tr>\n",
       "  </tbody>\n",
       "</table>\n",
       "<p>5 rows × 30 columns</p>\n",
       "</div>"
      ],
      "text/plain": [
       "   duration  poutcome_success  age  balance  day_of_week  pdays  housing  \\\n",
       "0       261                 0   58     2143            5     -1        1   \n",
       "1       151                 0   44       29            5     -1        1   \n",
       "2        76                 0   33        2            5     -1        1   \n",
       "3        92                 0   47     1506            5     -1        1   \n",
       "4       198                 0   33        1            5     -1        0   \n",
       "\n",
       "   campaign  previous  contact_unknown  ...  education_secondary  loan  \\\n",
       "0         1         0                1  ...                    0     0   \n",
       "1         1         0                1  ...                    1     0   \n",
       "2         1         0                1  ...                    1     1   \n",
       "3         1         0                1  ...                    0     0   \n",
       "4         1         0                1  ...                    0     0   \n",
       "\n",
       "   month_jul  marital_single  job_technician  job_management  month_nov  \\\n",
       "0          0               0               0               1          0   \n",
       "1          0               1               1               0          0   \n",
       "2          0               0               0               0          0   \n",
       "3          0               0               0               0          0   \n",
       "4          0               1               0               0          0   \n",
       "\n",
       "   job_blue-collar  job_student  contact_telephone  \n",
       "0                0            0                  0  \n",
       "1                0            0                  0  \n",
       "2                0            0                  0  \n",
       "3                1            0                  0  \n",
       "4                0            0                  0  \n",
       "\n",
       "[5 rows x 30 columns]"
      ]
     },
     "execution_count": 94,
     "metadata": {},
     "output_type": "execute_result"
    }
   ],
   "source": [
    "q_16 = list(dw.sort_values(by=['weight'], ascending = False).head(30)['name'])\n",
    "for i in q_16:\n",
    "    new_df[i]=df[i]\n",
    "new_df.head()"
   ]
  },
  {
   "cell_type": "code",
   "execution_count": 95,
   "metadata": {},
   "outputs": [
    {
     "data": {
      "text/html": [
       "<div>\n",
       "<style scoped>\n",
       "    .dataframe tbody tr th:only-of-type {\n",
       "        vertical-align: middle;\n",
       "    }\n",
       "\n",
       "    .dataframe tbody tr th {\n",
       "        vertical-align: top;\n",
       "    }\n",
       "\n",
       "    .dataframe thead th {\n",
       "        text-align: right;\n",
       "    }\n",
       "</style>\n",
       "<table border=\"1\" class=\"dataframe\">\n",
       "  <thead>\n",
       "    <tr style=\"text-align: right;\">\n",
       "      <th></th>\n",
       "      <th>duration</th>\n",
       "      <th>poutcome_success</th>\n",
       "      <th>age</th>\n",
       "      <th>balance</th>\n",
       "      <th>day_of_week</th>\n",
       "      <th>pdays</th>\n",
       "      <th>housing</th>\n",
       "      <th>campaign</th>\n",
       "      <th>previous</th>\n",
       "      <th>contact_unknown</th>\n",
       "      <th>...</th>\n",
       "      <th>education_secondary</th>\n",
       "      <th>loan</th>\n",
       "      <th>month_jul</th>\n",
       "      <th>marital_single</th>\n",
       "      <th>job_technician</th>\n",
       "      <th>job_management</th>\n",
       "      <th>month_nov</th>\n",
       "      <th>job_blue-collar</th>\n",
       "      <th>job_student</th>\n",
       "      <th>contact_telephone</th>\n",
       "    </tr>\n",
       "  </thead>\n",
       "  <tbody>\n",
       "    <tr>\n",
       "      <th>3344</th>\n",
       "      <td>-0.719756</td>\n",
       "      <td>-0.186046</td>\n",
       "      <td>0.006515</td>\n",
       "      <td>-0.169381</td>\n",
       "      <td>-0.098218</td>\n",
       "      <td>-0.411364</td>\n",
       "      <td>0.892343</td>\n",
       "      <td>-0.565886</td>\n",
       "      <td>-0.244772</td>\n",
       "      <td>1.575663</td>\n",
       "      <td>...</td>\n",
       "      <td>-1.032947</td>\n",
       "      <td>-0.438594</td>\n",
       "      <td>-0.425164</td>\n",
       "      <td>-0.627629</td>\n",
       "      <td>-0.450237</td>\n",
       "      <td>-0.511484</td>\n",
       "      <td>-0.310107</td>\n",
       "      <td>1.906137</td>\n",
       "      <td>-0.144724</td>\n",
       "      <td>-0.261744</td>\n",
       "    </tr>\n",
       "    <tr>\n",
       "      <th>17965</th>\n",
       "      <td>0.047138</td>\n",
       "      <td>-0.186046</td>\n",
       "      <td>0.759937</td>\n",
       "      <td>0.017848</td>\n",
       "      <td>1.703422</td>\n",
       "      <td>-0.411364</td>\n",
       "      <td>0.892343</td>\n",
       "      <td>-0.245389</td>\n",
       "      <td>-0.244772</td>\n",
       "      <td>-0.634653</td>\n",
       "      <td>...</td>\n",
       "      <td>-1.032947</td>\n",
       "      <td>-0.438594</td>\n",
       "      <td>2.352033</td>\n",
       "      <td>-0.627629</td>\n",
       "      <td>2.221052</td>\n",
       "      <td>-0.511484</td>\n",
       "      <td>-0.310107</td>\n",
       "      <td>-0.524621</td>\n",
       "      <td>-0.144724</td>\n",
       "      <td>-0.261744</td>\n",
       "    </tr>\n",
       "    <tr>\n",
       "      <th>18299</th>\n",
       "      <td>-0.493970</td>\n",
       "      <td>-0.186046</td>\n",
       "      <td>0.100693</td>\n",
       "      <td>0.820681</td>\n",
       "      <td>1.823532</td>\n",
       "      <td>-0.411364</td>\n",
       "      <td>-1.120646</td>\n",
       "      <td>0.395606</td>\n",
       "      <td>-0.244772</td>\n",
       "      <td>-0.634653</td>\n",
       "      <td>...</td>\n",
       "      <td>0.968104</td>\n",
       "      <td>-0.438594</td>\n",
       "      <td>2.352033</td>\n",
       "      <td>-0.627629</td>\n",
       "      <td>-0.450237</td>\n",
       "      <td>-0.511484</td>\n",
       "      <td>-0.310107</td>\n",
       "      <td>-0.524621</td>\n",
       "      <td>-0.144724</td>\n",
       "      <td>-0.261744</td>\n",
       "    </tr>\n",
       "    <tr>\n",
       "      <th>10221</th>\n",
       "      <td>0.459781</td>\n",
       "      <td>-0.186046</td>\n",
       "      <td>-0.370196</td>\n",
       "      <td>-0.489588</td>\n",
       "      <td>-0.578656</td>\n",
       "      <td>-0.411364</td>\n",
       "      <td>0.892343</td>\n",
       "      <td>2.639088</td>\n",
       "      <td>-0.244772</td>\n",
       "      <td>1.575663</td>\n",
       "      <td>...</td>\n",
       "      <td>-1.032947</td>\n",
       "      <td>-0.438594</td>\n",
       "      <td>-0.425164</td>\n",
       "      <td>1.593298</td>\n",
       "      <td>-0.450237</td>\n",
       "      <td>1.955096</td>\n",
       "      <td>-0.310107</td>\n",
       "      <td>-0.524621</td>\n",
       "      <td>-0.144724</td>\n",
       "      <td>-0.261744</td>\n",
       "    </tr>\n",
       "    <tr>\n",
       "      <th>32192</th>\n",
       "      <td>0.027674</td>\n",
       "      <td>-0.186046</td>\n",
       "      <td>1.419181</td>\n",
       "      <td>0.706889</td>\n",
       "      <td>-0.098218</td>\n",
       "      <td>-0.411364</td>\n",
       "      <td>-1.120646</td>\n",
       "      <td>-0.245389</td>\n",
       "      <td>-0.244772</td>\n",
       "      <td>-0.634653</td>\n",
       "      <td>...</td>\n",
       "      <td>-1.032947</td>\n",
       "      <td>-0.438594</td>\n",
       "      <td>-0.425164</td>\n",
       "      <td>-0.627629</td>\n",
       "      <td>-0.450237</td>\n",
       "      <td>-0.511484</td>\n",
       "      <td>-0.310107</td>\n",
       "      <td>1.906137</td>\n",
       "      <td>-0.144724</td>\n",
       "      <td>-0.261744</td>\n",
       "    </tr>\n",
       "    <tr>\n",
       "      <th>23098</th>\n",
       "      <td>0.000424</td>\n",
       "      <td>-0.186046</td>\n",
       "      <td>-0.181840</td>\n",
       "      <td>0.828951</td>\n",
       "      <td>1.222985</td>\n",
       "      <td>-0.411364</td>\n",
       "      <td>-1.120646</td>\n",
       "      <td>2.959585</td>\n",
       "      <td>-0.244772</td>\n",
       "      <td>-0.634653</td>\n",
       "      <td>...</td>\n",
       "      <td>0.968104</td>\n",
       "      <td>-0.438594</td>\n",
       "      <td>-0.425164</td>\n",
       "      <td>1.593298</td>\n",
       "      <td>2.221052</td>\n",
       "      <td>-0.511484</td>\n",
       "      <td>-0.310107</td>\n",
       "      <td>-0.524621</td>\n",
       "      <td>-0.144724</td>\n",
       "      <td>-0.261744</td>\n",
       "    </tr>\n",
       "    <tr>\n",
       "      <th>6633</th>\n",
       "      <td>0.015995</td>\n",
       "      <td>-0.186046</td>\n",
       "      <td>-1.029440</td>\n",
       "      <td>-0.169381</td>\n",
       "      <td>1.463204</td>\n",
       "      <td>-0.411364</td>\n",
       "      <td>0.892343</td>\n",
       "      <td>1.036601</td>\n",
       "      <td>-0.244772</td>\n",
       "      <td>1.575663</td>\n",
       "      <td>...</td>\n",
       "      <td>-1.032947</td>\n",
       "      <td>-0.438594</td>\n",
       "      <td>-0.425164</td>\n",
       "      <td>1.593298</td>\n",
       "      <td>-0.450237</td>\n",
       "      <td>1.955096</td>\n",
       "      <td>-0.310107</td>\n",
       "      <td>-0.524621</td>\n",
       "      <td>-0.144724</td>\n",
       "      <td>-0.261744</td>\n",
       "    </tr>\n",
       "    <tr>\n",
       "      <th>313</th>\n",
       "      <td>-0.166969</td>\n",
       "      <td>-0.186046</td>\n",
       "      <td>-0.370196</td>\n",
       "      <td>-0.318569</td>\n",
       "      <td>-1.299312</td>\n",
       "      <td>-0.411364</td>\n",
       "      <td>0.892343</td>\n",
       "      <td>-0.245389</td>\n",
       "      <td>-0.244772</td>\n",
       "      <td>1.575663</td>\n",
       "      <td>...</td>\n",
       "      <td>0.968104</td>\n",
       "      <td>2.280013</td>\n",
       "      <td>-0.425164</td>\n",
       "      <td>-0.627629</td>\n",
       "      <td>-0.450237</td>\n",
       "      <td>-0.511484</td>\n",
       "      <td>-0.310107</td>\n",
       "      <td>-0.524621</td>\n",
       "      <td>-0.144724</td>\n",
       "      <td>-0.261744</td>\n",
       "    </tr>\n",
       "    <tr>\n",
       "      <th>12525</th>\n",
       "      <td>-0.420005</td>\n",
       "      <td>-0.186046</td>\n",
       "      <td>-1.406151</td>\n",
       "      <td>-0.268619</td>\n",
       "      <td>-1.539531</td>\n",
       "      <td>-0.411364</td>\n",
       "      <td>-1.120646</td>\n",
       "      <td>-0.565886</td>\n",
       "      <td>-0.244772</td>\n",
       "      <td>1.575663</td>\n",
       "      <td>...</td>\n",
       "      <td>0.968104</td>\n",
       "      <td>-0.438594</td>\n",
       "      <td>2.352033</td>\n",
       "      <td>-0.627629</td>\n",
       "      <td>-0.450237</td>\n",
       "      <td>-0.511484</td>\n",
       "      <td>-0.310107</td>\n",
       "      <td>-0.524621</td>\n",
       "      <td>-0.144724</td>\n",
       "      <td>-0.261744</td>\n",
       "    </tr>\n",
       "    <tr>\n",
       "      <th>44313</th>\n",
       "      <td>0.323531</td>\n",
       "      <td>5.375026</td>\n",
       "      <td>1.325003</td>\n",
       "      <td>-0.013578</td>\n",
       "      <td>1.463204</td>\n",
       "      <td>0.507660</td>\n",
       "      <td>-1.120646</td>\n",
       "      <td>-0.565886</td>\n",
       "      <td>0.598884</td>\n",
       "      <td>-0.634653</td>\n",
       "      <td>...</td>\n",
       "      <td>-1.032947</td>\n",
       "      <td>-0.438594</td>\n",
       "      <td>2.352033</td>\n",
       "      <td>-0.627629</td>\n",
       "      <td>2.221052</td>\n",
       "      <td>-0.511484</td>\n",
       "      <td>-0.310107</td>\n",
       "      <td>-0.524621</td>\n",
       "      <td>-0.144724</td>\n",
       "      <td>-0.261744</td>\n",
       "    </tr>\n",
       "  </tbody>\n",
       "</table>\n",
       "<p>10 rows × 30 columns</p>\n",
       "</div>"
      ],
      "text/plain": [
       "       duration  poutcome_success       age   balance  day_of_week     pdays  \\\n",
       "3344  -0.719756         -0.186046  0.006515 -0.169381    -0.098218 -0.411364   \n",
       "17965  0.047138         -0.186046  0.759937  0.017848     1.703422 -0.411364   \n",
       "18299 -0.493970         -0.186046  0.100693  0.820681     1.823532 -0.411364   \n",
       "10221  0.459781         -0.186046 -0.370196 -0.489588    -0.578656 -0.411364   \n",
       "32192  0.027674         -0.186046  1.419181  0.706889    -0.098218 -0.411364   \n",
       "23098  0.000424         -0.186046 -0.181840  0.828951     1.222985 -0.411364   \n",
       "6633   0.015995         -0.186046 -1.029440 -0.169381     1.463204 -0.411364   \n",
       "313   -0.166969         -0.186046 -0.370196 -0.318569    -1.299312 -0.411364   \n",
       "12525 -0.420005         -0.186046 -1.406151 -0.268619    -1.539531 -0.411364   \n",
       "44313  0.323531          5.375026  1.325003 -0.013578     1.463204  0.507660   \n",
       "\n",
       "        housing  campaign  previous  contact_unknown  ...  \\\n",
       "3344   0.892343 -0.565886 -0.244772         1.575663  ...   \n",
       "17965  0.892343 -0.245389 -0.244772        -0.634653  ...   \n",
       "18299 -1.120646  0.395606 -0.244772        -0.634653  ...   \n",
       "10221  0.892343  2.639088 -0.244772         1.575663  ...   \n",
       "32192 -1.120646 -0.245389 -0.244772        -0.634653  ...   \n",
       "23098 -1.120646  2.959585 -0.244772        -0.634653  ...   \n",
       "6633   0.892343  1.036601 -0.244772         1.575663  ...   \n",
       "313    0.892343 -0.245389 -0.244772         1.575663  ...   \n",
       "12525 -1.120646 -0.565886 -0.244772         1.575663  ...   \n",
       "44313 -1.120646 -0.565886  0.598884        -0.634653  ...   \n",
       "\n",
       "       education_secondary      loan  month_jul  marital_single  \\\n",
       "3344             -1.032947 -0.438594  -0.425164       -0.627629   \n",
       "17965            -1.032947 -0.438594   2.352033       -0.627629   \n",
       "18299             0.968104 -0.438594   2.352033       -0.627629   \n",
       "10221            -1.032947 -0.438594  -0.425164        1.593298   \n",
       "32192            -1.032947 -0.438594  -0.425164       -0.627629   \n",
       "23098             0.968104 -0.438594  -0.425164        1.593298   \n",
       "6633             -1.032947 -0.438594  -0.425164        1.593298   \n",
       "313               0.968104  2.280013  -0.425164       -0.627629   \n",
       "12525             0.968104 -0.438594   2.352033       -0.627629   \n",
       "44313            -1.032947 -0.438594   2.352033       -0.627629   \n",
       "\n",
       "       job_technician  job_management  month_nov  job_blue-collar  \\\n",
       "3344        -0.450237       -0.511484  -0.310107         1.906137   \n",
       "17965        2.221052       -0.511484  -0.310107        -0.524621   \n",
       "18299       -0.450237       -0.511484  -0.310107        -0.524621   \n",
       "10221       -0.450237        1.955096  -0.310107        -0.524621   \n",
       "32192       -0.450237       -0.511484  -0.310107         1.906137   \n",
       "23098        2.221052       -0.511484  -0.310107        -0.524621   \n",
       "6633        -0.450237        1.955096  -0.310107        -0.524621   \n",
       "313         -0.450237       -0.511484  -0.310107        -0.524621   \n",
       "12525       -0.450237       -0.511484  -0.310107        -0.524621   \n",
       "44313        2.221052       -0.511484  -0.310107        -0.524621   \n",
       "\n",
       "       job_student  contact_telephone  \n",
       "3344     -0.144724          -0.261744  \n",
       "17965    -0.144724          -0.261744  \n",
       "18299    -0.144724          -0.261744  \n",
       "10221    -0.144724          -0.261744  \n",
       "32192    -0.144724          -0.261744  \n",
       "23098    -0.144724          -0.261744  \n",
       "6633     -0.144724          -0.261744  \n",
       "313      -0.144724          -0.261744  \n",
       "12525    -0.144724          -0.261744  \n",
       "44313    -0.144724          -0.261744  \n",
       "\n",
       "[10 rows x 30 columns]"
      ]
     },
     "execution_count": 95,
     "metadata": {},
     "output_type": "execute_result"
    }
   ],
   "source": [
    "X_train, X_test, y_train, y_test = train_test_split(new_df, y, test_size=0.2, random_state=42)\n",
    "scaler = StandardScaler()\n",
    "features =list(X_train.columns)\n",
    "X_train[features] = scaler.fit_transform(X_train[list(features)])\n",
    "X_test[features] = scaler.transform(X_test[list(features)])\n",
    "X_train.head(10)"
   ]
  },
  {
   "cell_type": "code",
   "execution_count": 96,
   "metadata": {},
   "outputs": [
    {
     "name": "stderr",
     "output_type": "stream",
     "text": [
      "C:\\Users\\peter\\AppData\\Local\\Programs\\Python\\Python311\\Lib\\site-packages\\sklearn\\base.py:1152: DataConversionWarning: A column-vector y was passed when a 1d array was expected. Please change the shape of y to (n_samples,), for example using ravel().\n",
      "  return fit_method(estimator, *args, **kwargs)\n"
     ]
    },
    {
     "name": "stdout",
     "output_type": "stream",
     "text": [
      "RandomForestClassifier(max_depth=15, n_estimators=200, random_state=42)\n",
      "best parametrs:  {'max_depth': 15, 'n_estimators': 200}\n",
      "Accuracy is: 0.903\n",
      "F1_Score is: 0.48\n"
     ]
    }
   ],
   "source": [
    "parameters = {'C' :np.logspace(-2, 4, 7)}\n",
    "params = [\n",
    "    {\n",
    "        'n_estimators': [10, 20, 50, 100, 200],\n",
    "        'max_depth': np.arange(2, 16, 1),\n",
    "    }\n",
    "]\n",
    "model = RandomForestClassifier(random_state=SEED)\n",
    "#grid = GridSearchCV(param_grid=params, scoring='r2', cv=5, verbose=True)\n",
    "log_reg = GridSearchCV(model, params, scoring='r2' ,cv=5, n_jobs = -1, verbose=False)\n",
    "log_reg.fit(X_train, y_train)\n",
    "print(log_reg.best_estimator_)\n",
    "print('best parametrs: ', log_reg.best_params_)\n",
    "#model = LogisticRegression(random_state=12345, solver='liblinear')\n",
    "#model.fit(X_train, y_train)\n",
    "predicted_test = log_reg.best_estimator_.predict(X_test)\n",
    "accuracy_test = accuracy_score(predicted_test, y_test)\n",
    "print('Accuracy is:', round(accuracy_test,3) )\n",
    "print('F1_Score is:', round(f1_score(y_test, predicted_test),3))\n",
    "model = log_reg.best_estimator_"
   ]
  },
  {
   "cell_type": "code",
   "execution_count": 97,
   "metadata": {},
   "outputs": [
    {
     "data": {
      "text/plain": [
       "0.925"
      ]
     },
     "execution_count": 97,
     "metadata": {},
     "output_type": "execute_result"
    }
   ],
   "source": [
    "probabilities_valid = model.predict_proba(X_test)\n",
    "probabilities_one_valid = probabilities_valid[:, 1]\n",
    "round(roc_auc_score(y_test, probabilities_one_valid),3)"
   ]
  },
  {
   "cell_type": "code",
   "execution_count": 98,
   "metadata": {},
   "outputs": [
    {
     "name": "stderr",
     "output_type": "stream",
     "text": [
      "C:\\Users\\peter\\AppData\\Local\\Programs\\Python\\Python311\\Lib\\site-packages\\sklearn\\base.py:1152: DataConversionWarning: A column-vector y was passed when a 1d array was expected. Please change the shape of y to (n_samples,), for example using ravel().\n",
      "  return fit_method(estimator, *args, **kwargs)\n"
     ]
    },
    {
     "name": "stdout",
     "output_type": "stream",
     "text": [
      "age,duration,poutcome_success\n"
     ]
    }
   ],
   "source": [
    "reg = model\n",
    "reg.fit(X_train, y_train)\n",
    "d = {'weight': reg.feature_importances_, 'name': list(X_train.keys())}\n",
    "dw = pd.DataFrame(data=d)\n",
    "dw['weight'] = abs(dw['weight'])\n",
    "q_16 = list(dw.sort_values(by=['weight'], ascending = False).head(3)['name'])\n",
    "list_answer(q_16)"
   ]
  },
  {
   "cell_type": "markdown",
   "metadata": {},
   "source": [
    "There is no big changes. May be weight of other features was too small, so we gain not beteer model"
   ]
  },
  {
   "cell_type": "markdown",
   "metadata": {},
   "source": [
    "------\n",
    "## Q19 (2 points) Analysis\n",
    "Analyze the resulting top-3 features of three previously considered methods. Are they consistent with each other. Are there any strange features among top features of any feature selection algorithm? Please, write your thoughts here.\n",
    "\n",
    "----"
   ]
  },
  {
   "cell_type": "markdown",
   "metadata": {},
   "source": [
    "1st method: contact_unknown,duration,poutcome_success  \n",
    "2nd method: age,duration,poutcome_success\n",
    "3rd method: age,duration,poutcome_success"
   ]
  },
  {
   "cell_type": "markdown",
   "metadata": {},
   "source": [
    "As you can see - the most important features are the same for the random forest. This is logical - because the best 30 features were left. However, in Logistic regression the attributes are different. Obviously, the length of the conversation and the profitability of the past company are the most important attributes. This is logical - if the client hangs up immediately - it is unlikely that something was successful, and high profitability in the past inspires confidence. However, in the third attribute we see a difference - age and unknown type of communication. The last feature is strange, it is more logical to assume that at different ages people have different comfortable risk, and therefore are more or less inclined to open a term deposit. But perhaps there is some most effective way to persuade a client that is not specified."
   ]
  },
  {
   "cell_type": "markdown",
   "metadata": {},
   "source": [
    "## Q20 Build the stronger model\n",
    "\n",
    "#### 20.1 (3 points) Generate two (or more) meaningfull features. \n",
    "Feel free to change the preprocessing, if you need it (eg. explicitly use categorical features for CatBoost).\n",
    "\n",
    "Also, feel free to select features, etc. The pipeline is up to you.\n",
    "#### (3 points) Train a gradient boosting, that beats random forest using:\n",
    "#### 20.2 `XGBoost`\n",
    "#### 20.3 `CatBoost`"
   ]
  },
  {
   "cell_type": "markdown",
   "metadata": {},
   "source": [
    "We can add culumn \"non-dialing\" if the duration was less than 25 seconds. Usually this sign is used in banks, because 25 seconds is the duration of ringing tone."
   ]
  },
  {
   "cell_type": "code",
   "execution_count": 99,
   "metadata": {},
   "outputs": [],
   "source": [
    "df['non-dialing']=(df['duration']>=25).astype(int)"
   ]
  },
  {
   "cell_type": "code",
   "execution_count": 100,
   "metadata": {},
   "outputs": [
    {
     "data": {
      "text/plain": [
       "1362.2720576850766"
      ]
     },
     "execution_count": 100,
     "metadata": {},
     "output_type": "execute_result"
    }
   ],
   "source": [
    "df['balance'].mean()"
   ]
  },
  {
   "cell_type": "markdown",
   "metadata": {},
   "source": [
    "If someone have more then 1362 on balance, that means, that he have more money, may be such people are more likely to open time deposits because they have free funds"
   ]
  },
  {
   "cell_type": "code",
   "execution_count": 101,
   "metadata": {},
   "outputs": [],
   "source": [
    "df['free-fonds']=(df['balance']>=1362).astype(int)"
   ]
  },
  {
   "cell_type": "code",
   "execution_count": 102,
   "metadata": {
    "scrolled": true
   },
   "outputs": [
    {
     "data": {
      "text/html": [
       "<div>\n",
       "<style scoped>\n",
       "    .dataframe tbody tr th:only-of-type {\n",
       "        vertical-align: middle;\n",
       "    }\n",
       "\n",
       "    .dataframe tbody tr th {\n",
       "        vertical-align: top;\n",
       "    }\n",
       "\n",
       "    .dataframe thead th {\n",
       "        text-align: right;\n",
       "    }\n",
       "</style>\n",
       "<table border=\"1\" class=\"dataframe\">\n",
       "  <thead>\n",
       "    <tr style=\"text-align: right;\">\n",
       "      <th></th>\n",
       "      <th>age</th>\n",
       "      <th>default</th>\n",
       "      <th>balance</th>\n",
       "      <th>housing</th>\n",
       "      <th>loan</th>\n",
       "      <th>day_of_week</th>\n",
       "      <th>duration</th>\n",
       "      <th>campaign</th>\n",
       "      <th>pdays</th>\n",
       "      <th>previous</th>\n",
       "      <th>...</th>\n",
       "      <th>month_mar</th>\n",
       "      <th>month_may</th>\n",
       "      <th>month_nov</th>\n",
       "      <th>month_oct</th>\n",
       "      <th>month_sep</th>\n",
       "      <th>poutcome_other</th>\n",
       "      <th>poutcome_success</th>\n",
       "      <th>poutcome_unknown</th>\n",
       "      <th>non-dialing</th>\n",
       "      <th>free-fonds</th>\n",
       "    </tr>\n",
       "  </thead>\n",
       "  <tbody>\n",
       "    <tr>\n",
       "      <th>33627</th>\n",
       "      <td>37</td>\n",
       "      <td>0</td>\n",
       "      <td>2390</td>\n",
       "      <td>1</td>\n",
       "      <td>0</td>\n",
       "      <td>20</td>\n",
       "      <td>20</td>\n",
       "      <td>2</td>\n",
       "      <td>335</td>\n",
       "      <td>12</td>\n",
       "      <td>...</td>\n",
       "      <td>0</td>\n",
       "      <td>0</td>\n",
       "      <td>0</td>\n",
       "      <td>0</td>\n",
       "      <td>0</td>\n",
       "      <td>0</td>\n",
       "      <td>0</td>\n",
       "      <td>0</td>\n",
       "      <td>0</td>\n",
       "      <td>1</td>\n",
       "    </tr>\n",
       "    <tr>\n",
       "      <th>35581</th>\n",
       "      <td>25</td>\n",
       "      <td>0</td>\n",
       "      <td>933</td>\n",
       "      <td>1</td>\n",
       "      <td>0</td>\n",
       "      <td>7</td>\n",
       "      <td>463</td>\n",
       "      <td>2</td>\n",
       "      <td>-1</td>\n",
       "      <td>0</td>\n",
       "      <td>...</td>\n",
       "      <td>0</td>\n",
       "      <td>1</td>\n",
       "      <td>0</td>\n",
       "      <td>0</td>\n",
       "      <td>0</td>\n",
       "      <td>0</td>\n",
       "      <td>0</td>\n",
       "      <td>1</td>\n",
       "      <td>1</td>\n",
       "      <td>0</td>\n",
       "    </tr>\n",
       "    <tr>\n",
       "      <th>2503</th>\n",
       "      <td>51</td>\n",
       "      <td>0</td>\n",
       "      <td>3132</td>\n",
       "      <td>0</td>\n",
       "      <td>0</td>\n",
       "      <td>13</td>\n",
       "      <td>459</td>\n",
       "      <td>1</td>\n",
       "      <td>-1</td>\n",
       "      <td>0</td>\n",
       "      <td>...</td>\n",
       "      <td>0</td>\n",
       "      <td>1</td>\n",
       "      <td>0</td>\n",
       "      <td>0</td>\n",
       "      <td>0</td>\n",
       "      <td>0</td>\n",
       "      <td>0</td>\n",
       "      <td>1</td>\n",
       "      <td>1</td>\n",
       "      <td>1</td>\n",
       "    </tr>\n",
       "    <tr>\n",
       "      <th>35730</th>\n",
       "      <td>48</td>\n",
       "      <td>0</td>\n",
       "      <td>5078</td>\n",
       "      <td>1</td>\n",
       "      <td>0</td>\n",
       "      <td>8</td>\n",
       "      <td>139</td>\n",
       "      <td>1</td>\n",
       "      <td>-1</td>\n",
       "      <td>0</td>\n",
       "      <td>...</td>\n",
       "      <td>0</td>\n",
       "      <td>1</td>\n",
       "      <td>0</td>\n",
       "      <td>0</td>\n",
       "      <td>0</td>\n",
       "      <td>0</td>\n",
       "      <td>0</td>\n",
       "      <td>1</td>\n",
       "      <td>1</td>\n",
       "      <td>1</td>\n",
       "    </tr>\n",
       "    <tr>\n",
       "      <th>10266</th>\n",
       "      <td>40</td>\n",
       "      <td>0</td>\n",
       "      <td>240</td>\n",
       "      <td>0</td>\n",
       "      <td>0</td>\n",
       "      <td>12</td>\n",
       "      <td>68</td>\n",
       "      <td>4</td>\n",
       "      <td>-1</td>\n",
       "      <td>0</td>\n",
       "      <td>...</td>\n",
       "      <td>0</td>\n",
       "      <td>0</td>\n",
       "      <td>0</td>\n",
       "      <td>0</td>\n",
       "      <td>0</td>\n",
       "      <td>0</td>\n",
       "      <td>0</td>\n",
       "      <td>1</td>\n",
       "      <td>1</td>\n",
       "      <td>0</td>\n",
       "    </tr>\n",
       "    <tr>\n",
       "      <th>8937</th>\n",
       "      <td>29</td>\n",
       "      <td>0</td>\n",
       "      <td>68</td>\n",
       "      <td>1</td>\n",
       "      <td>0</td>\n",
       "      <td>4</td>\n",
       "      <td>69</td>\n",
       "      <td>4</td>\n",
       "      <td>-1</td>\n",
       "      <td>0</td>\n",
       "      <td>...</td>\n",
       "      <td>0</td>\n",
       "      <td>0</td>\n",
       "      <td>0</td>\n",
       "      <td>0</td>\n",
       "      <td>0</td>\n",
       "      <td>0</td>\n",
       "      <td>0</td>\n",
       "      <td>1</td>\n",
       "      <td>1</td>\n",
       "      <td>0</td>\n",
       "    </tr>\n",
       "    <tr>\n",
       "      <th>576</th>\n",
       "      <td>53</td>\n",
       "      <td>0</td>\n",
       "      <td>288</td>\n",
       "      <td>0</td>\n",
       "      <td>0</td>\n",
       "      <td>6</td>\n",
       "      <td>69</td>\n",
       "      <td>1</td>\n",
       "      <td>-1</td>\n",
       "      <td>0</td>\n",
       "      <td>...</td>\n",
       "      <td>0</td>\n",
       "      <td>1</td>\n",
       "      <td>0</td>\n",
       "      <td>0</td>\n",
       "      <td>0</td>\n",
       "      <td>0</td>\n",
       "      <td>0</td>\n",
       "      <td>1</td>\n",
       "      <td>1</td>\n",
       "      <td>0</td>\n",
       "    </tr>\n",
       "    <tr>\n",
       "      <th>7791</th>\n",
       "      <td>46</td>\n",
       "      <td>0</td>\n",
       "      <td>-287</td>\n",
       "      <td>1</td>\n",
       "      <td>0</td>\n",
       "      <td>30</td>\n",
       "      <td>113</td>\n",
       "      <td>3</td>\n",
       "      <td>-1</td>\n",
       "      <td>0</td>\n",
       "      <td>...</td>\n",
       "      <td>0</td>\n",
       "      <td>1</td>\n",
       "      <td>0</td>\n",
       "      <td>0</td>\n",
       "      <td>0</td>\n",
       "      <td>0</td>\n",
       "      <td>0</td>\n",
       "      <td>1</td>\n",
       "      <td>1</td>\n",
       "      <td>0</td>\n",
       "    </tr>\n",
       "    <tr>\n",
       "      <th>10105</th>\n",
       "      <td>39</td>\n",
       "      <td>0</td>\n",
       "      <td>393</td>\n",
       "      <td>1</td>\n",
       "      <td>0</td>\n",
       "      <td>11</td>\n",
       "      <td>339</td>\n",
       "      <td>1</td>\n",
       "      <td>-1</td>\n",
       "      <td>0</td>\n",
       "      <td>...</td>\n",
       "      <td>0</td>\n",
       "      <td>0</td>\n",
       "      <td>0</td>\n",
       "      <td>0</td>\n",
       "      <td>0</td>\n",
       "      <td>0</td>\n",
       "      <td>0</td>\n",
       "      <td>1</td>\n",
       "      <td>1</td>\n",
       "      <td>0</td>\n",
       "    </tr>\n",
       "    <tr>\n",
       "      <th>443</th>\n",
       "      <td>24</td>\n",
       "      <td>0</td>\n",
       "      <td>0</td>\n",
       "      <td>1</td>\n",
       "      <td>0</td>\n",
       "      <td>6</td>\n",
       "      <td>278</td>\n",
       "      <td>1</td>\n",
       "      <td>-1</td>\n",
       "      <td>0</td>\n",
       "      <td>...</td>\n",
       "      <td>0</td>\n",
       "      <td>1</td>\n",
       "      <td>0</td>\n",
       "      <td>0</td>\n",
       "      <td>0</td>\n",
       "      <td>0</td>\n",
       "      <td>0</td>\n",
       "      <td>1</td>\n",
       "      <td>1</td>\n",
       "      <td>0</td>\n",
       "    </tr>\n",
       "  </tbody>\n",
       "</table>\n",
       "<p>10 rows × 45 columns</p>\n",
       "</div>"
      ],
      "text/plain": [
       "       age  default  balance  housing  loan  day_of_week  duration  campaign  \\\n",
       "33627   37        0     2390        1     0           20        20         2   \n",
       "35581   25        0      933        1     0            7       463         2   \n",
       "2503    51        0     3132        0     0           13       459         1   \n",
       "35730   48        0     5078        1     0            8       139         1   \n",
       "10266   40        0      240        0     0           12        68         4   \n",
       "8937    29        0       68        1     0            4        69         4   \n",
       "576     53        0      288        0     0            6        69         1   \n",
       "7791    46        0     -287        1     0           30       113         3   \n",
       "10105   39        0      393        1     0           11       339         1   \n",
       "443     24        0        0        1     0            6       278         1   \n",
       "\n",
       "       pdays  previous  ...  month_mar  month_may  month_nov  month_oct  \\\n",
       "33627    335        12  ...          0          0          0          0   \n",
       "35581     -1         0  ...          0          1          0          0   \n",
       "2503      -1         0  ...          0          1          0          0   \n",
       "35730     -1         0  ...          0          1          0          0   \n",
       "10266     -1         0  ...          0          0          0          0   \n",
       "8937      -1         0  ...          0          0          0          0   \n",
       "576       -1         0  ...          0          1          0          0   \n",
       "7791      -1         0  ...          0          1          0          0   \n",
       "10105     -1         0  ...          0          0          0          0   \n",
       "443       -1         0  ...          0          1          0          0   \n",
       "\n",
       "       month_sep  poutcome_other  poutcome_success  poutcome_unknown  \\\n",
       "33627          0               0                 0                 0   \n",
       "35581          0               0                 0                 1   \n",
       "2503           0               0                 0                 1   \n",
       "35730          0               0                 0                 1   \n",
       "10266          0               0                 0                 1   \n",
       "8937           0               0                 0                 1   \n",
       "576            0               0                 0                 1   \n",
       "7791           0               0                 0                 1   \n",
       "10105          0               0                 0                 1   \n",
       "443            0               0                 0                 1   \n",
       "\n",
       "       non-dialing  free-fonds  \n",
       "33627            0           1  \n",
       "35581            1           0  \n",
       "2503             1           1  \n",
       "35730            1           1  \n",
       "10266            1           0  \n",
       "8937             1           0  \n",
       "576              1           0  \n",
       "7791             1           0  \n",
       "10105            1           0  \n",
       "443              1           0  \n",
       "\n",
       "[10 rows x 45 columns]"
      ]
     },
     "execution_count": 102,
     "metadata": {},
     "output_type": "execute_result"
    }
   ],
   "source": [
    "df.sample(10)"
   ]
  },
  {
   "cell_type": "code",
   "execution_count": 103,
   "metadata": {
    "scrolled": true
   },
   "outputs": [
    {
     "data": {
      "text/html": [
       "<div>\n",
       "<style scoped>\n",
       "    .dataframe tbody tr th:only-of-type {\n",
       "        vertical-align: middle;\n",
       "    }\n",
       "\n",
       "    .dataframe tbody tr th {\n",
       "        vertical-align: top;\n",
       "    }\n",
       "\n",
       "    .dataframe thead th {\n",
       "        text-align: right;\n",
       "    }\n",
       "</style>\n",
       "<table border=\"1\" class=\"dataframe\">\n",
       "  <thead>\n",
       "    <tr style=\"text-align: right;\">\n",
       "      <th></th>\n",
       "      <th>age</th>\n",
       "      <th>default</th>\n",
       "      <th>balance</th>\n",
       "      <th>housing</th>\n",
       "      <th>loan</th>\n",
       "      <th>day_of_week</th>\n",
       "      <th>duration</th>\n",
       "      <th>campaign</th>\n",
       "      <th>pdays</th>\n",
       "      <th>previous</th>\n",
       "      <th>...</th>\n",
       "      <th>month_mar</th>\n",
       "      <th>month_may</th>\n",
       "      <th>month_nov</th>\n",
       "      <th>month_oct</th>\n",
       "      <th>month_sep</th>\n",
       "      <th>poutcome_other</th>\n",
       "      <th>poutcome_success</th>\n",
       "      <th>poutcome_unknown</th>\n",
       "      <th>non-dialing</th>\n",
       "      <th>free-fonds</th>\n",
       "    </tr>\n",
       "  </thead>\n",
       "  <tbody>\n",
       "    <tr>\n",
       "      <th>3344</th>\n",
       "      <td>0.006515</td>\n",
       "      <td>-0.138113</td>\n",
       "      <td>-0.169381</td>\n",
       "      <td>0.892343</td>\n",
       "      <td>-0.438594</td>\n",
       "      <td>-0.098218</td>\n",
       "      <td>-0.719756</td>\n",
       "      <td>-0.565886</td>\n",
       "      <td>-0.411364</td>\n",
       "      <td>-0.244772</td>\n",
       "      <td>...</td>\n",
       "      <td>-0.102219</td>\n",
       "      <td>1.516277</td>\n",
       "      <td>-0.310107</td>\n",
       "      <td>-0.129771</td>\n",
       "      <td>-0.113999</td>\n",
       "      <td>-0.207791</td>\n",
       "      <td>-0.186046</td>\n",
       "      <td>0.472806</td>\n",
       "      <td>0.19131</td>\n",
       "      <td>-0.592763</td>\n",
       "    </tr>\n",
       "    <tr>\n",
       "      <th>17965</th>\n",
       "      <td>0.759937</td>\n",
       "      <td>-0.138113</td>\n",
       "      <td>0.017848</td>\n",
       "      <td>0.892343</td>\n",
       "      <td>-0.438594</td>\n",
       "      <td>1.703422</td>\n",
       "      <td>0.047138</td>\n",
       "      <td>-0.245389</td>\n",
       "      <td>-0.411364</td>\n",
       "      <td>-0.244772</td>\n",
       "      <td>...</td>\n",
       "      <td>-0.102219</td>\n",
       "      <td>-0.659510</td>\n",
       "      <td>-0.310107</td>\n",
       "      <td>-0.129771</td>\n",
       "      <td>-0.113999</td>\n",
       "      <td>-0.207791</td>\n",
       "      <td>-0.186046</td>\n",
       "      <td>0.472806</td>\n",
       "      <td>0.19131</td>\n",
       "      <td>1.687016</td>\n",
       "    </tr>\n",
       "    <tr>\n",
       "      <th>18299</th>\n",
       "      <td>0.100693</td>\n",
       "      <td>-0.138113</td>\n",
       "      <td>0.820681</td>\n",
       "      <td>-1.120646</td>\n",
       "      <td>-0.438594</td>\n",
       "      <td>1.823532</td>\n",
       "      <td>-0.493970</td>\n",
       "      <td>0.395606</td>\n",
       "      <td>-0.411364</td>\n",
       "      <td>-0.244772</td>\n",
       "      <td>...</td>\n",
       "      <td>-0.102219</td>\n",
       "      <td>-0.659510</td>\n",
       "      <td>-0.310107</td>\n",
       "      <td>-0.129771</td>\n",
       "      <td>-0.113999</td>\n",
       "      <td>-0.207791</td>\n",
       "      <td>-0.186046</td>\n",
       "      <td>0.472806</td>\n",
       "      <td>0.19131</td>\n",
       "      <td>1.687016</td>\n",
       "    </tr>\n",
       "    <tr>\n",
       "      <th>10221</th>\n",
       "      <td>-0.370196</td>\n",
       "      <td>-0.138113</td>\n",
       "      <td>-0.489588</td>\n",
       "      <td>0.892343</td>\n",
       "      <td>-0.438594</td>\n",
       "      <td>-0.578656</td>\n",
       "      <td>0.459781</td>\n",
       "      <td>2.639088</td>\n",
       "      <td>-0.411364</td>\n",
       "      <td>-0.244772</td>\n",
       "      <td>...</td>\n",
       "      <td>-0.102219</td>\n",
       "      <td>-0.659510</td>\n",
       "      <td>-0.310107</td>\n",
       "      <td>-0.129771</td>\n",
       "      <td>-0.113999</td>\n",
       "      <td>-0.207791</td>\n",
       "      <td>-0.186046</td>\n",
       "      <td>0.472806</td>\n",
       "      <td>0.19131</td>\n",
       "      <td>-0.592763</td>\n",
       "    </tr>\n",
       "    <tr>\n",
       "      <th>32192</th>\n",
       "      <td>1.419181</td>\n",
       "      <td>-0.138113</td>\n",
       "      <td>0.706889</td>\n",
       "      <td>-1.120646</td>\n",
       "      <td>-0.438594</td>\n",
       "      <td>-0.098218</td>\n",
       "      <td>0.027674</td>\n",
       "      <td>-0.245389</td>\n",
       "      <td>-0.411364</td>\n",
       "      <td>-0.244772</td>\n",
       "      <td>...</td>\n",
       "      <td>-0.102219</td>\n",
       "      <td>-0.659510</td>\n",
       "      <td>-0.310107</td>\n",
       "      <td>-0.129771</td>\n",
       "      <td>-0.113999</td>\n",
       "      <td>-0.207791</td>\n",
       "      <td>-0.186046</td>\n",
       "      <td>0.472806</td>\n",
       "      <td>0.19131</td>\n",
       "      <td>1.687016</td>\n",
       "    </tr>\n",
       "    <tr>\n",
       "      <th>23098</th>\n",
       "      <td>-0.181840</td>\n",
       "      <td>-0.138113</td>\n",
       "      <td>0.828951</td>\n",
       "      <td>-1.120646</td>\n",
       "      <td>-0.438594</td>\n",
       "      <td>1.222985</td>\n",
       "      <td>0.000424</td>\n",
       "      <td>2.959585</td>\n",
       "      <td>-0.411364</td>\n",
       "      <td>-0.244772</td>\n",
       "      <td>...</td>\n",
       "      <td>-0.102219</td>\n",
       "      <td>-0.659510</td>\n",
       "      <td>-0.310107</td>\n",
       "      <td>-0.129771</td>\n",
       "      <td>-0.113999</td>\n",
       "      <td>-0.207791</td>\n",
       "      <td>-0.186046</td>\n",
       "      <td>0.472806</td>\n",
       "      <td>0.19131</td>\n",
       "      <td>1.687016</td>\n",
       "    </tr>\n",
       "    <tr>\n",
       "      <th>6633</th>\n",
       "      <td>-1.029440</td>\n",
       "      <td>-0.138113</td>\n",
       "      <td>-0.169381</td>\n",
       "      <td>0.892343</td>\n",
       "      <td>-0.438594</td>\n",
       "      <td>1.463204</td>\n",
       "      <td>0.015995</td>\n",
       "      <td>1.036601</td>\n",
       "      <td>-0.411364</td>\n",
       "      <td>-0.244772</td>\n",
       "      <td>...</td>\n",
       "      <td>-0.102219</td>\n",
       "      <td>1.516277</td>\n",
       "      <td>-0.310107</td>\n",
       "      <td>-0.129771</td>\n",
       "      <td>-0.113999</td>\n",
       "      <td>-0.207791</td>\n",
       "      <td>-0.186046</td>\n",
       "      <td>0.472806</td>\n",
       "      <td>0.19131</td>\n",
       "      <td>-0.592763</td>\n",
       "    </tr>\n",
       "    <tr>\n",
       "      <th>313</th>\n",
       "      <td>-0.370196</td>\n",
       "      <td>-0.138113</td>\n",
       "      <td>-0.318569</td>\n",
       "      <td>0.892343</td>\n",
       "      <td>2.280013</td>\n",
       "      <td>-1.299312</td>\n",
       "      <td>-0.166969</td>\n",
       "      <td>-0.245389</td>\n",
       "      <td>-0.411364</td>\n",
       "      <td>-0.244772</td>\n",
       "      <td>...</td>\n",
       "      <td>-0.102219</td>\n",
       "      <td>1.516277</td>\n",
       "      <td>-0.310107</td>\n",
       "      <td>-0.129771</td>\n",
       "      <td>-0.113999</td>\n",
       "      <td>-0.207791</td>\n",
       "      <td>-0.186046</td>\n",
       "      <td>0.472806</td>\n",
       "      <td>0.19131</td>\n",
       "      <td>-0.592763</td>\n",
       "    </tr>\n",
       "    <tr>\n",
       "      <th>12525</th>\n",
       "      <td>-1.406151</td>\n",
       "      <td>-0.138113</td>\n",
       "      <td>-0.268619</td>\n",
       "      <td>-1.120646</td>\n",
       "      <td>-0.438594</td>\n",
       "      <td>-1.539531</td>\n",
       "      <td>-0.420005</td>\n",
       "      <td>-0.565886</td>\n",
       "      <td>-0.411364</td>\n",
       "      <td>-0.244772</td>\n",
       "      <td>...</td>\n",
       "      <td>-0.102219</td>\n",
       "      <td>-0.659510</td>\n",
       "      <td>-0.310107</td>\n",
       "      <td>-0.129771</td>\n",
       "      <td>-0.113999</td>\n",
       "      <td>-0.207791</td>\n",
       "      <td>-0.186046</td>\n",
       "      <td>0.472806</td>\n",
       "      <td>0.19131</td>\n",
       "      <td>-0.592763</td>\n",
       "    </tr>\n",
       "    <tr>\n",
       "      <th>44313</th>\n",
       "      <td>1.325003</td>\n",
       "      <td>-0.138113</td>\n",
       "      <td>-0.013578</td>\n",
       "      <td>-1.120646</td>\n",
       "      <td>-0.438594</td>\n",
       "      <td>1.463204</td>\n",
       "      <td>0.323531</td>\n",
       "      <td>-0.565886</td>\n",
       "      <td>0.507660</td>\n",
       "      <td>0.598884</td>\n",
       "      <td>...</td>\n",
       "      <td>-0.102219</td>\n",
       "      <td>-0.659510</td>\n",
       "      <td>-0.310107</td>\n",
       "      <td>-0.129771</td>\n",
       "      <td>-0.113999</td>\n",
       "      <td>-0.207791</td>\n",
       "      <td>5.375026</td>\n",
       "      <td>-2.115033</td>\n",
       "      <td>0.19131</td>\n",
       "      <td>-0.592763</td>\n",
       "    </tr>\n",
       "  </tbody>\n",
       "</table>\n",
       "<p>10 rows × 45 columns</p>\n",
       "</div>"
      ],
      "text/plain": [
       "            age   default   balance   housing      loan  day_of_week  \\\n",
       "3344   0.006515 -0.138113 -0.169381  0.892343 -0.438594    -0.098218   \n",
       "17965  0.759937 -0.138113  0.017848  0.892343 -0.438594     1.703422   \n",
       "18299  0.100693 -0.138113  0.820681 -1.120646 -0.438594     1.823532   \n",
       "10221 -0.370196 -0.138113 -0.489588  0.892343 -0.438594    -0.578656   \n",
       "32192  1.419181 -0.138113  0.706889 -1.120646 -0.438594    -0.098218   \n",
       "23098 -0.181840 -0.138113  0.828951 -1.120646 -0.438594     1.222985   \n",
       "6633  -1.029440 -0.138113 -0.169381  0.892343 -0.438594     1.463204   \n",
       "313   -0.370196 -0.138113 -0.318569  0.892343  2.280013    -1.299312   \n",
       "12525 -1.406151 -0.138113 -0.268619 -1.120646 -0.438594    -1.539531   \n",
       "44313  1.325003 -0.138113 -0.013578 -1.120646 -0.438594     1.463204   \n",
       "\n",
       "       duration  campaign     pdays  previous  ...  month_mar  month_may  \\\n",
       "3344  -0.719756 -0.565886 -0.411364 -0.244772  ...  -0.102219   1.516277   \n",
       "17965  0.047138 -0.245389 -0.411364 -0.244772  ...  -0.102219  -0.659510   \n",
       "18299 -0.493970  0.395606 -0.411364 -0.244772  ...  -0.102219  -0.659510   \n",
       "10221  0.459781  2.639088 -0.411364 -0.244772  ...  -0.102219  -0.659510   \n",
       "32192  0.027674 -0.245389 -0.411364 -0.244772  ...  -0.102219  -0.659510   \n",
       "23098  0.000424  2.959585 -0.411364 -0.244772  ...  -0.102219  -0.659510   \n",
       "6633   0.015995  1.036601 -0.411364 -0.244772  ...  -0.102219   1.516277   \n",
       "313   -0.166969 -0.245389 -0.411364 -0.244772  ...  -0.102219   1.516277   \n",
       "12525 -0.420005 -0.565886 -0.411364 -0.244772  ...  -0.102219  -0.659510   \n",
       "44313  0.323531 -0.565886  0.507660  0.598884  ...  -0.102219  -0.659510   \n",
       "\n",
       "       month_nov  month_oct  month_sep  poutcome_other  poutcome_success  \\\n",
       "3344   -0.310107  -0.129771  -0.113999       -0.207791         -0.186046   \n",
       "17965  -0.310107  -0.129771  -0.113999       -0.207791         -0.186046   \n",
       "18299  -0.310107  -0.129771  -0.113999       -0.207791         -0.186046   \n",
       "10221  -0.310107  -0.129771  -0.113999       -0.207791         -0.186046   \n",
       "32192  -0.310107  -0.129771  -0.113999       -0.207791         -0.186046   \n",
       "23098  -0.310107  -0.129771  -0.113999       -0.207791         -0.186046   \n",
       "6633   -0.310107  -0.129771  -0.113999       -0.207791         -0.186046   \n",
       "313    -0.310107  -0.129771  -0.113999       -0.207791         -0.186046   \n",
       "12525  -0.310107  -0.129771  -0.113999       -0.207791         -0.186046   \n",
       "44313  -0.310107  -0.129771  -0.113999       -0.207791          5.375026   \n",
       "\n",
       "       poutcome_unknown  non-dialing  free-fonds  \n",
       "3344           0.472806      0.19131   -0.592763  \n",
       "17965          0.472806      0.19131    1.687016  \n",
       "18299          0.472806      0.19131    1.687016  \n",
       "10221          0.472806      0.19131   -0.592763  \n",
       "32192          0.472806      0.19131    1.687016  \n",
       "23098          0.472806      0.19131    1.687016  \n",
       "6633           0.472806      0.19131   -0.592763  \n",
       "313            0.472806      0.19131   -0.592763  \n",
       "12525          0.472806      0.19131   -0.592763  \n",
       "44313         -2.115033      0.19131   -0.592763  \n",
       "\n",
       "[10 rows x 45 columns]"
      ]
     },
     "execution_count": 103,
     "metadata": {},
     "output_type": "execute_result"
    }
   ],
   "source": [
    "X_train, X_test, y_train, y_test = train_test_split(df, y, test_size=0.2, random_state=42)\n",
    "scaler = StandardScaler()\n",
    "features =list(X_train.columns)\n",
    "X_train[features] = scaler.fit_transform(X_train[list(features)])\n",
    "X_test[features] = scaler.transform(X_test[list(features)])\n",
    "X_train.head(10)"
   ]
  },
  {
   "cell_type": "code",
   "execution_count": 104,
   "metadata": {},
   "outputs": [
    {
     "name": "stdout",
     "output_type": "stream",
     "text": [
      "Лучшие параметры:  {'learning_rate': 0.01, 'max_depth': 7, 'n_estimators': 1000}\n",
      "Лучшее значение ROC-AUC:  0.9343008555718075\n"
     ]
    }
   ],
   "source": [
    "from xgboost import XGBClassifier\n",
    "from sklearn.model_selection import GridSearchCV\n",
    "\n",
    "param_grid = {\n",
    "    'learning_rate': [0.1, 0.01, 0.001],\n",
    "    'n_estimators': [100, 500, 1000],\n",
    "    'max_depth': [3, 5, 7]\n",
    "}\n",
    "\n",
    "xgb_model = XGBClassifier()\n",
    "\n",
    "grid_search = GridSearchCV(estimator=xgb_model, param_grid=param_grid, cv=5, scoring='roc_auc', n_jobs=-1)\n",
    "grid_result = grid_search.fit(X_train, y_train)\n",
    "\n",
    "print(\"Лучшие параметры: \", grid_result.best_params_)\n",
    "print(\"Лучшее значение ROC-AUC: \", grid_result.best_score_)"
   ]
  },
  {
   "cell_type": "code",
   "execution_count": 106,
   "metadata": {},
   "outputs": [
    {
     "data": {
      "image/png": "[encoded data removed]",
      "text/plain": [
       "<Figure size 800x600 with 1 Axes>"
      ]
     },
     "metadata": {},
     "output_type": "display_data"
    }
   ],
   "source": [
    "model = grid_result.best_estimator_\n",
    "probabilities_valid = model.predict_proba(X_test)\n",
    "probabilities_one_valid = probabilities_valid[:, 1]\n",
    "\n",
    "\n",
    "# < постройте график >\n",
    "fpr, tpr, thresholds = roc_curve(y_test, probabilities_one_valid)\n",
    "plt.figure(figsize=(8, 6))\n",
    "plt.plot(fpr, tpr, color='orange', label='ROC curve (area = %0.2f)' % grid_result.best_score_)\n",
    "plt.plot([0, 1], [0, 1], color='darkblue', linestyle='--')\n",
    "plt.xlabel('False Positive Rate')\n",
    "plt.ylabel('True Positive Rate')\n",
    "plt.title('ROC-кривая')\n",
    "plt.legend(loc=\"lower right\")\n",
    "plt.show()"
   ]
  },
  {
   "cell_type": "code",
   "execution_count": null,
   "metadata": {},
   "outputs": [],
   "source": []
  },
  {
   "cell_type": "code",
   "execution_count": null,
   "metadata": {},
   "outputs": [],
   "source": []
  }
 ],
 "metadata": {
  "colab": {
   "name": "kickstarter.ipynb",
   "provenance": []
  },
  "kernelspec": {
   "display_name": "Python 3 (ipykernel)",
   "language": "python",
   "name": "python3"
  },
  "language_info": {
   "codemirror_mode": {
    "name": "ipython",
    "version": 3
   },
   "file_extension": ".py",
   "mimetype": "text/x-python",
   "name": "python",
   "nbconvert_exporter": "python",
   "pygments_lexer": "ipython3",
   "version": "3.11.2"
  }
 },
 "nbformat": 4,
 "nbformat_minor": 4
}
